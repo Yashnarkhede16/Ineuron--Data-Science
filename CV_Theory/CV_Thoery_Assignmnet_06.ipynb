{
  "nbformat": 4,
  "nbformat_minor": 0,
  "metadata": {
    "colab": {
      "provenance": []
    },
    "kernelspec": {
      "name": "python3",
      "display_name": "Python 3"
    },
    "language_info": {
      "name": "python"
    }
  },
  "cells": [
    {
      "cell_type": "markdown",
      "source": [
        "#CV Theory Assignment 06\n",
        "##Name := Yash Bhaskar Narkhede"
      ],
      "metadata": {
        "id": "hI9IF6OGxyuC"
      }
    },
    {
      "cell_type": "markdown",
      "source": [
        "#1. What is the difference between TRAINABLE and NON-TRAINABLE PARAMETERS?\n",
        "\n",
        "Ans: Trainable parameters are parameters that are manipulated by the learning algorithm during the training process, such as weights and biases in a neural network. Non-trainable parameters are parameters that remain fixed during the training process, such as the number of layers or the activation function in a neural network.\n",
        "\n",
        "#2. In the CNN architecture, where does the DROPOUT LAYER go?\n",
        "\n",
        "Ans: The dropout layer typically goes after the fully connected layers and before the output layer.\n",
        "\n",
        "#3. What is the optimal number of hidden layers to stack?\n",
        "\n",
        "Ans: The optimal number of hidden layers to stack depends on the complexity of the data and the type of neural network being used. Generally, more complex data requires more layers, whereas simpler data may require fewer layers. Generally, a range of 1 to 4 hidden layers is recommended, although in some cases more may be necessary.\n",
        "\n",
        "#4. In each layer, how many secret units or filters should there be?\n",
        "\n",
        "Ans: The number of secret units or filters in each layer will depend on the specific problem that the neural network is trying to solve. Generally, the more complex the problem, the more units or filters in each layer.\n",
        "\n",
        "#5. What should your initial learning rate be?\n",
        "\n",
        "Ans: The initial learning rate should be determined based on the type of problem that is being solved and the type of model being used. A general rule of thumb is to start with a small learning rate (e.g. 0.001) and increase it gradually as the model learns more.\n",
        "\n",
        "#6. What do you do with the activation function?\n",
        "\n",
        "Ans: The activation function is used to introduce non-linearity into the neural network. It is used to determine the output of the neural network based on the input and the weights of the neurons. The activation function is usually applied after the weighted sum of the inputs is calculated to determine the output of a neuron.\n",
        "\n",
        "#7. What is NORMALIZATION OF DATA?\n",
        "\n",
        "Ans: Normalization of data is the process of organizing a database to reduce data redundancy and improve data integrity. It involves dividing a database into two or more tables and defining relationships between the tables. Normalization usually involves dividing a database table into smaller tables and defining relationships between them. The goal is to isolate data so that additions, deletions, and modifications of a field can be made in just one table and then propagated through the rest of the database using the defined relationships.\n",
        "\n",
        "#8. What is IMAGE AUGMENTATION and how does it work?\n",
        "\n",
        "Ans: Image augmentation is a technique used to increase the size and diversity of a dataset of images by applying various transformations to each image in the dataset. These transformations can include rotation, scaling, flips, noise, and a variety of other effects. By applying these transformations to each image, it results in a larger dataset of images with different characteristics, which can be used to improve the performance of machine learning models.\n",
        "\n",
        "#9. What is DECLINE IN LEARNING RATE?\n",
        "\n",
        "Ans: Decline in learning rate is a phenomenon in which a student's ability to learn, retain, and recall information decreases over time. It can be caused by a number of factors, including fatigue, lack of motivation, boredom, and poor teaching methods. It is important for educators to recognize the signs of a decline in learning rate and provide students with the necessary tools and resources to help them improve their learning.\n",
        "\n",
        "#What does EARLY STOPPING CRITERIA mean?\n",
        "\n",
        "Ans: Early stopping criteria is a method used in machine learning to determine when to stop training a model. It monitors the performance of the model, such as accuracy and loss, and stops training when the performance has reached a certain threshold or plateau. This prevents the model from overfitting and ensures that the model is as accurate and efficient as possible.\n",
        "\n",
        ""
      ],
      "metadata": {
        "id": "ndg1A4g5x5fR"
      }
    },
    {
      "cell_type": "markdown",
      "source": [],
      "metadata": {
        "id": "dtnEGPdYyKUn"
      }
    },
    {
      "cell_type": "markdown",
      "source": [],
      "metadata": {
        "id": "6b90EShByKgx"
      }
    },
    {
      "cell_type": "code",
      "execution_count": null,
      "metadata": {
        "id": "U59STek3xpx_"
      },
      "outputs": [],
      "source": []
    }
  ]
}