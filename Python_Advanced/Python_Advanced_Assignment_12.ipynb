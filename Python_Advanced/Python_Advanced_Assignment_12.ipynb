{
  "nbformat": 4,
  "nbformat_minor": 0,
  "metadata": {
    "colab": {
      "provenance": []
    },
    "kernelspec": {
      "name": "python3",
      "display_name": "Python 3"
    },
    "language_info": {
      "name": "python"
    }
  },
  "cells": [
    {
      "cell_type": "markdown",
      "source": [
        "#Python Advanced Assignment 12\n",
        "##Name := Yash Bhaskar Narkhede"
      ],
      "metadata": {
        "id": "uyVkUOG8NW9x"
      }
    },
    {
      "cell_type": "markdown",
      "source": [
        "#Q1. Does assigning a value to a string's indexed character violate Python's string immutability ?\n",
        "Ans:\n",
        "\n",
        " String’s indexed character cannot to be assigned a New value , as Strings are immutable.\n",
        "Example:\n",
        "\n",
        "name = \"Reinforcement\"\n",
        "\n",
        "print(id(name)) #73472\n",
        "\n",
        "name[0] = \"V\" # Raises TypeError"
      ],
      "metadata": {
        "id": "o5WSGxjZNY_0"
      }
    },
    {
      "cell_type": "markdown",
      "source": [
        "#Q2. Does using the += operator to concatenate strings violate Python's string immutability? Why or why not ?\n",
        "Ans: \n",
        "\n",
        "+= operator is used to concatenate strings, it does not violate Python’s string immutability Property. Because doing so new creates a new association with data and variable. E.g. str_1=\"a\" and str_1+=\"b. effect of this statements to create string ab and reassign it to variable str_1, any string data is not actually modified.\n",
        "\n"
      ],
      "metadata": {
        "id": "SBBngfm0NjkN"
      }
    },
    {
      "cell_type": "code",
      "execution_count": 1,
      "metadata": {
        "colab": {
          "base_uri": "https://localhost:8080/"
        },
        "id": "E079ZIc0NTjJ",
        "outputId": "3ad1e267-5c19-4280-dc0b-4bc74b696d1c"
      },
      "outputs": [
        {
          "output_type": "stream",
          "name": "stdout",
          "text": [
            "140535570788656\n",
            "140535227180272\n"
          ]
        }
      ],
      "source": [
        "str_1 = 'a'\n",
        "print(id(str_1))\n",
        "str_1 += 'b'\n",
        "print(id(str_1))"
      ]
    },
    {
      "cell_type": "markdown",
      "source": [
        "#Q3. In Python, how many different ways are there to index a character?\n",
        "Ans:\n",
        "\n",
        " A Character in string can be indexed using string name followed by index number of character in square bracket. **Positive Indexing** i.e. first index is 0 an so on, or **Negative Indexing** i.e. last letter is -1 and so on can be used to index a character\n",
        "\n"
      ],
      "metadata": {
        "id": "P5VXvMXaNsvT"
      }
    },
    {
      "cell_type": "code",
      "source": [
        "in_string = \"iNeuron Full Stack Data Science\"\n",
        "print(in_string[9],in_string[10],in_string[2]) \n",
        "print(in_string[-1],in_string[-5],in_string[-2])"
      ],
      "metadata": {
        "colab": {
          "base_uri": "https://localhost:8080/"
        },
        "id": "1KUrpzoxN0at",
        "outputId": "56aa7480-2a41-488e-bd9a-54aeb07719da"
      },
      "execution_count": 2,
      "outputs": [
        {
          "output_type": "stream",
          "name": "stdout",
          "text": [
            "u l e\n",
            "e i c\n"
          ]
        }
      ]
    },
    {
      "cell_type": "markdown",
      "source": [
        "#Q4. What is the relationship between indexing and slicing?\n",
        "Ans: \n",
        "\n",
        "We can access elements of sequence datatypes by using slicing and indexing. Indexing is used to obtaining individual element while slicing for sequence of elements.\n",
        "\n"
      ],
      "metadata": {
        "id": "REnq0iSIN4G6"
      }
    },
    {
      "cell_type": "code",
      "source": [
        "in_string = \"iNeuron Full Stack Data Science\"\n",
        "print(in_string[1],in_string[3],in_string[5]) \n",
        "print(in_string[1:15])"
      ],
      "metadata": {
        "colab": {
          "base_uri": "https://localhost:8080/"
        },
        "id": "zuzfBNoSN7E1",
        "outputId": "a164f9c2-a469-4624-9c95-d0eef06b2f26"
      },
      "execution_count": 3,
      "outputs": [
        {
          "output_type": "stream",
          "name": "stdout",
          "text": [
            "N u o\n",
            "Neuron Full St\n"
          ]
        }
      ]
    },
    {
      "cell_type": "markdown",
      "source": [
        "#Q5. What is an indexed character's exact data type? What is the data form of a slicing-generated substring?\n",
        "Ans: \n",
        "\n",
        "Indexed characters and sliced substrings have datatype String.\n",
        "\n"
      ],
      "metadata": {
        "id": "fZN5y1wCOAFc"
      }
    },
    {
      "cell_type": "code",
      "source": [
        "in_string = \"iNeuron Full Stack Data Science\"\n",
        "print(type(in_string[3])) \n",
        "print(type(in_string[1:10])) "
      ],
      "metadata": {
        "colab": {
          "base_uri": "https://localhost:8080/"
        },
        "id": "TCmuXH37OEff",
        "outputId": "c8d6b30c-ce34-4e85-ec28-d4d4f3d135f9"
      },
      "execution_count": 4,
      "outputs": [
        {
          "output_type": "stream",
          "name": "stdout",
          "text": [
            "<class 'str'>\n",
            "<class 'str'>\n"
          ]
        }
      ]
    },
    {
      "cell_type": "markdown",
      "source": [
        "#Q6. What is the relationship between string and character \"types\" in Python?\n",
        "Ans: \n",
        "\n",
        "Object that contains sequence of character datatypes are called String.\n",
        "\n",
        "#Q7. Identify at least two operators & one method that allow you to combine one or more smaller strings to create a larger string ?\n",
        "Ans: \n",
        "\n",
        "+, += and * allow to combine one or more smaller strings to create a larger string. .join() method joins element of iterable type like list and tuple to get a combined string.\n",
        "\n"
      ],
      "metadata": {
        "id": "tTdcHMOHOIlj"
      }
    },
    {
      "cell_type": "code",
      "source": [
        "in_string = 'iNeuron '\n",
        "in_string += 'Full Stack Data Science'\n",
        "print(in_string + ' FSDS')\n",
        "print('FSDS '*3)\n",
        "print(\" \".join(['I','N','E','U','R','O','N'])) # List Iterable\n",
        "print(\" \".join(('I','N','E','U','R','O','N')).lower()) # Tuple Iterable"
      ],
      "metadata": {
        "colab": {
          "base_uri": "https://localhost:8080/"
        },
        "id": "ZuMXwi5sONbQ",
        "outputId": "d088ba68-e98b-4f93-8c11-6a70b97fb3d9"
      },
      "execution_count": 5,
      "outputs": [
        {
          "output_type": "stream",
          "name": "stdout",
          "text": [
            "iNeuron Full Stack Data Science FSDS\n",
            "FSDS FSDS FSDS \n",
            "I N E U R O N\n",
            "i n e u r o n\n"
          ]
        }
      ]
    },
    {
      "cell_type": "markdown",
      "source": [
        "#Q8. What is the benefit of first checking the target string with in or not in before using the index method to find a substring ?\n",
        "Ans: \n",
        "\n",
        "Checking the target string with in or not Operators before using the index method to find a substring just helps confirming availability of substring and thus avoid raising of ValueError.\n",
        "Example:\n",
        "in_string = \"ineuron\"\n",
        "\n",
        "in_string.index('x') # Raises ValueError\n",
        "\n",
        "in_string.index('u') # 3\n",
        "\n",
        "#Q9. Which operators and built-in string methods produce simple Boolean (true/false) results?\n",
        "Ans:\n",
        "\n",
        " The String Operators and built-in methods to Produce Simple Boolean (True/False) Results are:\n",
        "\n",
        "* in\n",
        "* not\n",
        "*.isalpha()\n",
        "*.isalnum()\n",
        "*.isdecimal()\n",
        "*.isdigit()\n",
        "*.islower()\n",
        "*.isnumeric()\n",
        "*.isprintable()\n",
        "*.isspace()\n",
        "*.istitle()"
      ],
      "metadata": {
        "id": "L2-N3PE8ORQ7"
      }
    },
    {
      "cell_type": "markdown",
      "source": [],
      "metadata": {
        "id": "RRyWw0GSOjKp"
      }
    }
  ]
}