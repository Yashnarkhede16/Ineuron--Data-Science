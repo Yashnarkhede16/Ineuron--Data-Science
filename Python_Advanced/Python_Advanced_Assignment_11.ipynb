{
  "nbformat": 4,
  "nbformat_minor": 0,
  "metadata": {
    "colab": {
      "provenance": []
    },
    "kernelspec": {
      "name": "python3",
      "display_name": "Python 3"
    },
    "language_info": {
      "name": "python"
    }
  },
  "cells": [
    {
      "cell_type": "markdown",
      "source": [
        "#Python Advanced Assignment 11\n",
        "##Name := Yash Bhaskar Narkhede"
      ],
      "metadata": {
        "id": "nV0cAVOpPFZW"
      }
    },
    {
      "cell_type": "markdown",
      "source": [
        "#Q1. What is the concept of a metaclass?\n",
        "Ans: \n",
        "\n",
        "Metaclass in Python is a class of a class that defines how a class behaves. A class is itself a instance of Metaclass, and any Instance of Class in Python is an Instance of type metaclass. E.g. Type of of int, str, float, list, tuple and many more is of metaclass type.\n",
        "\n",
        "#Q2. What is the best way to declare a class's metaclass?\n",
        "Ans:\n",
        "\n",
        " A way to declare a class’ metaclass is by using metaclass keyword in class definition.\n",
        "\n"
      ],
      "metadata": {
        "id": "9-rMc7o1PJiq"
      }
    },
    {
      "cell_type": "code",
      "source": [
        "class meta(type):\n",
        "    pass\n",
        "class class_meta(metaclass=meta):\n",
        "    pass\n",
        "print(type(meta))\n",
        "print(type(class_meta))"
      ],
      "metadata": {
        "colab": {
          "base_uri": "https://localhost:8080/"
        },
        "id": "MDeCCxA7PO04",
        "outputId": "4ee8e028-9569-4d18-91b9-6050802ece6a"
      },
      "execution_count": 1,
      "outputs": [
        {
          "output_type": "stream",
          "name": "stdout",
          "text": [
            "<class 'type'>\n",
            "<class '__main__.meta'>\n"
          ]
        }
      ]
    },
    {
      "cell_type": "markdown",
      "source": [
        "#Q3. How do class decorators overlap with metaclasses for handling classes ?\n",
        "Ans: \n",
        "\n",
        " Anything you can do with a class decorator, you can of course do with a custom metaclasses (just apply the functionality of the \"decorator function\", i.e., the one that takes a class object and modifies it, in the course of the metaclass's ____new____ or __init__ that make the class object!).\n",
        "\n",
        "#Q4. How do class decorators overlap with metaclasses for handling instances?\n",
        "Ans:\n",
        "\n",
        " Anything you can do with a class decorator, you can of course do with a custom metaclass (just apply the functionality of the \"decorator function\", i.e., the one that takes a class object and modifies it, in the course of the metaclass's __new__ or __init__ that make the class object!)."
      ],
      "metadata": {
        "id": "u9zK5h2DPSpA"
      }
    },
    {
      "cell_type": "markdown",
      "source": [],
      "metadata": {
        "id": "lfFGIDqtPlhc"
      }
    },
    {
      "cell_type": "code",
      "execution_count": null,
      "metadata": {
        "id": "zfTIeqe5PB3G"
      },
      "outputs": [],
      "source": []
    }
  ]
}