{
  "nbformat": 4,
  "nbformat_minor": 0,
  "metadata": {
    "colab": {
      "provenance": []
    },
    "kernelspec": {
      "name": "python3",
      "display_name": "Python 3"
    },
    "language_info": {
      "name": "python"
    }
  },
  "cells": [
    {
      "cell_type": "markdown",
      "source": [
        "#Python Advanced Assignment 14\n",
        "##Name := Yash Bhaskar Narkhede"
      ],
      "metadata": {
        "id": "pRSpA2bTKg08"
      }
    },
    {
      "cell_type": "markdown",
      "source": [
        "#Q1. Is an assignment operator like += only for show? Is it possible that it would lead to faster results at the runtime ?\n",
        "Ans:\n",
        "\n",
        " A=A+1 evaluates to finding A, adding 1 to it. Then storing the value again in variable A. This expression makes Python to look for memory holder of a twice. But A+=1 simply means value of A is to incremented by 1. As memory address has to be identified once, += leads to faster operation.\n",
        "\n",
        "#Q2. What is the smallest no of statements you'd have to write in most programming languages to replace the Python expr a, b = a + b, a ?\n",
        "Ans: \n",
        "\n",
        "Minimum number of lines required to write above code in languages other Python will be 4, two for assigning initial values for variables a and b, and two for reassignment i.e. a=a+b and b=a.\n",
        "\n",
        "#Q3. In Python, what is the most effective way to set a list of 100 integers to 0?\n",
        "Ans: \n",
        "\n",
        "The Most effective way to set a list of 100 integers to 0 in python is by using repition operator(*) or by using list comprehension.\n",
        "\n"
      ],
      "metadata": {
        "id": "fZ8iYZNiKjUO"
      }
    },
    {
      "cell_type": "code",
      "source": [
        "# Method 1\n",
        "list_zero=[0]*100\n",
        "print(list_zero)\n",
        "# Method 2\n",
        "zero_list = [0 for x in range(100)]\n",
        "print(zero_list)"
      ],
      "metadata": {
        "colab": {
          "base_uri": "https://localhost:8080/"
        },
        "id": "AQI8EnXdKvlo",
        "outputId": "596ba206-4f7f-4f38-d824-73c3bae890a7"
      },
      "execution_count": 1,
      "outputs": [
        {
          "output_type": "stream",
          "name": "stdout",
          "text": [
            "[0, 0, 0, 0, 0, 0, 0, 0, 0, 0, 0, 0, 0, 0, 0, 0, 0, 0, 0, 0, 0, 0, 0, 0, 0, 0, 0, 0, 0, 0, 0, 0, 0, 0, 0, 0, 0, 0, 0, 0, 0, 0, 0, 0, 0, 0, 0, 0, 0, 0, 0, 0, 0, 0, 0, 0, 0, 0, 0, 0, 0, 0, 0, 0, 0, 0, 0, 0, 0, 0, 0, 0, 0, 0, 0, 0, 0, 0, 0, 0, 0, 0, 0, 0, 0, 0, 0, 0, 0, 0, 0, 0, 0, 0, 0, 0, 0, 0, 0, 0]\n",
            "[0, 0, 0, 0, 0, 0, 0, 0, 0, 0, 0, 0, 0, 0, 0, 0, 0, 0, 0, 0, 0, 0, 0, 0, 0, 0, 0, 0, 0, 0, 0, 0, 0, 0, 0, 0, 0, 0, 0, 0, 0, 0, 0, 0, 0, 0, 0, 0, 0, 0, 0, 0, 0, 0, 0, 0, 0, 0, 0, 0, 0, 0, 0, 0, 0, 0, 0, 0, 0, 0, 0, 0, 0, 0, 0, 0, 0, 0, 0, 0, 0, 0, 0, 0, 0, 0, 0, 0, 0, 0, 0, 0, 0, 0, 0, 0, 0, 0, 0, 0]\n"
          ]
        }
      ]
    },
    {
      "cell_type": "markdown",
      "source": [
        "#Q4. What is the most effective way to initialise a list of 99 integers that repeats the sequence 1, 2, 3? S If necessary, show step-by-step instructions on how to accomplish this.\n"
      ],
      "metadata": {
        "id": "ZnHol69QLANR"
      }
    },
    {
      "cell_type": "code",
      "execution_count": 2,
      "metadata": {
        "colab": {
          "base_uri": "https://localhost:8080/"
        },
        "id": "nT9Oz-6bKdKQ",
        "outputId": "be555787-2d82-47ba-cc42-6d725141f51c"
      },
      "outputs": [
        {
          "output_type": "stream",
          "name": "stdout",
          "text": [
            "[1, 2, 3, 1, 2, 3, 1, 2, 3, 1, 2, 3, 1, 2, 3, 1, 2, 3, 1, 2, 3, 1, 2, 3, 1, 2, 3, 1, 2, 3, 1, 2, 3, 1, 2, 3, 1, 2, 3, 1, 2, 3, 1, 2, 3, 1, 2, 3, 1, 2, 3, 1, 2, 3, 1, 2, 3, 1, 2, 3, 1, 2, 3, 1, 2, 3, 1, 2, 3, 1, 2, 3, 1, 2, 3, 1, 2, 3, 1, 2, 3, 1, 2, 3, 1, 2, 3, 1, 2, 3, 1, 2, 3, 1, 2, 3, 1, 2, 3]\n"
          ]
        }
      ],
      "source": [
        "my_list = [1,2,3]*33\n",
        "print(my_list)"
      ]
    },
    {
      "cell_type": "markdown",
      "source": [
        "#Q5. If you're using IDLE to run a Python application, explain how to print a multidimensional list as efficiently?\n"
      ],
      "metadata": {
        "id": "vBB9jS7XLG5X"
      }
    },
    {
      "cell_type": "code",
      "source": [
        "my_list = [[1,1],[2,2],[3,3],[4,4],[5,5]] \n",
        "for x in range(len(my_list)):\n",
        "    for y in range(len(my_list[x])):\n",
        "        print(my_list[x][y],end=\" \")"
      ],
      "metadata": {
        "colab": {
          "base_uri": "https://localhost:8080/"
        },
        "id": "k_V4MZTGLKqy",
        "outputId": "87974c33-1654-46d5-a429-ed92281486c2"
      },
      "execution_count": 3,
      "outputs": [
        {
          "output_type": "stream",
          "name": "stdout",
          "text": [
            "1 1 2 2 3 3 4 4 5 5 "
          ]
        }
      ]
    },
    {
      "cell_type": "markdown",
      "source": [
        "#Q6. Is it possible to use list comprehension with a string? If so, how can you go about doing it?\n",
        "Ans: \n",
        "\n",
        "List comprehension with string is possible.\n",
        "\n"
      ],
      "metadata": {
        "id": "OxzZ6igbLO2F"
      }
    },
    {
      "cell_type": "code",
      "source": [
        "my_list = [ele for ele in 'iNeuron']\n",
        "print(my_list)"
      ],
      "metadata": {
        "colab": {
          "base_uri": "https://localhost:8080/"
        },
        "id": "vZqHADWbLR2O",
        "outputId": "035ef84f-f010-47c1-da84-d7a9f1560f9e"
      },
      "execution_count": 4,
      "outputs": [
        {
          "output_type": "stream",
          "name": "stdout",
          "text": [
            "['i', 'N', 'e', 'u', 'r', 'o', 'n']\n"
          ]
        }
      ]
    },
    {
      "cell_type": "markdown",
      "source": [
        "#Q7. From the command line, how do you get support with a user-written Python programme? Is this possible from inside IDLE?\n",
        "Ans: \n",
        "\n",
        "**Get support with a user-written Python Programme:** Start a command prompt (Windows) or terminal window (Linux/Mac). If the current working directory is the same as the location in which you saved the file, you can simply specify the filename as a command-line argument to the Python interpreter.\n",
        "\n",
        "**Get support with a User-written Python Program from IDLE:** You can also create script files and run them in IDLE. From the Shell window menu, select **File → New File**. That should open an additional editing window. Type in the code to be executed. From the menu in that window, select **File → Save or File → Save As**… and save the file to disk. Then select **Run → Run** Module. The output should appear back in the interpreter\n",
        "\n",
        "#Q8. Functions are said to be “first-class objects” in Python but not in most other languages, such as C++ or Java. What can you do in Python with a function (callable object) that you can't do in C or C++?\n",
        "Ans:\n",
        "\n",
        " The tasks which can be performed with the functions in python are:\n",
        "\n",
        "A function is an instance of the Object type.\n",
        "You can store the function in a variable.\n",
        "\n",
        "You can pass the function as a parameter to another function.\n",
        "\n",
        "You can return the function from a function.\n",
        "\n",
        "You can store them in data structures such as hash tables, lists,"
      ],
      "metadata": {
        "id": "kIl3IxotLVu4"
      }
    },
    {
      "cell_type": "markdown",
      "source": [
        "#Q9. How do you distinguish between a wrapper, a wrapped feature, and a decorator?\n",
        "Ans: \n",
        "\n",
        "Wrappers Around the functions are known as Decrators.\n",
        "\n",
        "#Q10. If a function is a generator function, what does it return?\n",
        "Ans:\n",
        "\n",
        " Generator functions are a special kind of function that return a **lazy** iterator. These are objects that you can loop over like a list. However, unlike lists, lazy iterators do not store their contents in memory.\n",
        "\n",
        "#Q11. What is the one improvement that must be made to a function in order for it to become a generator function in the Python language?\n",
        "Ans: \n",
        "\n",
        "Generator is a written as normal function but uses **yield** keyword to **return** values instead of return keyword.\n",
        "\n",
        "#Q12. Identify at least one benefit of generators.\n",
        "Ans:\n",
        "\n",
        " **return** statement sends a specified value back to its caller whereas **yield** statment can produce a sequence of values. We should use generator when we want to iterate over a sequence, but don’t want to store the entire sequence in memory."
      ],
      "metadata": {
        "id": "BQ9XyzgjLhvi"
      }
    },
    {
      "cell_type": "markdown",
      "source": [],
      "metadata": {
        "id": "PByb8jRWMJIt"
      }
    }
  ]
}