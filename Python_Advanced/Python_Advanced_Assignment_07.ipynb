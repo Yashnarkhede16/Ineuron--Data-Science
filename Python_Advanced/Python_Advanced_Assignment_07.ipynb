{
  "nbformat": 4,
  "nbformat_minor": 0,
  "metadata": {
    "colab": {
      "provenance": []
    },
    "kernelspec": {
      "name": "python3",
      "display_name": "Python 3"
    },
    "language_info": {
      "name": "python"
    }
  },
  "cells": [
    {
      "cell_type": "markdown",
      "source": [
        "#Python Advanced Assignment 7\n",
        "##Name := Yash Bhaskar Narkhede"
      ],
      "metadata": {
        "id": "uFyBGZEOG8P-"
      }
    },
    {
      "cell_type": "markdown",
      "source": [
        "##Q1. What is the purpose of the try statement?\n",
        "Ans: \n",
        "\n",
        "try statement is used for exception handling in python. it consists of a block of risky statements which might cause an exception during runtime. if code within try block raises exception, then the exception will be reverted to the corresponding except block if multiple except blocks are present, else it willbe reverted to the default except block. In short try and except in union avoid programs from crashing during runtime due to exceptions.\n",
        "\n"
      ],
      "metadata": {
        "id": "HVXScq8yH-hV"
      }
    },
    {
      "cell_type": "code",
      "execution_count": 1,
      "metadata": {
        "colab": {
          "base_uri": "https://localhost:8080/"
        },
        "id": "rgm4Bgc-G2rR",
        "outputId": "a9af6096-59e0-4557-933e-4286df60b8ad"
      },
      "outputs": [
        {
          "output_type": "stream",
          "name": "stdout",
          "text": [
            "Division by Zero is Not Possible\n"
          ]
        }
      ],
      "source": [
        "try:\n",
        "    print(10/0)\n",
        "except ZeroDivisionError:\n",
        "    print('Division by Zero is Not Possible')"
      ]
    },
    {
      "cell_type": "markdown",
      "source": [
        "##Q2. What are the two most popular try statement variations?\n",
        "Ans:\n",
        "\n",
        " The Popular try statement variations are:\n",
        "\n",
        "try,except\n",
        "try,except,finally\n",
        "try,except,finally,else\n",
        "The try block is used to check code for exceptions during runtime. ie code inside try block will execute completely when there is no error in the program. Whereas the code inside except block will execute whenever the program encounters some error in the preceeding try block.\n",
        "\n",
        "Whereas the code enters the else block if and only if the try clause does not raise and exception. The code in the finally block will execute irrespective of exception.\n",
        "\n",
        "##Q3. What is the purpose of the raise statement?\n",
        "Ans: \n",
        "\n",
        "raise statement is used to trigger an exception explicitly, if a certain condition is not as per requirement of programmer. raise statement helps in triggering exception as per programming logic.\n",
        "\n",
        "##Q4. What does the assert statement do, and what other statement is it like?\n",
        "Ans:\n",
        "\n",
        " There are few assertions that programmer always want to be true to avoid code failure. This type of requirement is fulfilled by assert statement. This statement takes a boolean condition output of which is True, Further Program Executes. if output of assert statement is False, it raises an Assertion Error.\n",
        "\n"
      ],
      "metadata": {
        "id": "EFFu4jXvIHS9"
      }
    },
    {
      "cell_type": "code",
      "source": [
        "assert(2 == 4), f'this is not a valid statement'"
      ],
      "metadata": {
        "id": "atSlBOD8IOUj"
      },
      "execution_count": null,
      "outputs": []
    },
    {
      "cell_type": "markdown",
      "source": [
        "##Q5. What is the purpose of the with/as argument, and what other statement is it like?\n",
        "Ans: \n",
        "\n",
        "with/as statement simplifies use of file handling in python. When we use a with statement for file reading, there is no need for programmer to explicitly takecare of activities like resource deallocation and file closing by using file.close() method. with statement itself ensures proper acquisition and release of resources. this avoids triggering of exceptions if file closing is unknowingly forgotten in the code execution.\n",
        "\n",
        "with open('sample_file.txt','w') as file: file.write('Hello World')"
      ],
      "metadata": {
        "id": "wUd9puKeIRH6"
      }
    },
    {
      "cell_type": "markdown",
      "source": [],
      "metadata": {
        "id": "59k4WZojIWAq"
      }
    }
  ]
}