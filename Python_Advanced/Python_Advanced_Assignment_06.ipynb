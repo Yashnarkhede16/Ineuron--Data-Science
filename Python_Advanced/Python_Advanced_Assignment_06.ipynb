{
  "nbformat": 4,
  "nbformat_minor": 0,
  "metadata": {
    "colab": {
      "provenance": []
    },
    "kernelspec": {
      "name": "python3",
      "display_name": "Python 3"
    },
    "language_info": {
      "name": "python"
    }
  },
  "cells": [
    {
      "cell_type": "markdown",
      "source": [
        "#Python Advanced Assignment 6\n",
        "##Name := Yash Bhaskar Narkhede"
      ],
      "metadata": {
        "id": "WpCdufb-GNI7"
      }
    },
    {
      "cell_type": "markdown",
      "source": [
        "## Q1. Describe three applications for exception processing.\n",
        "Ans:\n",
        "\n",
        " Exception Processing is important to find exceptions that causes the runtime error. As runtime errors Halt the program execution when exception occurs.\n",
        "\n",
        "Exception Processing is used in Various Applications of which few examples are:\n",
        "\n",
        "Checking Appropriate use of input in an application\n",
        "Checking for Arithmetic exceptions in mathematical executions\n",
        "Checking File I/O exceptions during File handling\n",
        "\n",
        "\n",
        "##Q2. What happens if you don't do something extra to treat an exception?\n",
        "Ans: \n",
        "\n",
        "If Exceptions are not handled flow of program will be broken during the run time which might lead to a abnormal termination of the program. Inshort inability of program to handle exceptions will result in crashing of program.\n",
        "\n",
        "## Q3. What are your options for recovering from an exception in your script?\n",
        "Ans: \n",
        "\n",
        "Python provides try and except statements for recovering from an exception in your script.\n",
        "\n",
        "##Q4. Describe two methods for triggering exceptions in your script ?\n",
        "Ans: \n",
        "\n",
        "raise and assert are two methods that can be used to trigger manual exceptions in your script.\n",
        "\n",
        "raise method triggers an exception if condition provided to it turns out to be True.\n",
        "assert will let the program to continue execution if condition provided to it turns out to be True else exception will be raised"
      ],
      "metadata": {
        "id": "JXf1GzpbGWfi"
      }
    },
    {
      "cell_type": "code",
      "source": [
        "x = 10\n",
        "raise Exception(f'X Value Should not exceed 5 The Provided Value of X is {x}')"
      ],
      "metadata": {
        "id": "QYYIz1EsGjLE"
      },
      "execution_count": null,
      "outputs": []
    },
    {
      "cell_type": "markdown",
      "source": [],
      "metadata": {
        "id": "DJQ3b_EgGfS9"
      }
    },
    {
      "cell_type": "code",
      "execution_count": null,
      "metadata": {
        "id": "c1Qn016UGMF-"
      },
      "outputs": [],
      "source": [
        "assert(2==4), \"2 is not equal to 4\""
      ]
    },
    {
      "cell_type": "markdown",
      "source": [
        "## Q5. Identify two methods for specifying actions to be executed at termination time, regardless of whether or not an exception exists.\n",
        "Ans: \n",
        "\n",
        "Python Provides else and finally blocks for specifying actions to be executed at termination time, regardless of whether an exceptions exists or not."
      ],
      "metadata": {
        "id": "47C8cpgQGvUr"
      }
    }
  ]
}