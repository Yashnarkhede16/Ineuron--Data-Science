{
  "nbformat": 4,
  "nbformat_minor": 0,
  "metadata": {
    "colab": {
      "provenance": []
    },
    "kernelspec": {
      "name": "python3",
      "display_name": "Python 3"
    },
    "language_info": {
      "name": "python"
    }
  },
  "cells": [
    {
      "cell_type": "markdown",
      "source": [
        "#Python Advanced Assignment 15\n",
        "##Name := Yash Bhaskar Narkhede"
      ],
      "metadata": {
        "id": "045vueb14m1F"
      }
    },
    {
      "cell_type": "markdown",
      "source": [
        "#1. What are the new features added in Python 3.8 version?\n",
        "Ans:\n",
        "\n",
        " Some New Features Added in Python 3.8 Version are:\n",
        "\n",
        "**Walrus Operator**: This operator is used to assign and return a value in the same expression. This removes the need for initializing the variable upfront. The major benefit of this is it saves some lines of code. It is also known as The Walrus Operator due to its similarity to the eyes and tusks of a walrus.\n",
        "\n",
        "yield and return statements do not require parentheses to return multiple values.\n",
        "\n",
        "Reversed works with a dictionary. The built-in method reversed() can be used for accessing the elements in the reverse order of insertion\n",
        "\n",
        "**Dict comprehensions** have been modified so that the key is computed first and the value second.\n",
        "\n",
        "importlib_metadata is a new library added in the Python’s standard utility modules, that provides an API for accessing an installed package’s metadata, such as its entry points or its top-level name.\n",
        "\n",
        "f-strings now support = , to make string interpolation easy. Python 3.8 allows the use of the above-discussed assignment operator and equal sign (=) inside the f-strings.\n",
        "\n",
        "In the three-argument form of pow(), when the exponent is -1, it calculates the modular multiplicative inverse of the given value\n",
        "\n",
        "The csv.DictReader now returns instances of dictionary instead of a collections.OrderedDict.\n",
        "\n",
        "If you miss a comma in your code such as a = [(1, 2) (3, 4)], instead of throwing TypeError, it displays an informative Syntax warning."
      ],
      "metadata": {
        "id": "K5eoSnvCI-Et"
      }
    },
    {
      "cell_type": "code",
      "execution_count": null,
      "metadata": {
        "id": "dWsWzjtc4h_O"
      },
      "outputs": [],
      "source": [
        "if (sum := 10 + 5) > 10: \n",
        "    print(sum) #return 15 \n",
        "\n",
        "# Example of yield and return\n",
        "def hello():\n",
        "    return 'Hello','Good Morning'\n",
        "print(hello())\n",
        "def count():\n",
        "    for i in range(5):\n",
        "        yield i,i**2\n",
        "for ele in count():\n",
        "    print(ele, end=\" \")\n",
        "print()\n",
        "    \n",
        "# Example of Reversed Support for dict\n",
        "t_dict = {\"Name\":\"Mano Vishnu\",\"Role\":\"Data Scientist\"}\n",
        "for ele in reversed(t_dict):\n",
        "    print(f'{ele}:\"{t_dict[ele]}\"')\n",
        "    \n",
        "# Example of using = in F-strings\n",
        "len_string = len(\"Ineuron Full Stack Data Science\")\n",
        "print(f'The length of string is {len_string = }')\n",
        "\n",
        "# Example of Infomrative syntax instead of synatx error while missing comma.\n",
        "r_list = [(1,2) (3,4)]"
      ]
    },
    {
      "cell_type": "markdown",
      "source": [
        "#2. What is monkey patching in Python?\n",
        "Ans: \n",
        "\n",
        "In Python, the term monkey patch refers to making dynamic (or run-time) modifications to a class or module. In Python, we can actually change the behavior of code at run-time.\n",
        "\n"
      ],
      "metadata": {
        "id": "pcVS8U3nJ8af"
      }
    },
    {
      "cell_type": "code",
      "source": [
        "class A:\n",
        "    def func(self):\n",
        "        print(\"func() is being called\")\n",
        "\n",
        "def monkey_f(self):\n",
        "    print(\"monkey_f() is being called\")\n",
        "\n",
        "A.func = monkey_f\n",
        "some_object = A()\n",
        "some_object.func()"
      ],
      "metadata": {
        "colab": {
          "base_uri": "https://localhost:8080/"
        },
        "id": "HEmgjOieJ_6A",
        "outputId": "8b365837-26b8-4a3c-cfdc-9d52757ba104"
      },
      "execution_count": 4,
      "outputs": [
        {
          "output_type": "stream",
          "name": "stdout",
          "text": [
            "monkey_f() is being called\n"
          ]
        }
      ]
    },
    {
      "cell_type": "markdown",
      "source": [
        "#3. What is the difference between a shallow copy and deep copy?\n",
        "Ans:\n",
        "\n",
        " The Differences between a Shallow Copy and deep copy are as follows:\n",
        "\n",
        "When an object is copied using copy(), it is called shallow copy as changes made in copied object will also make corresponding changes in original object, because both the objects will be referencing same address location.\n",
        "\n",
        "When an object is copied using deepcopy(), it is called deep copy as changes made in copied object will not make corresponding changes in original object, because both the objects will not be referencing same address location.\n",
        "\n"
      ],
      "metadata": {
        "id": "s0UaYqrYKD29"
      }
    },
    {
      "cell_type": "code",
      "source": [
        "from copy import deepcopy, copy\n",
        "l_one = [1,2,[3,4],5,6]\n",
        "l_two = deepcopy(l_one)\n",
        "l_three = l_one\n",
        "print(f'Original Elements of each List\\n{l_one}\\n{l_two}\\n{l_three}')\n",
        "l_two[0] = 10\n",
        "l_three[-1] = 20\n",
        "print(f'New Elements of each List\\n{l_one}\\n{l_two}\\n{l_three}')"
      ],
      "metadata": {
        "colab": {
          "base_uri": "https://localhost:8080/"
        },
        "id": "YLJG96ZvKHDI",
        "outputId": "6c78ca3d-00ed-425a-8f9e-249a5b9ddb92"
      },
      "execution_count": 5,
      "outputs": [
        {
          "output_type": "stream",
          "name": "stdout",
          "text": [
            "Original Elements of each List\n",
            "[1, 2, [3, 4], 5, 6]\n",
            "[1, 2, [3, 4], 5, 6]\n",
            "[1, 2, [3, 4], 5, 6]\n",
            "New Elements of each List\n",
            "[1, 2, [3, 4], 5, 20]\n",
            "[10, 2, [3, 4], 5, 6]\n",
            "[1, 2, [3, 4], 5, 20]\n"
          ]
        }
      ]
    },
    {
      "cell_type": "markdown",
      "source": [
        "#4. What is the maximum possible length of an identifier?\n",
        "Ans: \n",
        "\n",
        "In Python, the highest possible length of an identifier is 79 characters. Python is a high level programming language. It’s also a complex form and a collector of waste.\n",
        "\n",
        "Python, particularly when combined with identifiers, is case-sensitive.\n",
        "When writing or using identifiers in Python, it has a maximum of 79 characters.\n",
        "Unlikely, Python gives the identifiers unlimited length.\n",
        "However, the layout of PEP-8 prevents the user from breaking the rules and includes a 79-character limit.\n",
        "\n",
        "#5. What is generator comprehension?\n",
        "Ans:\n",
        "\n",
        " A generator comprehension is a single-line specification for defining a generator in Python.\n",
        "\n",
        "It is absolutely essential to learn this syntax in order to write simple and readable code.\n",
        "Generator comprehension uses round bracket unlike square bracket in list comprehension.\n",
        "The generator yields one item at a time and generates item only when in demand. Whereas, in a list comprehension, Python reserves memory for the whole list. Thus we can say that the generator expressions are memory efficient than the lists."
      ],
      "metadata": {
        "id": "MKkGgfiXKL0K"
      }
    },
    {
      "cell_type": "code",
      "source": [
        "in_list = [x for x in range(10)] # List Comprehension\n",
        "print(in_list)\n",
        "out_gen = (x for x in in_list if x%2 == 0) # Generator Comprehension\n",
        "print(out_gen) # Returns a Generator Object\n",
        "for ele in out_gen:\n",
        "    print(ele, end=\" \")"
      ],
      "metadata": {
        "colab": {
          "base_uri": "https://localhost:8080/"
        },
        "id": "Gg4_LZMwKQ8X",
        "outputId": "24f34112-9965-4cc9-c073-9bb7fd35f042"
      },
      "execution_count": 6,
      "outputs": [
        {
          "output_type": "stream",
          "name": "stdout",
          "text": [
            "[0, 1, 2, 3, 4, 5, 6, 7, 8, 9]\n",
            "<generator object <genexpr> at 0x7fb54d4eb8d0>\n",
            "0 2 4 6 8 "
          ]
        }
      ]
    }
  ]
}