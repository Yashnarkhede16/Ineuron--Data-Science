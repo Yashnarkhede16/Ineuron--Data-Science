{
  "nbformat": 4,
  "nbformat_minor": 0,
  "metadata": {
    "colab": {
      "provenance": [],
      "collapsed_sections": []
    },
    "kernelspec": {
      "name": "python3",
      "display_name": "Python 3"
    },
    "language_info": {
      "name": "python"
    }
  },
  "cells": [
    {
      "cell_type": "markdown",
      "source": [
        "#Python Programming Assignment 13\n",
        "## Name := Yash Bhaskar Narkhede"
      ],
      "metadata": {
        "id": "FCxIqNzi85Uc"
      }
    },
    {
      "cell_type": "markdown",
      "source": [
        "##1. Write a program that calculates and prints the value according to the given formula:\n",
        "Q = Square root of [(2 C D)/H]\n",
        "\n",
        "Following are the fixed values of C and H:\n",
        "\n",
        "C is 50. H is 30.\n",
        "\n",
        "D is the variable whose values should be input to your program in a comma-separated sequence.\n",
        "\n",
        "Example\n",
        "\n",
        "Let us assume the following comma separated input sequence is given to the program:\n",
        "\n",
        "100,150,180\n",
        "\n",
        "The output of the program should be:\n",
        "\n",
        "18,22,24"
      ],
      "metadata": {
        "id": "e-oYcfNU8_7d"
      }
    },
    {
      "cell_type": "code",
      "source": [
        "import math\n",
        "\n",
        "def calculate_formula(args):\n",
        "    c = 50\n",
        "    h = 30\n",
        "    result = []\n",
        "    for d in args:\n",
        "        result.append(int(math.sqrt((2*c*int(d))/h)))\n",
        "    print(result)\n",
        "inp = list(input(\"Enter comma separated numbers input: \").split(','))\n",
        "calculate_formula(inp)"
      ],
      "metadata": {
        "colab": {
          "base_uri": "https://localhost:8080/"
        },
        "id": "RPm4uHHx9DzK",
        "outputId": "f34be8db-34d8-497b-ceab-460e037860b8"
      },
      "execution_count": 1,
      "outputs": [
        {
          "output_type": "stream",
          "name": "stdout",
          "text": [
            "Enter comma separated numbers input: 100,150,180\n",
            "[18, 22, 24]\n"
          ]
        }
      ]
    },
    {
      "cell_type": "markdown",
      "source": [
        "## 2. Write a program which takes 2 digits, X,Y as input and generates a 2-dimensional array. The element value in the i-th row and j-th column of the array should be i*j."
      ],
      "metadata": {
        "id": "VeYAR11T9OAs"
      }
    },
    {
      "cell_type": "code",
      "source": [
        "x = int(input(\"Enter X value: \"))\n",
        "y = int(input(\"Enter Y value: \"))\n",
        "matrix = []\n",
        "for i in range(x):\n",
        "    row = []\n",
        "    for j in range(y):\n",
        "        row.append(i*j)\n",
        "    matrix.append(row)\n",
        "print(matrix)"
      ],
      "metadata": {
        "colab": {
          "base_uri": "https://localhost:8080/"
        },
        "id": "ZptKbgxy9R9n",
        "outputId": "45390e6f-bfbd-407b-ddb7-1a5c08be7fa6"
      },
      "execution_count": 2,
      "outputs": [
        {
          "output_type": "stream",
          "name": "stdout",
          "text": [
            "Enter X value: 3\n",
            "Enter Y value: 5\n",
            "[[0, 0, 0, 0, 0], [0, 1, 2, 3, 4], [0, 2, 4, 6, 8]]\n"
          ]
        }
      ]
    },
    {
      "cell_type": "markdown",
      "source": [
        "## 3. Write a program that accepts a comma separated sequence of words as input and prints the words in a comma-separated sequence after sorting them alphabetically."
      ],
      "metadata": {
        "id": "V5zqSvIM9XG-"
      }
    },
    {
      "cell_type": "code",
      "source": [
        "words = list(input(\"Enter comma seperated words: \").split(','))\n",
        "words.sort() \n",
        "print(','.join(words))"
      ],
      "metadata": {
        "colab": {
          "base_uri": "https://localhost:8080/"
        },
        "id": "D2aF2TME9YG5",
        "outputId": "dd604681-ba9d-42ec-f39c-3777d1b41277"
      },
      "execution_count": 3,
      "outputs": [
        {
          "output_type": "stream",
          "name": "stdout",
          "text": [
            "Enter comma seperated words: without,hello,bag,world\n",
            "bag,hello,without,world\n"
          ]
        }
      ]
    },
    {
      "cell_type": "markdown",
      "source": [
        "## 4. Write a program that accepts a sequence of whitespace separated words as input and prints the words after removing all duplicate words and sorting them alphanumerically."
      ],
      "metadata": {
        "id": "ZG_dAqdI9fwy"
      }
    },
    {
      "cell_type": "code",
      "source": [
        "words = list(set(input(\"Enter comma seperated words: \").split(' ')))\n",
        "words.sort() \n",
        "print(' '.join(words))"
      ],
      "metadata": {
        "colab": {
          "base_uri": "https://localhost:8080/"
        },
        "id": "9FKxSZ6_9gtC",
        "outputId": "aa600dec-d3e6-4e1c-f54b-7e6b207af767"
      },
      "execution_count": 5,
      "outputs": [
        {
          "output_type": "stream",
          "name": "stdout",
          "text": [
            "Enter comma seperated words: hello world and practice makes perfect and hello world again\n",
            "again and hello makes perfect practice world\n"
          ]
        }
      ]
    },
    {
      "cell_type": "markdown",
      "source": [
        "## 5. Write a program that accepts a sentence and calculate the number of letters and digits."
      ],
      "metadata": {
        "id": "WWsoNFJM9v9r"
      }
    },
    {
      "cell_type": "code",
      "source": [
        "words = input(\"Enter a sentence: \")\n",
        "letters = 0\n",
        "digits = 0\n",
        "for c in words:\n",
        "    if (ord(c) >= ord('a') and ord(c) <= ord('z')) or (ord(c) >= ord('A') and ord(c) <= ord('Z')):\n",
        "        letters += 1\n",
        "    elif ord(c) >= ord('0') and ord(c) <= ord('9'):\n",
        "        digits += 1\n",
        "print(\"LETTERS {}\".format(letters))\n",
        "print(\"DIGITS {}\".format(digits))"
      ],
      "metadata": {
        "colab": {
          "base_uri": "https://localhost:8080/"
        },
        "id": "sA8fDhG59xM1",
        "outputId": "d19c501b-bb66-4fc4-8cce-46480efbe63c"
      },
      "execution_count": 6,
      "outputs": [
        {
          "output_type": "stream",
          "name": "stdout",
          "text": [
            "Enter a sentence: Hello World !!!\n",
            "LETTERS 10\n",
            "DIGITS 0\n"
          ]
        }
      ]
    },
    {
      "cell_type": "markdown",
      "source": [
        "## 6. A website requires the users to input username and password to register. Write a program to check the validity of password input by users."
      ],
      "metadata": {
        "id": "aA3z6le595r8"
      }
    },
    {
      "cell_type": "code",
      "source": [
        "def check_smallcase(password):\n",
        "    check = False\n",
        "    for p in password:\n",
        "        if ord(p) >= ord('a') and ord(p) <= ord('z'):\n",
        "            check = True\n",
        "            break\n",
        "    return check\n",
        "\n",
        "def check_uppercase(password):\n",
        "    check = False\n",
        "    for p in password:\n",
        "        if ord(p) >= ord('A') and ord(p) <= ord('Z'):\n",
        "            check = True\n",
        "            break\n",
        "    return check\n",
        "\n",
        "def check_digit(password):\n",
        "    check = False\n",
        "    for p in password:\n",
        "        if ord(p) >= ord('1') and ord(p) <= ord('9'):\n",
        "            check = True\n",
        "            break\n",
        "    return check\n",
        "\n",
        "def check_specialchars(password):\n",
        "    check = False\n",
        "    specials = \"!@#$%^&*()_+=->;,:/?`\"\n",
        "    for p in password:\n",
        "        if p in specials:\n",
        "            check = True\n",
        "            break\n",
        "    return check\n",
        "\n",
        "def check_minlength(password):\n",
        "  return len(password) >= 6\n",
        "\n",
        "def check_maxlength(password):\n",
        "    return len(password) <= 12\n",
        "\n",
        "passwords = list(set(input(\"Enter comma seperated passwords: \").split(',')))\n",
        "valid_passwords = []\n",
        "for password in passwords:\n",
        "    if check_smallcase(password) and check_uppercase(password) and check_digit(password) and check_specialchars(password) and check_minlength(password) and check_maxlength(password):\n",
        "        valid_passwords.append(password)\n",
        "print(','.join(valid_passwords))"
      ],
      "metadata": {
        "colab": {
          "base_uri": "https://localhost:8080/"
        },
        "id": "KuEKixKM96s_",
        "outputId": "ff1f1fca-6689-4808-c785-041f26fb0795"
      },
      "execution_count": 7,
      "outputs": [
        {
          "output_type": "stream",
          "name": "stdout",
          "text": [
            "Enter comma seperated passwords:  ABd1234@1,a F1#,2w3E*,2We3345, EKd9876@1,a F1#,2w3E*,2We3345\n",
            " EKd9876@1, ABd1234@1\n"
          ]
        }
      ]
    },
    {
      "cell_type": "code",
      "execution_count": null,
      "metadata": {
        "id": "zB4IKc0P8vhw"
      },
      "outputs": [],
      "source": []
    }
  ]
}