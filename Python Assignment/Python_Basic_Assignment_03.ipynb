{
  "nbformat": 4,
  "nbformat_minor": 0,
  "metadata": {
    "colab": {
      "provenance": [],
      "collapsed_sections": []
    },
    "kernelspec": {
      "name": "python3",
      "display_name": "Python 3"
    },
    "language_info": {
      "name": "python"
    }
  },
  "cells": [
    {
      "cell_type": "markdown",
      "source": [
        "# Python Basic Assignment 3\n",
        "## Name := Yash Bhaskar Narkhede\n"
      ],
      "metadata": {
        "id": "Ac-qyNTZSP0s"
      }
    },
    {
      "cell_type": "markdown",
      "source": [
        "## 1. Why are functions advantageous to have in your programs?\n",
        "Ans:\n",
        "\n",
        "### Advantages:\n",
        "\n",
        "1.Increase modularity\n",
        "\n",
        "2.Increase code reusibility\n",
        "\n",
        "3.Reduce amount of code"
      ],
      "metadata": {
        "id": "mjpjmb4BSkGB"
      }
    },
    {
      "cell_type": "markdown",
      "source": [
        "## 2. When does the code in a function run: when it's specified or when it's called?\n",
        "Ans:\n",
        "\n",
        "The function run(or execute) when it is called. When function is called the control flow which go to first line of code present inside the function."
      ],
      "metadata": {
        "id": "J_t4kEyeS1c2"
      }
    },
    {
      "cell_type": "markdown",
      "source": [
        "## 3. What statement creates a function?\n",
        "Ans:\n",
        "\n",
        "def(keyword) followed by function_name then parentheses.\n",
        "\n",
        "def function_name():"
      ],
      "metadata": {
        "id": "WKNpd_9nS7di"
      }
    },
    {
      "cell_type": "code",
      "source": [
        "def function3():\n",
        "    pass"
      ],
      "metadata": {
        "id": "wmbbGjx0TAUC"
      },
      "execution_count": 1,
      "outputs": []
    },
    {
      "cell_type": "markdown",
      "source": [
        "## 4. What is the difference between a function and a function call?\n",
        "Ans:\n",
        "\n",
        "Function: Function is set of codes which produce some result. Function is useless unless it is invoked or called.\n",
        "\n",
        "Function Call: Function call is used to invoke or execute set of codes present inside the function."
      ],
      "metadata": {
        "id": "UPwPp9oATFRH"
      }
    },
    {
      "cell_type": "code",
      "source": [
        "def function4():        # Function\n",
        "    return \"Inside the function 4\"\n",
        "\n",
        "function4()             # Function call"
      ],
      "metadata": {
        "colab": {
          "base_uri": "https://localhost:8080/",
          "height": 35
        },
        "id": "YMJlJdeHTMs9",
        "outputId": "a848bf15-f0f9-4b58-9872-d73171208b6d"
      },
      "execution_count": 2,
      "outputs": [
        {
          "output_type": "execute_result",
          "data": {
            "text/plain": [
              "'Inside the function 4'"
            ],
            "application/vnd.google.colaboratory.intrinsic+json": {
              "type": "string"
            }
          },
          "metadata": {},
          "execution_count": 2
        }
      ]
    },
    {
      "cell_type": "markdown",
      "source": [
        "## 5. How many global scopes are there in a Python program? How many local scopes?\n",
        "Ans:\n",
        "\n",
        "There are 1 global scopes and 1 local scope in the python program.\n",
        "\n"
      ],
      "metadata": {
        "id": "G-GEhFvSTRKx"
      }
    },
    {
      "cell_type": "markdown",
      "source": [
        "## 6. What happens to variables in a local scope when the function call returns?\n",
        "Ans:\n",
        "\n",
        "The local variables are destroyed when function call returns.\n",
        "\n"
      ],
      "metadata": {
        "id": "A0EE4alHTVxB"
      }
    },
    {
      "cell_type": "markdown",
      "source": [
        "\n",
        "## 7. What is the concept of a return value? Is it possible to have a return value in an expression?\n",
        "Ans:\n",
        "\n",
        "Return value is value, varible or expression which a function can return.\n",
        "\n",
        "Yes function return value can be an expression"
      ],
      "metadata": {
        "id": "ggHwnoAcTaoT"
      }
    },
    {
      "cell_type": "code",
      "source": [
        "def function7(a,b):\n",
        "    return a+b+10  ## Returning the expression\n",
        "\n",
        "function7(10, 20)"
      ],
      "metadata": {
        "colab": {
          "base_uri": "https://localhost:8080/"
        },
        "id": "WcONlm2kTil-",
        "outputId": "4a968ea5-fffc-4a1d-f727-316df07ad518"
      },
      "execution_count": 3,
      "outputs": [
        {
          "output_type": "execute_result",
          "data": {
            "text/plain": [
              "40"
            ]
          },
          "metadata": {},
          "execution_count": 3
        }
      ]
    },
    {
      "cell_type": "markdown",
      "source": [
        "## 8. If a function does not have a return statement, what is the return value of a call to that function?\n",
        "Ans:\n",
        "\n",
        "If a function does not have a return statement that means the function is not returning any values.\n",
        "\n",
        "In this case after function is executed completly it will return a NoneType.\n",
        "\n"
      ],
      "metadata": {
        "id": "F5laqGkuTnpS"
      }
    },
    {
      "cell_type": "code",
      "source": [
        "def function8():\n",
        "    a = 10\n",
        "    b = 80\n",
        "    \n",
        "type(function8())"
      ],
      "metadata": {
        "colab": {
          "base_uri": "https://localhost:8080/"
        },
        "id": "3GZSQ4h-Tr8l",
        "outputId": "792e7113-3f0b-4872-8246-6ee8f11a10c1"
      },
      "execution_count": 4,
      "outputs": [
        {
          "output_type": "execute_result",
          "data": {
            "text/plain": [
              "NoneType"
            ]
          },
          "metadata": {},
          "execution_count": 4
        }
      ]
    },
    {
      "cell_type": "markdown",
      "source": [
        "\n",
        "## 9. How do you make a function variable refer to the global variable?\n",
        "Ans:\n",
        "\n",
        "This can be achieved by using global keyword to redefine the variable and make the changes of variable as global change."
      ],
      "metadata": {
        "id": "ESZhCvG1TxHm"
      }
    },
    {
      "cell_type": "code",
      "source": [
        "var1 = 0\n",
        "def function9():\n",
        "    global var1\n",
        "    var1 = 10\n",
        "    \n",
        "print(var1)\n",
        "function9()\n",
        "print(var1)"
      ],
      "metadata": {
        "colab": {
          "base_uri": "https://localhost:8080/"
        },
        "id": "SqF6tSABT1wD",
        "outputId": "6ba146d1-0ebf-498c-81fb-3da722920447"
      },
      "execution_count": 5,
      "outputs": [
        {
          "output_type": "stream",
          "name": "stdout",
          "text": [
            "0\n",
            "10\n"
          ]
        }
      ]
    },
    {
      "cell_type": "markdown",
      "source": [
        "## 10. What is the data type of None?\n",
        "Ans:\n",
        "\n",
        "None data type is a null variable or null object. The null object is a data type of class NoneType."
      ],
      "metadata": {
        "id": "csOfR3nET5dr"
      }
    },
    {
      "cell_type": "markdown",
      "source": [
        "\n",
        "## 11. What does the sentence import areallyourpetsnamederic do?\n",
        "Ans:\n",
        "\n",
        "The statement \"import areallyourpetsnamederic\" will import the module or package areallyourpetsnamederic."
      ],
      "metadata": {
        "id": "uXWwi7KkT80P"
      }
    },
    {
      "cell_type": "markdown",
      "source": [
        "## 12. If you had a bacon() feature in a spam module, what would you call it after importing spam?\n",
        "Ans:\n",
        "\n",
        "After import the spam.\n",
        "\n",
        "spam.bacon()"
      ],
      "metadata": {
        "id": "9LFOT1jlUD1b"
      }
    },
    {
      "cell_type": "code",
      "source": [
        "# import spam\n",
        "# spam.bacon()"
      ],
      "metadata": {
        "id": "EoS5uVlKUJhr"
      },
      "execution_count": 6,
      "outputs": []
    },
    {
      "cell_type": "markdown",
      "source": [
        "\n",
        "## 13. What can you do to save a programme from crashing if it encounters an error?\n",
        "Ans:\n",
        "\n",
        "To save the program from crashing over a runtime error we can use the try and except statement.\n",
        "\n",
        "It will save from only the runtime error not the compile time error."
      ],
      "metadata": {
        "id": "ubwmoN4XUNRc"
      }
    },
    {
      "cell_type": "code",
      "source": [
        "try:\n",
        "    pass\n",
        "except:\n",
        "    pass"
      ],
      "metadata": {
        "id": "OJHhTkLxUSaO"
      },
      "execution_count": 7,
      "outputs": []
    },
    {
      "cell_type": "markdown",
      "source": [
        "## 14. What is the purpose of the try clause? What is the purpose of the except clause?\n",
        "Ans:\n",
        "\n",
        "\n",
        "*   Together try and except block is used to save programme from crashing when an error is encountered.\n",
        "*   Try: Try block is used for any suspicious code which can throw a runtime error.\n",
        "\n",
        "*   Except: Except block is used to catch error if any encountered inside try block.\n",
        "\n"
      ],
      "metadata": {
        "id": "YCdRW5vaUWIJ"
      }
    },
    {
      "cell_type": "code",
      "source": [],
      "metadata": {
        "id": "E2km9vmEUmdq"
      },
      "execution_count": null,
      "outputs": []
    }
  ]
}
