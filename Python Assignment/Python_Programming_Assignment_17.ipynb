{
  "nbformat": 4,
  "nbformat_minor": 0,
  "metadata": {
    "colab": {
      "provenance": [],
      "collapsed_sections": []
    },
    "kernelspec": {
      "name": "python3",
      "display_name": "Python 3"
    },
    "language_info": {
      "name": "python"
    }
  },
  "cells": [
    {
      "cell_type": "markdown",
      "source": [
        "#Python Programming Assignment 17\n",
        "##Name := Yash Bhaskar Narkhede"
      ],
      "metadata": {
        "id": "C3x8qwDoCsWV"
      }
    },
    {
      "cell_type": "markdown",
      "source": [
        "## 1. Create a function that takes three arguments a, b, c and returns the sum of the numbers that are evenly divided by c from the range a, b inclusive."
      ],
      "metadata": {
        "id": "Fe_T1fFFCxFm"
      }
    },
    {
      "cell_type": "code",
      "source": [
        "def evenly_divisible(a, b, c):\n",
        "    total = 0\n",
        "    \n",
        "    for i in range(a, b + 1):\n",
        "        if i % c == 0:\n",
        "            total += i\n",
        "            \n",
        "    return total\n",
        "print(evenly_divisible(1, 10, 20))\n",
        "print(evenly_divisible(1, 10, 2))\n",
        "print(evenly_divisible(1, 10, 3))"
      ],
      "metadata": {
        "colab": {
          "base_uri": "https://localhost:8080/"
        },
        "id": "jZf8lntKCyAS",
        "outputId": "bedea564-de3f-42b3-c698-49c9d1164f15"
      },
      "execution_count": 1,
      "outputs": [
        {
          "output_type": "stream",
          "name": "stdout",
          "text": [
            "0\n",
            "30\n",
            "18\n"
          ]
        }
      ]
    },
    {
      "cell_type": "markdown",
      "source": [
        "## 2. Create a function that returns True if a given inequality expression is correct and False otherwise."
      ],
      "metadata": {
        "id": "P7Ak3t2SC2dh"
      }
    },
    {
      "cell_type": "code",
      "source": [
        "def correct_signs(expression):\n",
        "    return eval(expression)\n",
        "\n",
        "print(correct_signs(\"3 > 7 < 11\"))\n",
        "print(correct_signs(\"13 > 44 > 33 > 1\"))\n",
        "print(correct_signs(\"1 < 2 < 6 < 9 > 3\"))\n"
      ],
      "metadata": {
        "colab": {
          "base_uri": "https://localhost:8080/"
        },
        "id": "c2Q2TXskC3_r",
        "outputId": "bf61adda-2a20-412f-892b-fa941b0fa064"
      },
      "execution_count": 2,
      "outputs": [
        {
          "output_type": "stream",
          "name": "stdout",
          "text": [
            "False\n",
            "False\n",
            "True\n"
          ]
        }
      ]
    },
    {
      "cell_type": "markdown",
      "source": [
        "## 3. Create a function that replaces all the vowels in a string with a specified character."
      ],
      "metadata": {
        "id": "KhnhavIUC9ol"
      }
    },
    {
      "cell_type": "code",
      "source": [
        "def replace_vowels(string, char):\n",
        "    \n",
        "    new_string = []\n",
        "    vowels = ['a', 'e', 'i', 'o', 'u']\n",
        "    \n",
        "    for c in list(string):\n",
        "        if c in vowels:\n",
        "            new_string.append(char)\n",
        "        else:\n",
        "            new_string.append(c)\n",
        "            \n",
        "    return \"\".join(new_string) \n",
        "\n",
        "\n",
        "print(replace_vowels('the aardvark', '#')) \n",
        "print(replace_vowels('minnie mouse', '?'))\n",
        "print(replace_vowels('shakespeare', '*'))"
      ],
      "metadata": {
        "colab": {
          "base_uri": "https://localhost:8080/"
        },
        "id": "vploEA_SC-fl",
        "outputId": "8d96e842-3ac6-4d25-834a-a10458f7c227"
      },
      "execution_count": 3,
      "outputs": [
        {
          "output_type": "stream",
          "name": "stdout",
          "text": [
            "th# ##rdv#rk\n",
            "m?nn?? m??s?\n",
            "sh*k*sp**r*\n"
          ]
        }
      ]
    },
    {
      "cell_type": "markdown",
      "source": [
        "## 4. Write a function that calculates the factorial of a number recursively."
      ],
      "metadata": {
        "id": "7s4fEVYhDDUo"
      }
    },
    {
      "cell_type": "code",
      "source": [
        "def factorial(n):\n",
        "    if n <= 1:\n",
        "        return 1\n",
        "    else:\n",
        "        return n * factorial(n-1)\n",
        "print(factorial(5))\n",
        "print(factorial(3))\n",
        "print(factorial(1))\n",
        "print(factorial(0))"
      ],
      "metadata": {
        "colab": {
          "base_uri": "https://localhost:8080/"
        },
        "id": "2zv1A9lNDESD",
        "outputId": "760b1785-21ee-42bb-bea7-fc92eb9fa7d0"
      },
      "execution_count": 5,
      "outputs": [
        {
          "output_type": "stream",
          "name": "stdout",
          "text": [
            "120\n",
            "6\n",
            "1\n",
            "1\n"
          ]
        }
      ]
    },
    {
      "cell_type": "markdown",
      "source": [
        "## 5. Hamming distance is the number of characters that differ between two strings."
      ],
      "metadata": {
        "id": "DePrfiBQDN-k"
      }
    },
    {
      "cell_type": "code",
      "source": [
        "def hamming_distance(str1, str2):\n",
        "    i = 0\n",
        "    count = 0\n",
        "    while(i < len(str1)):\n",
        "        if(str1[i] != str2[i]):\n",
        "            count += 1\n",
        "        i += 1\n",
        "    return count\n",
        " \n",
        "print(hamming_distance(\"abcde\", \"bcdef\"))\n",
        "print(hamming_distance('strong', 'strung'))\n",
        "print(hamming_distance('abcde', 'abcde'))"
      ],
      "metadata": {
        "colab": {
          "base_uri": "https://localhost:8080/"
        },
        "id": "7IakR8cPDPQW",
        "outputId": "6aaf6875-1f6d-4cff-9f16-f9591b302c3e"
      },
      "execution_count": 6,
      "outputs": [
        {
          "output_type": "stream",
          "name": "stdout",
          "text": [
            "5\n",
            "1\n",
            "0\n"
          ]
        }
      ]
    },
    {
      "cell_type": "code",
      "execution_count": null,
      "metadata": {
        "id": "PIB6cU7LClx7"
      },
      "outputs": [],
      "source": []
    }
  ]
}