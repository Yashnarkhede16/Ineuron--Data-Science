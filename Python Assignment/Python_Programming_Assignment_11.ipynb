{
  "nbformat": 4,
  "nbformat_minor": 0,
  "metadata": {
    "colab": {
      "provenance": [],
      "collapsed_sections": []
    },
    "kernelspec": {
      "name": "python3",
      "display_name": "Python 3"
    },
    "language_info": {
      "name": "python"
    }
  },
  "cells": [
    {
      "cell_type": "markdown",
      "source": [
        "#Python Programming Assignment 11\n",
        "##Name := Yash Bhaskar Narkhede"
      ],
      "metadata": {
        "id": "73-Xe6o23bc2"
      }
    },
    {
      "cell_type": "markdown",
      "source": [
        "# 1. Write a Python program to find words which are greater than given length k?"
      ],
      "metadata": {
        "id": "v9UquCEB3djI"
      }
    },
    {
      "cell_type": "code",
      "source": [
        "def task1(list_of_words: list, k: int):\n",
        "    output = []\n",
        "    for i in list_of_words:\n",
        "        if len(i) > k:\n",
        "            output.append(i)\n",
        "            \n",
        "    return output"
      ],
      "metadata": {
        "id": "-cZ5CEop3kHP"
      },
      "execution_count": 1,
      "outputs": []
    },
    {
      "cell_type": "code",
      "execution_count": 2,
      "metadata": {
        "colab": {
          "base_uri": "https://localhost:8080/"
        },
        "id": "9Jv_TcMk3W5t",
        "outputId": "0220e833-942b-4d61-b8a0-a2acaa6f0e7c"
      },
      "outputs": [
        {
          "output_type": "execute_result",
          "data": {
            "text/plain": [
              "['bananana', 'almond']"
            ]
          },
          "metadata": {},
          "execution_count": 2
        }
      ],
      "source": [
        "list_of_words = ['Apple', 'bananana', 'kiwi', 'berry', 'almond']\n",
        "k = 5\n",
        "\n",
        "task1(list_of_words, k)"
      ]
    },
    {
      "cell_type": "markdown",
      "source": [
        "# 2. Write a Python program for removing i-th character from a string?"
      ],
      "metadata": {
        "id": "8-DUy4ZG3qaP"
      }
    },
    {
      "cell_type": "code",
      "source": [
        "def task2(string: str, i):\n",
        "    string = string.replace(string[i], '')\n",
        "    return string\n",
        "task2('abcdefgh', 4)"
      ],
      "metadata": {
        "colab": {
          "base_uri": "https://localhost:8080/",
          "height": 35
        },
        "id": "rayt9O2e3tQg",
        "outputId": "bfed10da-eea8-4902-db6b-93925f6b89c2"
      },
      "execution_count": 3,
      "outputs": [
        {
          "output_type": "execute_result",
          "data": {
            "text/plain": [
              "'abcdfgh'"
            ],
            "application/vnd.google.colaboratory.intrinsic+json": {
              "type": "string"
            }
          },
          "metadata": {},
          "execution_count": 3
        }
      ]
    },
    {
      "cell_type": "markdown",
      "source": [
        "# 3. Write a Python program to split and join a string?"
      ],
      "metadata": {
        "id": "CLhtkf9-30vh"
      }
    },
    {
      "cell_type": "code",
      "source": [
        "string = \"Write a Python program to split and join a string?\"\n",
        "\n",
        "split = string.split(' ')\n",
        "print(split)\n",
        "\n",
        "join = \" \".join(split)\n",
        "print(join)"
      ],
      "metadata": {
        "colab": {
          "base_uri": "https://localhost:8080/"
        },
        "id": "gOPHcytd31zF",
        "outputId": "c0329d93-77ed-4e12-8c3c-21484b558cd0"
      },
      "execution_count": 4,
      "outputs": [
        {
          "output_type": "stream",
          "name": "stdout",
          "text": [
            "['Write', 'a', 'Python', 'program', 'to', 'split', 'and', 'join', 'a', 'string?']\n",
            "Write a Python program to split and join a string?\n"
          ]
        }
      ]
    },
    {
      "cell_type": "markdown",
      "source": [
        "# 4. Write a Python to check if a given string is binary string or not?"
      ],
      "metadata": {
        "id": "l2wjKuLx34Zo"
      }
    },
    {
      "cell_type": "code",
      "source": [
        "string = input(\"Enter the string: \")\n",
        "binary = ['0', '1']\n",
        "\n",
        "is_binary = True\n",
        "for i in string:\n",
        "    if i not in binary:\n",
        "        is_binary = False\n",
        "    \n",
        "if is_binary:\n",
        "    print(\"Binary\")\n",
        "else:\n",
        "    print(\"Not Binary\")"
      ],
      "metadata": {
        "colab": {
          "base_uri": "https://localhost:8080/"
        },
        "id": "zF3AqOFO38NE",
        "outputId": "4b03d5d7-69bb-4429-fb4b-2d8e8f5f9028"
      },
      "execution_count": 5,
      "outputs": [
        {
          "output_type": "stream",
          "name": "stdout",
          "text": [
            "Enter the string: 101010100011\n",
            "Binary\n"
          ]
        }
      ]
    },
    {
      "cell_type": "code",
      "source": [
        "string = input(\"Enter the string: \")\n",
        "binary = ['0', '1']\n",
        "\n",
        "is_binary = True\n",
        "for i in string:\n",
        "    if i not in binary:\n",
        "        is_binary = False\n",
        "    \n",
        "if is_binary:\n",
        "    print(\"Binary\")\n",
        "else:\n",
        "    print(\"Not Binary\")"
      ],
      "metadata": {
        "colab": {
          "base_uri": "https://localhost:8080/"
        },
        "id": "78PKMKzW4E5w",
        "outputId": "757bc3ae-2741-4c54-cac1-80b0bc9dc7bb"
      },
      "execution_count": 6,
      "outputs": [
        {
          "output_type": "stream",
          "name": "stdout",
          "text": [
            "Enter the string: Yash\n",
            "Not Binary\n"
          ]
        }
      ]
    },
    {
      "cell_type": "markdown",
      "source": [
        "# 5. Write a Python program to find uncommon words from two Strings?"
      ],
      "metadata": {
        "id": "AA-SaeA94M4-"
      }
    },
    {
      "cell_type": "code",
      "source": [
        "def task5(string1, string2):\n",
        "    \n",
        "    string1 = string1.split(' ')\n",
        "    string2 = string2.split(' ')\n",
        "    uncommon = []\n",
        "    \n",
        "    for i in set(string1):\n",
        "        if i not in string2:\n",
        "            uncommon.append(i)\n",
        "\n",
        "    for i in set(string2):\n",
        "        if i not in string1:\n",
        "            uncommon.append(i)\n",
        "            \n",
        "    return uncommon\n"
      ],
      "metadata": {
        "id": "r2Ioha-h4N7S"
      },
      "execution_count": 7,
      "outputs": []
    },
    {
      "cell_type": "code",
      "source": [
        "string1 = \"Write a Python program to split and join a string\"\n",
        "string2 = \"Write a Python program to find uncommon words from two Strings\"\n",
        "\n",
        "task5(string1, string2)"
      ],
      "metadata": {
        "colab": {
          "base_uri": "https://localhost:8080/"
        },
        "id": "X-Gb2USF4TcL",
        "outputId": "771d84ac-2542-408c-8233-e5fc4b530709"
      },
      "execution_count": 8,
      "outputs": [
        {
          "output_type": "execute_result",
          "data": {
            "text/plain": [
              "['split',\n",
              " 'and',\n",
              " 'string',\n",
              " 'join',\n",
              " 'two',\n",
              " 'from',\n",
              " 'words',\n",
              " 'Strings',\n",
              " 'uncommon',\n",
              " 'find']"
            ]
          },
          "metadata": {},
          "execution_count": 8
        }
      ]
    },
    {
      "cell_type": "markdown",
      "source": [
        "# 6. Write a Python to find all duplicate characters in string?"
      ],
      "metadata": {
        "id": "3-m_ZenL4dol"
      }
    },
    {
      "cell_type": "code",
      "source": [
        "def task6(string: str):\n",
        "    duplicate = []\n",
        "    for i in string:\n",
        "        if string.count(i) > 1:\n",
        "            duplicate.append(i)\n",
        "            \n",
        "    return set(duplicate)\n",
        "task6(\"find all duplicate characters in string\")"
      ],
      "metadata": {
        "colab": {
          "base_uri": "https://localhost:8080/"
        },
        "id": "FX5cZU104fG4",
        "outputId": "6d12e32b-85ba-4383-91da-148d2477650e"
      },
      "execution_count": 9,
      "outputs": [
        {
          "output_type": "execute_result",
          "data": {
            "text/plain": [
              "{' ', 'a', 'c', 'd', 'e', 'i', 'l', 'n', 'r', 's', 't'}"
            ]
          },
          "metadata": {},
          "execution_count": 9
        }
      ]
    },
    {
      "cell_type": "markdown",
      "source": [
        "# 7. Write a Python Program to check if a string contains any special character?"
      ],
      "metadata": {
        "id": "R5vcigRy4maI"
      }
    },
    {
      "cell_type": "code",
      "source": [
        "import re\n",
        "string = input(\"Enter a string: \")\n",
        "regex = re.compile('[@_!#$%^&*()<>?/\\|}{~:]')  \n",
        "\n",
        "if(regex.search(string) == None):\n",
        "    print(\"Given string does not contain special characters\")\n",
        "else:\n",
        "    print(\"Given string contains special characters\")"
      ],
      "metadata": {
        "colab": {
          "base_uri": "https://localhost:8080/"
        },
        "id": "rXLDvXOL4np8",
        "outputId": "ebce2f42-1594-4318-852f-c3cce9795e23"
      },
      "execution_count": 10,
      "outputs": [
        {
          "output_type": "stream",
          "name": "stdout",
          "text": [
            "Enter a string: Yash@16{9)\n",
            "Given string contains special characters\n"
          ]
        }
      ]
    },
    {
      "cell_type": "code",
      "source": [
        "import re\n",
        "string = input(\"Enter a string: \")\n",
        "regex = re.compile('[@_!#$%^&*()<>?/\\|}{~:]')  \n",
        "\n",
        "if(regex.search(string) == None):\n",
        "    print(\"Given string does not contain special characters\")\n",
        "else:\n",
        "    print(\"Given string contains special characters\")"
      ],
      "metadata": {
        "colab": {
          "base_uri": "https://localhost:8080/"
        },
        "id": "aWyKeA4_4yd-",
        "outputId": "997b0616-a377-4c4b-8941-5102a9fa4092"
      },
      "execution_count": 11,
      "outputs": [
        {
          "output_type": "stream",
          "name": "stdout",
          "text": [
            "Enter a string: Yash1234\n",
            "Given string does not contain special characters\n"
          ]
        }
      ]
    }
  ]
}