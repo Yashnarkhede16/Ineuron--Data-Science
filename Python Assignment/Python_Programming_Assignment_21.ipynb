{
  "nbformat": 4,
  "nbformat_minor": 0,
  "metadata": {
    "colab": {
      "provenance": [],
      "collapsed_sections": []
    },
    "kernelspec": {
      "name": "python3",
      "display_name": "Python 3"
    },
    "language_info": {
      "name": "python"
    }
  },
  "cells": [
    {
      "cell_type": "markdown",
      "source": [
        "#Python Programming Assignment 21\n",
        "##Name := Yash Bhaskar Narkhede"
      ],
      "metadata": {
        "id": "bT7YYqHNTef3"
      }
    },
    {
      "cell_type": "markdown",
      "source": [
        "## 1. Write a function that takes a list and a number as arguments. Add the number to the end of the list, then remove the first element of the list. The function should then return the updated list.\n"
      ],
      "metadata": {
        "id": "MGdaFRHATrYt"
      }
    },
    {
      "cell_type": "code",
      "source": [
        "def next_in_line(lst: list, num):\n",
        "    if len(lst) > 0:\n",
        "        lst.append(num)\n",
        "        return lst[1:]\n",
        "    else:\n",
        "        return \"'No list has been selected'\"\n",
        "    \n",
        "print(next_in_line([5, 6, 7, 8, 9], 1))\n",
        "print(next_in_line([7, 6, 3, 23, 17], 10))\n",
        "print(next_in_line([1, 10, 20, 42 ], 6))\n",
        "print(next_in_line([], 6))"
      ],
      "metadata": {
        "colab": {
          "base_uri": "https://localhost:8080/"
        },
        "id": "UP6gMD04TzwV",
        "outputId": "75200867-3278-4f3a-f74d-6f88f1c4a91d"
      },
      "execution_count": 1,
      "outputs": [
        {
          "output_type": "stream",
          "name": "stdout",
          "text": [
            "[6, 7, 8, 9, 1]\n",
            "[6, 3, 23, 17, 10]\n",
            "[10, 20, 42, 6]\n",
            "'No list has been selected'\n"
          ]
        }
      ]
    },
    {
      "cell_type": "markdown",
      "source": [
        "## 2. Create the function that takes a list of dictionaries and returns the sum of people's budgets."
      ],
      "metadata": {
        "id": "eTsZucphT4AO"
      }
    },
    {
      "cell_type": "code",
      "source": [
        "def get_budgets(lst: list):\n",
        "    total = 0\n",
        "    for d in lst:\n",
        "        total += d['budget']\n",
        "    return total\n",
        "get_budgets([\n",
        "  { \"name\": \"John\", \"age\": 21, \"budget\": 23000 },\n",
        "  { \"name\": \"Steve\",  \"age\": 32, \"budget\": 40000 },\n",
        "  { \"name\": \"Martin\",  \"age\": 16, \"budget\": 2700 }\n",
        "])"
      ],
      "metadata": {
        "colab": {
          "base_uri": "https://localhost:8080/"
        },
        "id": "IGjaYrLYT68l",
        "outputId": "0cbd398f-cd87-42bf-8e12-8134c0a407b1"
      },
      "execution_count": 2,
      "outputs": [
        {
          "output_type": "execute_result",
          "data": {
            "text/plain": [
              "65700"
            ]
          },
          "metadata": {},
          "execution_count": 2
        }
      ]
    },
    {
      "cell_type": "code",
      "source": [
        "get_budgets([\n",
        "  { \"name\": \"John\",  \"age\": 21, \"budget\": 29000 },\n",
        "  { \"name\": \"Steve\",  \"age\": 32, \"budget\": 32000 },\n",
        "  { \"name\": \"Martin\",  \"age\": 16, \"budget\": 1600 }\n",
        "])"
      ],
      "metadata": {
        "colab": {
          "base_uri": "https://localhost:8080/"
        },
        "id": "YN7c827oT-B9",
        "outputId": "0cb2c93c-ca59-4f36-8ab6-d183305279d5"
      },
      "execution_count": 3,
      "outputs": [
        {
          "output_type": "execute_result",
          "data": {
            "text/plain": [
              "62600"
            ]
          },
          "metadata": {},
          "execution_count": 3
        }
      ]
    },
    {
      "cell_type": "markdown",
      "source": [
        "## 3. Create a function that takes a string and returns a string with its letters in alphabetical order."
      ],
      "metadata": {
        "id": "CZbBgnXGUB_r"
      }
    },
    {
      "cell_type": "code",
      "source": [
        "def alphabet_soup(string: str):\n",
        "    string = sorted(string)\n",
        "    return \"\".join(string)\n",
        "print(alphabet_soup('hello'))\n",
        "print(alphabet_soup('edabit'))\n",
        "print(alphabet_soup('hacker'))\n",
        "print(alphabet_soup('geek'))\n",
        "print(alphabet_soup('javascript'))"
      ],
      "metadata": {
        "colab": {
          "base_uri": "https://localhost:8080/"
        },
        "id": "6ixv17QHUEuF",
        "outputId": "260ec316-9b03-4694-e576-fab9d85e804f"
      },
      "execution_count": 4,
      "outputs": [
        {
          "output_type": "stream",
          "name": "stdout",
          "text": [
            "ehllo\n",
            "abdeit\n",
            "acehkr\n",
            "eegk\n",
            "aacijprstv\n"
          ]
        }
      ]
    },
    {
      "cell_type": "markdown",
      "source": [
        "## 4. Suppose that you invest $10,000 for 10 years at an interest rate of 6% compounded monthly. What will be the value of your investment at the end of the 10 year period?"
      ],
      "metadata": {
        "id": "dyK7WVAFUIPb"
      }
    },
    {
      "cell_type": "code",
      "source": [
        "def compound_interest(amt, years, intrest, compPeriod):\n",
        "    future_value = amt *(1 + (intrest/compPeriod)) ** (years * compPeriod)\n",
        "    return round(future_value,2)\n",
        "print(compound_interest(100, 1, 0.05, 1))\n",
        "print(compound_interest(3500, 15, 0.1, 4))\n",
        "print(compound_interest(100000, 20, 0.15, 365))"
      ],
      "metadata": {
        "colab": {
          "base_uri": "https://localhost:8080/"
        },
        "id": "iBQmHnN7UK2r",
        "outputId": "c4f220e5-f298-4d9c-82b5-0f2ef74ef5ef"
      },
      "execution_count": 5,
      "outputs": [
        {
          "output_type": "stream",
          "name": "stdout",
          "text": [
            "105.0\n",
            "15399.26\n",
            "2007316.26\n"
          ]
        }
      ]
    },
    {
      "cell_type": "markdown",
      "source": [
        "## 5. Write a function that takes a list of elements and returns only the integers."
      ],
      "metadata": {
        "id": "d9j2Kv_KUNem"
      }
    },
    {
      "cell_type": "code",
      "source": [
        "def return_only_integer(lst: list):\n",
        "    return [x for x in lst if type(x) == int]\n",
        "print(return_only_integer([9, 2, 'space', 'car', 'lion', 16]))\n",
        "print(return_only_integer(['hello', 81, 'basketball', 123, 'fox']))\n",
        "print(return_only_integer([10, '121', 56, 20, 'car', 3, 'lion']))\n",
        "print(return_only_integer(['String', True, 3.3, 1]))"
      ],
      "metadata": {
        "colab": {
          "base_uri": "https://localhost:8080/"
        },
        "id": "tPpX9fALUQMK",
        "outputId": "f59e7d62-3aa4-4261-a0df-c3a3fb11700d"
      },
      "execution_count": 6,
      "outputs": [
        {
          "output_type": "stream",
          "name": "stdout",
          "text": [
            "[9, 2, 16]\n",
            "[81, 123]\n",
            "[10, 56, 20, 3]\n",
            "[1]\n"
          ]
        }
      ]
    },
    {
      "cell_type": "code",
      "execution_count": null,
      "metadata": {
        "id": "_lEzEvwQTcOd"
      },
      "outputs": [],
      "source": []
    }
  ]
}