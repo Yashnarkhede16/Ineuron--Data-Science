{
  "nbformat": 4,
  "nbformat_minor": 0,
  "metadata": {
    "colab": {
      "provenance": [],
      "collapsed_sections": []
    },
    "kernelspec": {
      "name": "python3",
      "display_name": "Python 3"
    },
    "language_info": {
      "name": "python"
    }
  },
  "cells": [
    {
      "cell_type": "markdown",
      "source": [
        "# Python Programming Assignment 2\n",
        "\n",
        "## Name := Yash Bhaskar Narkhede"
      ],
      "metadata": {
        "id": "8VbU9D9Pa-MN"
      }
    },
    {
      "cell_type": "markdown",
      "source": [
        "## 1.Write a Python program to convert Kilometers to Miles ?"
      ],
      "metadata": {
        "id": "gY9_ODvAbDvs"
      }
    },
    {
      "cell_type": "code",
      "source": [
        "def kmToMiles():\n",
        "    kiloMeters = float(input(\"Enter no of kilometers : \"))\n",
        "    print(\"{} km is Equal to {} miles\".format(kiloMeters,kiloMeters*0.621))\n",
        "\n",
        "kmToMiles()"
      ],
      "metadata": {
        "colab": {
          "base_uri": "https://localhost:8080/"
        },
        "id": "bXTKSWnxbQts",
        "outputId": "25e44ac5-41a2-452c-d8fe-c5f2d67a89a3"
      },
      "execution_count": 1,
      "outputs": [
        {
          "output_type": "stream",
          "name": "stdout",
          "text": [
            "Enter no of kilometers : 2\n",
            "2.0 km is Equal to 1.242 miles\n"
          ]
        }
      ]
    },
    {
      "cell_type": "markdown",
      "source": [
        "## 2.Write a Python program to convert Celsius to Farenheit ?"
      ],
      "metadata": {
        "id": "Pvn1nCLWbb9J"
      }
    },
    {
      "cell_type": "code",
      "source": [
        "def celToFarh():\n",
        "    celsius = int(input(\"Enter temperature in celsius : \"))\n",
        "    Farenheit = (celsius*(9/5))+32\n",
        "    print(\"{}° Celsius is Equal to {}° Farenheit\".format(celsius,Farenheit))\n",
        "    \n",
        "celToFarh()"
      ],
      "metadata": {
        "colab": {
          "base_uri": "https://localhost:8080/"
        },
        "id": "FZYkKR_DbgOQ",
        "outputId": "3817a08a-723d-4ca5-ed43-985b9de4c8e9"
      },
      "execution_count": 2,
      "outputs": [
        {
          "output_type": "stream",
          "name": "stdout",
          "text": [
            "Enter temperature in celsius : 3\n",
            "3° Celsius is Equal to 37.4° Farenheit\n"
          ]
        }
      ]
    },
    {
      "cell_type": "markdown",
      "source": [
        "## 3.Write a Python program to display calender ?"
      ],
      "metadata": {
        "id": "-GsuGi1Rbkr2"
      }
    },
    {
      "cell_type": "code",
      "source": [
        "import calendar\n",
        "\n",
        "def showCalender():\n",
        "    year = int(input(\"Enter calender year: \"))\n",
        "    print(calendar.calendar(year))\n",
        "    \n",
        "showCalender()"
      ],
      "metadata": {
        "colab": {
          "base_uri": "https://localhost:8080/"
        },
        "id": "0dFw8zkzbpjD",
        "outputId": "50fa9291-c547-40a3-8bf1-6dfae10bc95c"
      },
      "execution_count": 3,
      "outputs": [
        {
          "output_type": "stream",
          "name": "stdout",
          "text": [
            "Enter calender year: 2022\n",
            "                                  2022\n",
            "\n",
            "      January                   February                   March\n",
            "Mo Tu We Th Fr Sa Su      Mo Tu We Th Fr Sa Su      Mo Tu We Th Fr Sa Su\n",
            "                1  2          1  2  3  4  5  6          1  2  3  4  5  6\n",
            " 3  4  5  6  7  8  9       7  8  9 10 11 12 13       7  8  9 10 11 12 13\n",
            "10 11 12 13 14 15 16      14 15 16 17 18 19 20      14 15 16 17 18 19 20\n",
            "17 18 19 20 21 22 23      21 22 23 24 25 26 27      21 22 23 24 25 26 27\n",
            "24 25 26 27 28 29 30      28                        28 29 30 31\n",
            "31\n",
            "\n",
            "       April                      May                       June\n",
            "Mo Tu We Th Fr Sa Su      Mo Tu We Th Fr Sa Su      Mo Tu We Th Fr Sa Su\n",
            "             1  2  3                         1             1  2  3  4  5\n",
            " 4  5  6  7  8  9 10       2  3  4  5  6  7  8       6  7  8  9 10 11 12\n",
            "11 12 13 14 15 16 17       9 10 11 12 13 14 15      13 14 15 16 17 18 19\n",
            "18 19 20 21 22 23 24      16 17 18 19 20 21 22      20 21 22 23 24 25 26\n",
            "25 26 27 28 29 30         23 24 25 26 27 28 29      27 28 29 30\n",
            "                          30 31\n",
            "\n",
            "        July                     August                  September\n",
            "Mo Tu We Th Fr Sa Su      Mo Tu We Th Fr Sa Su      Mo Tu We Th Fr Sa Su\n",
            "             1  2  3       1  2  3  4  5  6  7                1  2  3  4\n",
            " 4  5  6  7  8  9 10       8  9 10 11 12 13 14       5  6  7  8  9 10 11\n",
            "11 12 13 14 15 16 17      15 16 17 18 19 20 21      12 13 14 15 16 17 18\n",
            "18 19 20 21 22 23 24      22 23 24 25 26 27 28      19 20 21 22 23 24 25\n",
            "25 26 27 28 29 30 31      29 30 31                  26 27 28 29 30\n",
            "\n",
            "      October                   November                  December\n",
            "Mo Tu We Th Fr Sa Su      Mo Tu We Th Fr Sa Su      Mo Tu We Th Fr Sa Su\n",
            "                1  2          1  2  3  4  5  6                1  2  3  4\n",
            " 3  4  5  6  7  8  9       7  8  9 10 11 12 13       5  6  7  8  9 10 11\n",
            "10 11 12 13 14 15 16      14 15 16 17 18 19 20      12 13 14 15 16 17 18\n",
            "17 18 19 20 21 22 23      21 22 23 24 25 26 27      19 20 21 22 23 24 25\n",
            "24 25 26 27 28 29 30      28 29 30                  26 27 28 29 30 31\n",
            "31\n",
            "\n"
          ]
        }
      ]
    },
    {
      "cell_type": "markdown",
      "source": [
        "## 4.Write a Python program to solve quadartic equation ?"
      ],
      "metadata": {
        "id": "iB5YhW2zbv9t"
      }
    },
    {
      "cell_type": "code",
      "source": [
        "import cmath\n",
        "import math\n",
        "\n",
        "def quadarticEquationRoots(a,b,c):\n",
        "    \n",
        "    discriminant = b*b-4*a*c\n",
        "    \n",
        "    if discriminant == 0:\n",
        "        r1 = -b/2*a\n",
        "        r2 = -b/2*a\n",
        "        print(\"Roots are Real\",r1,r2)\n",
        "    elif discriminant > 0:\n",
        "        r1 = (-b-math.sqrt(discriminant))/(2 * a)\n",
        "        r2 = (-b+math.sqrt(discriminant))/(2 * a)\n",
        "        print(\"Roots are Real and different\",r1,r2)\n",
        "    else:\n",
        "        r1 = (-b-cmath.sqrt(discriminant))/(2 * a)\n",
        "        r2 = (-b+cmath.sqrt(discriminant))/(2 * a)\n",
        "        print(\"Roots are Imaginary\",r1,r2)\n",
        "\n",
        "\n",
        "a = int(input('Enter a value: '))\n",
        "b = int(input('Enter b value: '))\n",
        "c = int(input('Enter c value: '))\n",
        "\n",
        "quadarticEquationRoots(a,b,c)"
      ],
      "metadata": {
        "colab": {
          "base_uri": "https://localhost:8080/"
        },
        "id": "et16sYrjb0fB",
        "outputId": "71467f6d-bedf-44af-e077-f049328cfad1"
      },
      "execution_count": 4,
      "outputs": [
        {
          "output_type": "stream",
          "name": "stdout",
          "text": [
            "Enter a value: 1\n",
            "Enter b value: 2\n",
            "Enter c value: 1\n",
            "Roots are Real -1.0 -1.0\n"
          ]
        }
      ]
    },
    {
      "cell_type": "markdown",
      "source": [
        "## 5.Write a Python program to swap two variables without temp variable ?"
      ],
      "metadata": {
        "id": "cXv9CsPSb7gx"
      }
    },
    {
      "cell_type": "code",
      "source": [
        "num_1 = int(input('Enter first number: '))\n",
        "num_2 = int(input('Enter second number: '))\n",
        "\n",
        "\n",
        "def swapNumbers(num_1,num_2):\n",
        "        print('Before Swapping',num_1,num_2)\n",
        "        num_1 = num_1+num_2\n",
        "        num_2 = num_1-num_2\n",
        "        num_1 = num_1-num_2\n",
        "        print('before Swapping',num_1,num_2)\n",
        "\n",
        "swapNumbers(num_1,num_2)"
      ],
      "metadata": {
        "colab": {
          "base_uri": "https://localhost:8080/"
        },
        "id": "F9y2C94Ob-16",
        "outputId": "918352c9-5e3d-42d0-eb60-b5907dca3df0"
      },
      "execution_count": 5,
      "outputs": [
        {
          "output_type": "stream",
          "name": "stdout",
          "text": [
            "Enter first number: 43\n",
            "Enter second number: 78\n",
            "Before Swapping 43 78\n",
            "before Swapping 78 43\n"
          ]
        }
      ]
    },
    {
      "cell_type": "code",
      "execution_count": null,
      "metadata": {
        "id": "31hk681ra7F1"
      },
      "outputs": [],
      "source": []
    }
  ]
}