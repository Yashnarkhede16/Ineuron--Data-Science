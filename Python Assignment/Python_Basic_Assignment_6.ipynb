{
  "nbformat": 4,
  "nbformat_minor": 0,
  "metadata": {
    "colab": {
      "provenance": [],
      "collapsed_sections": []
    },
    "kernelspec": {
      "name": "python3",
      "display_name": "Python 3"
    },
    "language_info": {
      "name": "python"
    }
  },
  "cells": [
    {
      "cell_type": "markdown",
      "source": [
        "# Python Basic Assignment 6\n",
        "## Name := Yash Bhaskar Narkhede"
      ],
      "metadata": {
        "id": "OPEwj4dKC2-T"
      }
    },
    {
      "cell_type": "markdown",
      "source": [
        "## 1. What are escape characters, and how do you use them?\n",
        "Ans :=\n",
        "\n",
        "In Python strings, the backslash() is a special character, also called the \"escape\" character. It is used in representing certain whitespace characters: \"\\t\" is a tab, \"\\n\" is a newline, and \"\\r\" is a carriage return\n",
        "\n",
        "prefixing a special character with() turns it into an ordinary character. This is called \"escaping\". For example, \" \\' \" is the single quote character. 'It\\'s Sunday' therefore is a valid string and equivalent to \"It's Sunday\".\n"
      ],
      "metadata": {
        "id": "KqnPfSv8C5BU"
      }
    },
    {
      "cell_type": "markdown",
      "source": [
        "## 2. What do the escape characters n and t stand for?\n",
        "Ans :=\n",
        "\n",
        "\"\\t\" is for tab space, \"\\n\" is for a newline"
      ],
      "metadata": {
        "id": "v598ygsQDJgx"
      }
    },
    {
      "cell_type": "markdown",
      "source": [
        "## 3. What is the way to include backslash characters in a string?\n",
        "You need to append backslash with another backslash to include the backslash in your strings\n",
        "\n",
        "eg"
      ],
      "metadata": {
        "id": "T-RNlysbDQMl"
      }
    },
    {
      "cell_type": "code",
      "source": [
        "print(\"it's a back slash \\ in a sentence\")"
      ],
      "metadata": {
        "colab": {
          "base_uri": "https://localhost:8080/"
        },
        "id": "uQPHUgwCDUXU",
        "outputId": "5332702b-b533-4f93-917a-abe901d62b23"
      },
      "execution_count": 1,
      "outputs": [
        {
          "output_type": "stream",
          "name": "stdout",
          "text": [
            "it's a back slash \\ in a sentence\n"
          ]
        }
      ]
    },
    {
      "cell_type": "code",
      "execution_count": 2,
      "metadata": {
        "colab": {
          "base_uri": "https://localhost:8080/"
        },
        "id": "Prt3ntqSCyxo",
        "outputId": "203e3783-79a7-451c-f11e-12eec1c17a2f"
      },
      "outputs": [
        {
          "output_type": "stream",
          "name": "stdout",
          "text": [
            "it's a back slash \\ in a sentence\n"
          ]
        }
      ],
      "source": [
        "print(\"it's a back slash \\\\ in a sentence\")"
      ]
    },
    {
      "cell_type": "code",
      "source": [
        "print(\"it's a back slash \\\\\\ in a sentence\")"
      ],
      "metadata": {
        "colab": {
          "base_uri": "https://localhost:8080/"
        },
        "id": "zpxUSpCADaUj",
        "outputId": "e80e1c96-dc56-4cf2-8747-dd6901fb9309"
      },
      "execution_count": 3,
      "outputs": [
        {
          "output_type": "stream",
          "name": "stdout",
          "text": [
            "it's a back slash \\\\ in a sentence\n"
          ]
        }
      ]
    },
    {
      "cell_type": "markdown",
      "source": [
        "## 4. The string \"Howl's Moving Castle\" is a correct value. Why isn't the single quote character in the word Howl's not escaped a problem?\n",
        "The string \"Howl's Moving Castle\" is a correct value. Why isn't the single quote character in the word Howl's not escaped a problem?\n",
        "\n"
      ],
      "metadata": {
        "id": "InW9imqWDeEv"
      }
    },
    {
      "cell_type": "markdown",
      "source": [
        "\n",
        "## 5. How do you write a string of newlines if you don't want to use the n character?\n",
        "we can use Pythons multi line strings that done using triple quotes\n",
        "\n",
        "Example:"
      ],
      "metadata": {
        "id": "lsp0Nr2tDlIc"
      }
    },
    {
      "cell_type": "code",
      "source": [
        "string_multiline = \"\"\"This is my\n",
        "multi line\n",
        "string by\n",
        "name string_multiline\"\"\""
      ],
      "metadata": {
        "id": "jYFN0bf9DrUf"
      },
      "execution_count": 4,
      "outputs": []
    },
    {
      "cell_type": "code",
      "source": [
        "string_multiline"
      ],
      "metadata": {
        "colab": {
          "base_uri": "https://localhost:8080/",
          "height": 35
        },
        "id": "ZwH4-qubDuup",
        "outputId": "5aba3791-db39-4b2e-ebcd-28c8b00764d7"
      },
      "execution_count": 5,
      "outputs": [
        {
          "output_type": "execute_result",
          "data": {
            "text/plain": [
              "'This is my\\nmulti line\\nstring by\\nname string_multiline'"
            ],
            "application/vnd.google.colaboratory.intrinsic+json": {
              "type": "string"
            }
          },
          "metadata": {},
          "execution_count": 5
        }
      ]
    },
    {
      "cell_type": "markdown",
      "source": [
        "\n",
        "## 6. What are the values of the given expressions?\n",
        "1. 'Hello, world!'[1] 'e'\n",
        "\n",
        "2. 'Hello, world!'[0:5] 'Hello'\n",
        "\n",
        "3. 'Hello, world!'[:5] 'Hello'\n",
        "\n",
        "4. 'Hello, world!'[3:] 'lo, world!'"
      ],
      "metadata": {
        "id": "825aai_FD0RK"
      }
    },
    {
      "cell_type": "code",
      "source": [
        "'Hello, world!'[1]"
      ],
      "metadata": {
        "colab": {
          "base_uri": "https://localhost:8080/",
          "height": 35
        },
        "id": "KIszYHDuD-AI",
        "outputId": "0b34402c-4a0d-4a47-a21e-0d014570418f"
      },
      "execution_count": 6,
      "outputs": [
        {
          "output_type": "execute_result",
          "data": {
            "text/plain": [
              "'e'"
            ],
            "application/vnd.google.colaboratory.intrinsic+json": {
              "type": "string"
            }
          },
          "metadata": {},
          "execution_count": 6
        }
      ]
    },
    {
      "cell_type": "code",
      "source": [
        "'Hello, world!'[0:5]"
      ],
      "metadata": {
        "colab": {
          "base_uri": "https://localhost:8080/",
          "height": 35
        },
        "id": "FGn0nhcqD-Ju",
        "outputId": "e720ab30-a51d-43cc-d603-33896ebe0ac7"
      },
      "execution_count": 8,
      "outputs": [
        {
          "output_type": "execute_result",
          "data": {
            "text/plain": [
              "'Hello'"
            ],
            "application/vnd.google.colaboratory.intrinsic+json": {
              "type": "string"
            }
          },
          "metadata": {},
          "execution_count": 8
        }
      ]
    },
    {
      "cell_type": "code",
      "source": [
        "'Hello, world!'[:5]"
      ],
      "metadata": {
        "colab": {
          "base_uri": "https://localhost:8080/",
          "height": 35
        },
        "id": "4sbMy2T1D-SU",
        "outputId": "0c256177-2fd9-45f1-d6b4-3e5d097a5acf"
      },
      "execution_count": 9,
      "outputs": [
        {
          "output_type": "execute_result",
          "data": {
            "text/plain": [
              "'Hello'"
            ],
            "application/vnd.google.colaboratory.intrinsic+json": {
              "type": "string"
            }
          },
          "metadata": {},
          "execution_count": 9
        }
      ]
    },
    {
      "cell_type": "code",
      "source": [
        "'Hello, world!'[3:]"
      ],
      "metadata": {
        "colab": {
          "base_uri": "https://localhost:8080/",
          "height": 35
        },
        "id": "cbLT10FQD-cm",
        "outputId": "c1218ba8-8872-4998-d788-0ebf604ce52a"
      },
      "execution_count": 10,
      "outputs": [
        {
          "output_type": "execute_result",
          "data": {
            "text/plain": [
              "'lo, world!'"
            ],
            "application/vnd.google.colaboratory.intrinsic+json": {
              "type": "string"
            }
          },
          "metadata": {},
          "execution_count": 10
        }
      ]
    },
    {
      "cell_type": "markdown",
      "source": [
        "\n",
        "## 7. What are the values of the following expressions?\n",
        "*   'Hello'.upper() -> 'HELLO'\n",
        "*   'Hello'.upper().isupper() -> True\n",
        "*   'Hello'.upper().lower() -> 'hello'\n",
        "\n"
      ],
      "metadata": {
        "id": "rorGevl4EOAA"
      }
    },
    {
      "cell_type": "code",
      "source": [
        "'Hello'.upper() "
      ],
      "metadata": {
        "colab": {
          "base_uri": "https://localhost:8080/",
          "height": 35
        },
        "id": "cxdsWrV9EYG6",
        "outputId": "1c61addb-69c1-41ea-b8ce-9755a8e891ea"
      },
      "execution_count": 11,
      "outputs": [
        {
          "output_type": "execute_result",
          "data": {
            "text/plain": [
              "'HELLO'"
            ],
            "application/vnd.google.colaboratory.intrinsic+json": {
              "type": "string"
            }
          },
          "metadata": {},
          "execution_count": 11
        }
      ]
    },
    {
      "cell_type": "code",
      "source": [
        "'Hello'.upper().isupper()"
      ],
      "metadata": {
        "colab": {
          "base_uri": "https://localhost:8080/"
        },
        "id": "Bd9vuu3rEcKx",
        "outputId": "312c2706-ce57-41e7-892f-81e01f849ba9"
      },
      "execution_count": 12,
      "outputs": [
        {
          "output_type": "execute_result",
          "data": {
            "text/plain": [
              "True"
            ]
          },
          "metadata": {},
          "execution_count": 12
        }
      ]
    },
    {
      "cell_type": "code",
      "source": [
        "'Hello'.upper().lower()"
      ],
      "metadata": {
        "colab": {
          "base_uri": "https://localhost:8080/",
          "height": 35
        },
        "id": "do7JkfdMEfOX",
        "outputId": "79d15de4-3fca-4386-eb51-1b7692b28248"
      },
      "execution_count": 13,
      "outputs": [
        {
          "output_type": "execute_result",
          "data": {
            "text/plain": [
              "'hello'"
            ],
            "application/vnd.google.colaboratory.intrinsic+json": {
              "type": "string"
            }
          },
          "metadata": {},
          "execution_count": 13
        }
      ]
    },
    {
      "cell_type": "markdown",
      "source": [
        "\n",
        "## 8. What are the values of the following expressions?\n",
        "\n",
        "*   'Remember, remember, the fifth of July.'.split() -> ['Remember,', 'remember,', 'the', 'fifth', 'of', 'July.']\n",
        "*   '-'.join('There can only one.'.split()) -> 'There-can-only-one.'\n",
        "\n"
      ],
      "metadata": {
        "id": "EasYnk4_EjaE"
      }
    },
    {
      "cell_type": "code",
      "source": [
        "'Remember, remember, the fifth of July.'.split()"
      ],
      "metadata": {
        "colab": {
          "base_uri": "https://localhost:8080/"
        },
        "id": "Hi7vI4A5Eih0",
        "outputId": "a841b044-cc6a-4535-d1ba-0faaaee24f87"
      },
      "execution_count": 14,
      "outputs": [
        {
          "output_type": "execute_result",
          "data": {
            "text/plain": [
              "['Remember,', 'remember,', 'the', 'fifth', 'of', 'July.']"
            ]
          },
          "metadata": {},
          "execution_count": 14
        }
      ]
    },
    {
      "cell_type": "code",
      "source": [
        "'-'.join('There can only one.'.split())"
      ],
      "metadata": {
        "colab": {
          "base_uri": "https://localhost:8080/",
          "height": 35
        },
        "id": "30m2N6ieE0HR",
        "outputId": "6d770207-1c1b-45c0-ff50-51b38de5b979"
      },
      "execution_count": 15,
      "outputs": [
        {
          "output_type": "execute_result",
          "data": {
            "text/plain": [
              "'There-can-only-one.'"
            ],
            "application/vnd.google.colaboratory.intrinsic+json": {
              "type": "string"
            }
          },
          "metadata": {},
          "execution_count": 15
        }
      ]
    },
    {
      "cell_type": "markdown",
      "source": [
        "\n",
        "## 9. What are the methods for right-justifying, left-justifying, and centering a string?"
      ],
      "metadata": {
        "id": "m37ZohOJE3E_"
      }
    },
    {
      "cell_type": "code",
      "source": [
        "# left justified\n",
        "str1 =\"Data Scienctist\"\n",
        "str1.ljust(19,\";\")"
      ],
      "metadata": {
        "colab": {
          "base_uri": "https://localhost:8080/",
          "height": 35
        },
        "id": "ZDjt8W0mE-l-",
        "outputId": "f22b7594-0e9b-422f-acd8-fad59db768c9"
      },
      "execution_count": 16,
      "outputs": [
        {
          "output_type": "execute_result",
          "data": {
            "text/plain": [
              "'Data Scienctist;;;;'"
            ],
            "application/vnd.google.colaboratory.intrinsic+json": {
              "type": "string"
            }
          },
          "metadata": {},
          "execution_count": 16
        }
      ]
    },
    {
      "cell_type": "code",
      "source": [
        "# right justified\n",
        "str1 =\"Data Scienctist\"\n",
        "str1.rjust(22,\"-\")"
      ],
      "metadata": {
        "colab": {
          "base_uri": "https://localhost:8080/",
          "height": 35
        },
        "id": "iZ06oKmVFA3L",
        "outputId": "6ac70f96-f46c-404a-9980-f666b9d62afa"
      },
      "execution_count": 17,
      "outputs": [
        {
          "output_type": "execute_result",
          "data": {
            "text/plain": [
              "'-------Data Scienctist'"
            ],
            "application/vnd.google.colaboratory.intrinsic+json": {
              "type": "string"
            }
          },
          "metadata": {},
          "execution_count": 17
        }
      ]
    },
    {
      "cell_type": "code",
      "source": [
        "# center justified\n",
        "str1 =\"Center\"\n",
        "str1.center(40,'*')"
      ],
      "metadata": {
        "colab": {
          "base_uri": "https://localhost:8080/",
          "height": 35
        },
        "id": "FCt5O3sAFBBW",
        "outputId": "e69ec317-38db-41eb-f48c-bb97903a8568"
      },
      "execution_count": 18,
      "outputs": [
        {
          "output_type": "execute_result",
          "data": {
            "text/plain": [
              "'*****************Center*****************'"
            ],
            "application/vnd.google.colaboratory.intrinsic+json": {
              "type": "string"
            }
          },
          "metadata": {},
          "execution_count": 18
        }
      ]
    },
    {
      "cell_type": "markdown",
      "source": [
        "\n",
        "##10. What is the best way to remove whitespace characters from the start or end?\n",
        "We can use:\n",
        "\n",
        "1. lstrip() -> removes white spaces from left of the string\n",
        "\n",
        "2. rstrip() -> removes whitespaces from right of the string"
      ],
      "metadata": {
        "id": "zTpujL5-E3Qb"
      }
    },
    {
      "cell_type": "code",
      "source": [
        "str1 = \"                    hello         \"\n",
        "print(str1)\n",
        "print(str1.lstrip())"
      ],
      "metadata": {
        "colab": {
          "base_uri": "https://localhost:8080/"
        },
        "id": "DY1P8ZLpFXxV",
        "outputId": "11fe7b61-8415-4f98-90b1-fd1bf5765144"
      },
      "execution_count": 19,
      "outputs": [
        {
          "output_type": "stream",
          "name": "stdout",
          "text": [
            "                    hello         \n",
            "hello         \n"
          ]
        }
      ]
    },
    {
      "cell_type": "code",
      "source": [
        "str1 = \"hello                \"\n",
        "print(str1)\n",
        "print(str1.rstrip())"
      ],
      "metadata": {
        "colab": {
          "base_uri": "https://localhost:8080/"
        },
        "id": "_2j8clYFFazG",
        "outputId": "845875b6-57bb-4631-d58e-ce49a0c020e8"
      },
      "execution_count": 20,
      "outputs": [
        {
          "output_type": "stream",
          "name": "stdout",
          "text": [
            "hello                \n",
            "hello\n"
          ]
        }
      ]
    }
  ]
}