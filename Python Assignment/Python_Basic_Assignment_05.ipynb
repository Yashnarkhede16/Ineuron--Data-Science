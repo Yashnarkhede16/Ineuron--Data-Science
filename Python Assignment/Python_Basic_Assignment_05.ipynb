{
  "nbformat": 4,
  "nbformat_minor": 0,
  "metadata": {
    "colab": {
      "provenance": [],
      "collapsed_sections": []
    },
    "kernelspec": {
      "name": "python3",
      "display_name": "Python 3"
    },
    "language_info": {
      "name": "python"
    }
  },
  "cells": [
    {
      "cell_type": "markdown",
      "source": [
        "# Python Basic Assignment 5\n",
        "\n",
        "## Name := Yash Bhaskar Narkhede"
      ],
      "metadata": {
        "id": "tG3MEZb6AZeR"
      }
    },
    {
      "cell_type": "markdown",
      "source": [
        "# 1. What does an empty dictionary's code look like?"
      ],
      "metadata": {
        "id": "f6hipg2HAc4-"
      }
    },
    {
      "cell_type": "code",
      "source": [
        "emptyDict = {}\n",
        "type(emptyDict)"
      ],
      "metadata": {
        "colab": {
          "base_uri": "https://localhost:8080/"
        },
        "id": "E9oBWNdlArAe",
        "outputId": "7fe6eae8-4c0a-4adc-fb15-8b4aaa3d7147"
      },
      "execution_count": 1,
      "outputs": [
        {
          "output_type": "execute_result",
          "data": {
            "text/plain": [
              "dict"
            ]
          },
          "metadata": {},
          "execution_count": 1
        }
      ]
    },
    {
      "cell_type": "markdown",
      "source": [
        "# 2. What is the value of a dictionary value with the key 'foo' and the value 42?"
      ],
      "metadata": {
        "id": "Jt4Kv9bDAvWn"
      }
    },
    {
      "cell_type": "code",
      "source": [
        "my_dict = {'foo': 42}\n",
        "my_dict['foo']"
      ],
      "metadata": {
        "colab": {
          "base_uri": "https://localhost:8080/"
        },
        "id": "KTHamppdAw1F",
        "outputId": "56f496d0-cec6-4f9b-d291-02f72090b4df"
      },
      "execution_count": 2,
      "outputs": [
        {
          "output_type": "execute_result",
          "data": {
            "text/plain": [
              "42"
            ]
          },
          "metadata": {},
          "execution_count": 2
        }
      ]
    },
    {
      "cell_type": "markdown",
      "source": [
        "# 3. What is the most significant distinction between a dictionary and a list?"
      ],
      "metadata": {
        "id": "pJUT8cFJA2IS"
      }
    },
    {
      "cell_type": "code",
      "source": [
        "dict3 = {'k1': 123, 'k2': 2+3j}\n",
        "list3 = [12,23,45]"
      ],
      "metadata": {
        "id": "JLenJ8_dA7wY"
      },
      "execution_count": 3,
      "outputs": []
    },
    {
      "cell_type": "markdown",
      "source": [
        "# 4. What happens if you try to access spam['foo'] if spam is {'bar': 100}?"
      ],
      "metadata": {
        "id": "ejGiNXDmBCfC"
      }
    },
    {
      "cell_type": "code",
      "source": [
        "spam = {'bar': 100}\n",
        "spam['foo']"
      ],
      "metadata": {
        "colab": {
          "base_uri": "https://localhost:8080/",
          "height": 183
        },
        "id": "kidiGh7kBGMx",
        "outputId": "9058e998-d204-4c11-9640-82fb58dfaebe"
      },
      "execution_count": 4,
      "outputs": [
        {
          "output_type": "error",
          "ename": "KeyError",
          "evalue": "ignored",
          "traceback": [
            "\u001b[0;31m---------------------------------------------------------------------------\u001b[0m",
            "\u001b[0;31mKeyError\u001b[0m                                  Traceback (most recent call last)",
            "\u001b[0;32m<ipython-input-4-56a8e50c7ff8>\u001b[0m in \u001b[0;36m<module>\u001b[0;34m\u001b[0m\n\u001b[1;32m      1\u001b[0m \u001b[0mspam\u001b[0m \u001b[0;34m=\u001b[0m \u001b[0;34m{\u001b[0m\u001b[0;34m'bar'\u001b[0m\u001b[0;34m:\u001b[0m \u001b[0;36m100\u001b[0m\u001b[0;34m}\u001b[0m\u001b[0;34m\u001b[0m\u001b[0;34m\u001b[0m\u001b[0m\n\u001b[0;32m----> 2\u001b[0;31m \u001b[0mspam\u001b[0m\u001b[0;34m[\u001b[0m\u001b[0;34m'foo'\u001b[0m\u001b[0;34m]\u001b[0m\u001b[0;34m\u001b[0m\u001b[0;34m\u001b[0m\u001b[0m\n\u001b[0m",
            "\u001b[0;31mKeyError\u001b[0m: 'foo'"
          ]
        }
      ]
    },
    {
      "cell_type": "markdown",
      "source": [
        "# 5. If a dictionary is stored in spam, \n",
        "# what is the difference between the expressions 'cat' in spam and 'cat' in spam.keys()?"
      ],
      "metadata": {
        "id": "gUFi7iOtBOJT"
      }
    },
    {
      "cell_type": "code",
      "source": [
        "dict5 = {'k1': 123, 'k2': 2+3j}\n",
        "a = 'k1' in dict5\n",
        "b = 'k1' in dict5.keys()\n",
        "print(a, b)"
      ],
      "metadata": {
        "colab": {
          "base_uri": "https://localhost:8080/"
        },
        "id": "ExSl0VrSBGS_",
        "outputId": "ce8c40e4-e098-4ada-8d42-2b891fdc2bfe"
      },
      "execution_count": 5,
      "outputs": [
        {
          "output_type": "stream",
          "name": "stdout",
          "text": [
            "True True\n"
          ]
        }
      ]
    },
    {
      "cell_type": "markdown",
      "source": [
        "# 6. If a dictionary is stored in spam,\n",
        "# what is the difference between the expressions 'cat' in spam and 'cat' in spam.values()?\n"
      ],
      "metadata": {
        "id": "ksPGT2l6BWn3"
      }
    },
    {
      "cell_type": "code",
      "execution_count": 6,
      "metadata": {
        "colab": {
          "base_uri": "https://localhost:8080/"
        },
        "id": "hk_8A2nXAYTW",
        "outputId": "5040c5fb-7977-4260-96f4-3d00de94c0d6"
      },
      "outputs": [
        {
          "output_type": "stream",
          "name": "stdout",
          "text": [
            "True False\n"
          ]
        }
      ],
      "source": [
        "spam = {'cat': 123, 'k2': 2+3j}\n",
        "a = 'cat' in spam\n",
        "b = 'cat' in spam.values()\n",
        "print(a, b)"
      ]
    },
    {
      "cell_type": "markdown",
      "source": [
        "# 7. What is a shortcut for the following code?\n",
        "### if 'color' not in spam:\n",
        "### spam['color'] = 'black'"
      ],
      "metadata": {
        "id": "n5NLXaB3BdaI"
      }
    },
    {
      "cell_type": "code",
      "source": [
        "spam"
      ],
      "metadata": {
        "colab": {
          "base_uri": "https://localhost:8080/"
        },
        "id": "Zy7PJqX9Bj3R",
        "outputId": "60a04666-8f11-4d1f-ca78-fa70892322ef"
      },
      "execution_count": 7,
      "outputs": [
        {
          "output_type": "execute_result",
          "data": {
            "text/plain": [
              "{'cat': 123, 'k2': (2+3j)}"
            ]
          },
          "metadata": {},
          "execution_count": 7
        }
      ]
    },
    {
      "cell_type": "code",
      "source": [
        "spam.setdefault('color', 'black')"
      ],
      "metadata": {
        "colab": {
          "base_uri": "https://localhost:8080/",
          "height": 35
        },
        "id": "PwBvOJX2BoKP",
        "outputId": "1cdc8cef-6421-4894-dd42-1cd8324dfd0b"
      },
      "execution_count": 8,
      "outputs": [
        {
          "output_type": "execute_result",
          "data": {
            "text/plain": [
              "'black'"
            ],
            "application/vnd.google.colaboratory.intrinsic+json": {
              "type": "string"
            }
          },
          "metadata": {},
          "execution_count": 8
        }
      ]
    },
    {
      "cell_type": "code",
      "source": [
        "spam\n"
      ],
      "metadata": {
        "colab": {
          "base_uri": "https://localhost:8080/"
        },
        "id": "p2feA18XBriO",
        "outputId": "4294a0af-ebaa-4ce9-e284-e02072795798"
      },
      "execution_count": 9,
      "outputs": [
        {
          "output_type": "execute_result",
          "data": {
            "text/plain": [
              "{'cat': 123, 'k2': (2+3j), 'color': 'black'}"
            ]
          },
          "metadata": {},
          "execution_count": 9
        }
      ]
    },
    {
      "cell_type": "markdown",
      "source": [
        "# 8. How do you \"pretty print\" dictionary values using which module and function?"
      ],
      "metadata": {
        "id": "023iaL-SBx9g"
      }
    },
    {
      "cell_type": "code",
      "source": [
        "import pprint\n",
        "pprint.pprint(spam)"
      ],
      "metadata": {
        "colab": {
          "base_uri": "https://localhost:8080/"
        },
        "id": "JEr730iCB1m_",
        "outputId": "89637da5-a3fe-4006-a993-c47282b16145"
      },
      "execution_count": 10,
      "outputs": [
        {
          "output_type": "stream",
          "name": "stdout",
          "text": [
            "{'cat': 123, 'color': 'black', 'k2': (2+3j)}\n"
          ]
        }
      ]
    }
  ]
}
