{
  "nbformat": 4,
  "nbformat_minor": 0,
  "metadata": {
    "colab": {
      "provenance": [],
      "collapsed_sections": []
    },
    "kernelspec": {
      "name": "python3",
      "display_name": "Python 3"
    },
    "language_info": {
      "name": "python"
    }
  },
  "cells": [
    {
      "cell_type": "markdown",
      "source": [
        "#Python Basic Assignment 25\n",
        "##Name := Yash Bhaskar Narkhede"
      ],
      "metadata": {
        "id": "_3n6dp-94oV0"
      }
    },
    {
      "cell_type": "markdown",
      "source": [
        "# 1. What is the difference between enclosing a list comprehension in square brackets and parentheses?\n",
        "List comprehension in square brackets produces a list object as output List \n",
        "\n",
        "comprehension in oval parenthesis () produces a generator object List \n",
        "\n",
        "comprehension in flower parenthesis {} produces a set object\n",
        "\n",
        "temp = [i for i in range(10)] print(type(temp)) temp2 = (i for i in range(10)) print(type(temp2)) temp2 = {i for i in range(10)} print(type(temp2))\n",
        "\n",
        "#2. What is the relationship between generators and iterators?\n",
        "An iterator is an object which contains a countable number of values and it is used to iterate over iterable objects like list, tuples etc\n",
        "\n",
        "Using an iterator- iter() keyword is used to create an iterator containing an iterable object. next() keyword is used to call the next element in the iterable object.\n",
        "\n",
        "Generator It is another way of creating iterators in a simple way where it uses the keyword “yield” instead of returning it in a defined function Generators are implemented using a function containing yield return statement.\n",
        "\n",
        "Here, the yield function returns the data without affecting or exiting the function. It will return a sequence of data in an iterable format where we need to iterate over the sequence to use the data as they won’t store the entire sequence in the memory By using next() function we can iterate the output of generator function"
      ],
      "metadata": {
        "id": "q07tOQDW4qkT"
      }
    },
    {
      "cell_type": "markdown",
      "source": [
        "# 3. What are the signs that a function is a generator function?\n",
        "If a function contains at least one yield statement (it may contain other yield or return statements), it becomes a generator function. Both yield and return will return some value from a function.\n",
        "\n",
        "#4. What is the purpose of a yield statement?\n",
        "A yield statement looks much like a return statement, except that instead of stopping execution of the function and returning, yield instead provides a value to the code looping over the generator and pauses execution of the generator function"
      ],
      "metadata": {
        "id": "4zq8lnsH48Cq"
      }
    },
    {
      "cell_type": "markdown",
      "source": [
        "# 5. What is the relationship between map calls and list comprehensions? Make a comparison and contrast between the two.\n",
        "Map function: Suppose we have a function and we want to compute this function for different values in a single line of code . This is where map() function plays its role. map() function returns a map object(which is an iterator) of the results after applying the given function to each item of a given iterable (list, tuple etc.)\n",
        "\n",
        "If we already have a function defined, it is often good to use map For example, map(sum, myLists) is more neat than [sum(x) for x in myLists]. You gain the elegance of not having to make up a dummy variable (e.g. sum(x) for x... or sum() for ... or sum(readableName) for readableName...) which you have to type twice, just to iterate.\n",
        "\n",
        "List Comprehension: List Comprehension is a substitute for the lambda function, map(), filter() and reduce()\n",
        "\n",
        "Comparision :\n",
        "\n",
        "\n",
        "List comprehension is more concise and easier to read as compared to map\n",
        "\n",
        "List comprehension allows filtering. In map, we have no such facility\n",
        "\n",
        "\n",
        "For example, to print all even numbers in range of 100, we can write [n for n in range(100) if n%2 == 0]. There is no alternate for it in map 3. List comprehension are used when a list of results is required, where as map only returns a map object and does not return any list. 4. List comprehension is faster than map when we need to evaluate expressions that are too long or complicated to express 5. Map is faster in case of calling an already defined function (as no lambda is required)"
      ],
      "metadata": {
        "id": "xfGSkqtr4_HZ"
      }
    },
    {
      "cell_type": "markdown",
      "source": [],
      "metadata": {
        "id": "c51JpwS35TZt"
      }
    },
    {
      "cell_type": "code",
      "execution_count": null,
      "metadata": {
        "id": "2miBJdsg4kfj"
      },
      "outputs": [],
      "source": []
    }
  ]
}