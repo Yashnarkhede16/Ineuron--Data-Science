{
  "nbformat": 4,
  "nbformat_minor": 0,
  "metadata": {
    "colab": {
      "provenance": [],
      "collapsed_sections": []
    },
    "kernelspec": {
      "name": "python3",
      "display_name": "Python 3"
    },
    "language_info": {
      "name": "python"
    }
  },
  "cells": [
    {
      "cell_type": "markdown",
      "source": [
        "#Python Programming Assignment 19\n",
        "##Name := Yash Bhaskar Narkhede"
      ],
      "metadata": {
        "id": "guOBzv9-RpD_"
      }
    },
    {
      "cell_type": "markdown",
      "source": [
        "## 1. Create a function that takes a string and returns a string in which each character is repeated once. Examples double_char('String') ➞ 'SSttrriinngg' double_char('Hello World!') ➞ 'HHeelllloo WWoorrlldd!!' doublechar('1234! ') ➞ '11223344!!__ '"
      ],
      "metadata": {
        "id": "NZZWg7MXRyo5"
      }
    },
    {
      "cell_type": "code",
      "source": [
        "def double_char(string):\n",
        "    return ''.join([c+c for c in string])\n",
        "\n",
        "print(double_char('String'))\n",
        "print(double_char('Hello World!'))\n",
        "print(double_char('1234!_ '))"
      ],
      "metadata": {
        "colab": {
          "base_uri": "https://localhost:8080/"
        },
        "id": "1mPh65luR6jE",
        "outputId": "8889e157-b4dd-411d-8b5d-8d6660ae7757"
      },
      "execution_count": 1,
      "outputs": [
        {
          "output_type": "stream",
          "name": "stdout",
          "text": [
            "SSttrriinngg\n",
            "HHeelllloo  WWoorrlldd!!\n",
            "11223344!!__  \n"
          ]
        }
      ]
    },
    {
      "cell_type": "markdown",
      "source": [
        "## 2. Create a function that reverses a boolean value and returns the string 'boolean expected' if another variable type is given. Examples reverse(True) ➞ False reverse(False) ➞ True reverse(0) ➞ 'boolean expected' reverse(None) ➞ 'boolean expected'"
      ],
      "metadata": {
        "id": "WPmggEcwR9uS"
      }
    },
    {
      "cell_type": "code",
      "source": [
        "def reverse(arg):\n",
        "    return not arg if type(arg) == bool else \"boolean expected\"\n",
        "\n",
        "print(reverse(True)) # False\n",
        "print(reverse(False)) # True\n",
        "print(reverse(0)) # \"boolean expected\""
      ],
      "metadata": {
        "colab": {
          "base_uri": "https://localhost:8080/"
        },
        "id": "3yzwHdN3SAgK",
        "outputId": "cae0720f-d28e-41e6-f960-9cb3a8f7fcd9"
      },
      "execution_count": 2,
      "outputs": [
        {
          "output_type": "stream",
          "name": "stdout",
          "text": [
            "False\n",
            "True\n",
            "boolean expected\n"
          ]
        }
      ]
    },
    {
      "cell_type": "markdown",
      "source": [
        "## 3. Create a function that returns the thickness (in meters) of a piece of paper after folding it n number of times. The paper starts off with a thickness of 0.5mm. Examples num_layers(1) ➞ '0.001m'"
      ],
      "metadata": {
        "id": "eqSH9rVbSDj2"
      }
    },
    {
      "cell_type": "code",
      "source": [
        "def num_layers(n):\n",
        "    thickness = 0.5\n",
        "    for _ in range(n):\n",
        "        thickness *= 2\n",
        "    return str(thickness / 1000)+'m' # for meters\n",
        "\n",
        "print(num_layers(1))\n",
        "print(num_layers(4))\n",
        "print(num_layers(21))"
      ],
      "metadata": {
        "colab": {
          "base_uri": "https://localhost:8080/"
        },
        "id": "BQo_1n8ZSFkn",
        "outputId": "98512416-1fa4-462b-cde6-bfc0f527f906"
      },
      "execution_count": 3,
      "outputs": [
        {
          "output_type": "stream",
          "name": "stdout",
          "text": [
            "0.001m\n",
            "0.008m\n",
            "1048.576m\n"
          ]
        }
      ]
    },
    {
      "cell_type": "markdown",
      "source": [
        "## 4. Create a function that takes a single string as argument and returns an ordered list containing the indices of all capital letters in the string. Examples index_of_caps('eDaBiT') ➞ [1, 3, 5] index_of_caps('eQuINoX') ➞ [1, 3, 4, 6] index_of_caps('determine') ➞ [] index_of_caps('STRIKE') ➞ [0, 1, 2, 3, 4, 5] index_of_caps('sUn') ➞ [1]"
      ],
      "metadata": {
        "id": "TrUuhbPvSKPJ"
      }
    },
    {
      "cell_type": "code",
      "source": [
        "def index_of_caps(word):\n",
        "    indices = []\n",
        "    for i in range(len(word)):\n",
        "        if word[i].isupper():\n",
        "             indices.append(i)\n",
        "    return indices"
      ],
      "metadata": {
        "id": "_IauItd1SN50"
      },
      "execution_count": 4,
      "outputs": []
    },
    {
      "cell_type": "code",
      "source": [
        "print(index_of_caps('BhaNu'))\n",
        "print(index_of_caps('eDaBiT'))\n",
        "print(index_of_caps('eQuINoX')) \n",
        "print(index_of_caps('determine'))\n",
        "print(index_of_caps('STRIKE'))\n",
        "print(index_of_caps('sUn'))"
      ],
      "metadata": {
        "colab": {
          "base_uri": "https://localhost:8080/"
        },
        "id": "fOOc1omSSRGp",
        "outputId": "ed5b4b5f-1445-48fc-8449-19958c7e8af3"
      },
      "execution_count": 5,
      "outputs": [
        {
          "output_type": "stream",
          "name": "stdout",
          "text": [
            "[0, 3]\n",
            "[1, 3, 5]\n",
            "[1, 3, 4, 6]\n",
            "[]\n",
            "[0, 1, 2, 3, 4, 5]\n",
            "[1]\n"
          ]
        }
      ]
    },
    {
      "cell_type": "markdown",
      "source": [
        "## 5. Using list comprehensions, create a function that finds all even numbers from 1 to the given number. Examples find_even_nums(8) ➞ [2, 4, 6, 8] find_even_nums(4) ➞ [2, 4] find_even_nums(2) ➞ [2]"
      ],
      "metadata": {
        "id": "kWNIJROASUW8"
      }
    },
    {
      "cell_type": "code",
      "source": [
        "def find_even_nums(n):\n",
        "    even =[x for x in range(2,n+1) if x % 2 == 0]\n",
        "    return even\n",
        "\n",
        "print(find_even_nums(8))\n",
        "print(find_even_nums(4))\n",
        "print(find_even_nums(2))"
      ],
      "metadata": {
        "colab": {
          "base_uri": "https://localhost:8080/"
        },
        "id": "Bq09OQWySXBz",
        "outputId": "0af95785-7049-45df-a1a5-ad57960e7eef"
      },
      "execution_count": 6,
      "outputs": [
        {
          "output_type": "stream",
          "name": "stdout",
          "text": [
            "[2, 4, 6, 8]\n",
            "[2, 4]\n",
            "[2]\n"
          ]
        }
      ]
    },
    {
      "cell_type": "code",
      "execution_count": null,
      "metadata": {
        "id": "j9EIBf0GRi1V"
      },
      "outputs": [],
      "source": []
    }
  ]
}