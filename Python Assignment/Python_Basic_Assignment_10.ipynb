{
  "nbformat": 4,
  "nbformat_minor": 0,
  "metadata": {
    "colab": {
      "provenance": [],
      "collapsed_sections": []
    },
    "kernelspec": {
      "name": "python3",
      "display_name": "Python 3"
    },
    "language_info": {
      "name": "python"
    }
  },
  "cells": [
    {
      "cell_type": "markdown",
      "source": [
        "#Python Basic Assignment 10\n",
        "##Name := Yash Bhaskar Narkhede\n"
      ],
      "metadata": {
        "id": "Nk65abQiqmpe"
      }
    },
    {
      "cell_type": "markdown",
      "source": [
        "#1. How do you distinguish between shutil.copy() and shutil.copytree()?\n",
        "Ans:\n",
        "shutil.copy() will copy a single file and shutil.copytree() will copy an entire folder and every folder and file contained in it."
      ],
      "metadata": {
        "id": "9lqF8HwVqtfd"
      }
    },
    {
      "cell_type": "markdown",
      "source": [
        "#2. What function is used to rename files??\n",
        "Ans:\n",
        "os.rename()"
      ],
      "metadata": {
        "id": "EOuXOlahqv4N"
      }
    },
    {
      "cell_type": "markdown",
      "source": [
        "#3. What is the difference between the delete functions in the send2trash and shutil modules?\n",
        "Ans:\n",
        "\n",
        "send2trash function move a file or folder to the recycle bin, while shutil function permanently delete file or folder."
      ],
      "metadata": {
        "id": "4IKwXzWJqziW"
      }
    },
    {
      "cell_type": "markdown",
      "source": [
        "# 4. ZipFile objects have a close() method just like File objects’ close() method. What ZipFile method is equivalent to File objects’ open() method?\n",
        "Ans:\n",
        "\n",
        "ZipFile"
      ],
      "metadata": {
        "id": "xTFZbKLfq2_s"
      }
    },
    {
      "cell_type": "markdown",
      "source": [
        "## 5. Create a programme that searches a folder tree for files with a certain file extension (such as .pdf or .jpg). Copy these files from whatever location they are in to a new folder."
      ],
      "metadata": {
        "id": "5sBaQySpq7py"
      }
    },
    {
      "cell_type": "code",
      "execution_count": null,
      "metadata": {
        "id": "G5DfKd5-qhiO"
      },
      "outputs": [],
      "source": [
        "def copyFile(src,dst,ext):\n",
        "    try:\n",
        "        import os,shutil\n",
        "        for file in os.listdir(src):\n",
        "            if file.endswith(ext):\n",
        "                shutil.copy(os.path.join(src,file),dst)\n",
        "        print(f'Files have been successfully copied from {src} to {dst}')\n",
        "    except Exception as e:\n",
        "        print(e)\n",
        "\n",
        "copyFile(r'D:\\yash', r'D:\\yash\\New folder', '.txt')"
      ]
    }
  ]
}