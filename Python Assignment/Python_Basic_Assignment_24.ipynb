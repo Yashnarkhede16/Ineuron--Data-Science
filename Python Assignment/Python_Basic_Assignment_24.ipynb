{
  "nbformat": 4,
  "nbformat_minor": 0,
  "metadata": {
    "colab": {
      "provenance": [],
      "collapsed_sections": []
    },
    "kernelspec": {
      "name": "python3",
      "display_name": "Python 3"
    },
    "language_info": {
      "name": "python"
    }
  },
  "cells": [
    {
      "cell_type": "markdown",
      "source": [
        "#Python Basic Assignment 24\n",
        "##Name := Yash Bhaskar Narkhede"
      ],
      "metadata": {
        "id": "TTUh9Fky3s5p"
      }
    },
    {
      "cell_type": "markdown",
      "source": [
        "# 1. What is the relationship between def statements and lambda expressions ?\n",
        "def keyword is used to create named function in python, Function naming follows the same rules of writing identifiers in Python\n",
        "\n",
        "Lambdas are one-line functions without a name, in other words using lambdas we can create anonymous functions in python. Lambda functions work practically the same as any other method in Python. Lambdas differ from normal Python methods because they can have only one expression, and they can't contain any statements and their return type is a function object\n",
        "\n",
        "#2. What is the benefit of lambda?\n",
        "Fewer Lines of Code Lambda functions are inline functions and thus execute comparatively faster Many times lambda functions make code much more readable by avoiding the logical jumps caused by function calls\n",
        "\n",
        "#3. Compare and contrast map, filter, and reduce.\n",
        "map applies as a transformation to an element. The map() function iterates through all items in the given iterable and executes the function we passed as an argument on each of them. Syntax : map(function, iterable(s))\n",
        "\n",
        "filter accumulates only elements matching a condition. filter() forms a new list that contains only elements that satisfy a certain condition, i.e. the function we passed returns True Syntax : filter(function, iterable(s))\n",
        "\n",
        "reduce accumulates all elements to a single value, by using immutable values reduce() works by calling the function we passed for the first two items in the sequence. The result returned by the function is used in another call to function alongside with the next (third in this case), element Syntax : reduce(function, sequence[, initial])"
      ],
      "metadata": {
        "id": "uMuvLEOK3vSa"
      }
    },
    {
      "cell_type": "markdown",
      "source": [
        "# 4. What are function annotations, and how are they used?\n",
        "Function annotation is the standard way to access the metadata with the arguments and the return value of the function. These are optional Python expressions that get allied to different parts of the function. They get evaluated only during the compile-time and have no significance during the run-time of the code. They do not have any significance or meaning associated with them until accessed by some third-party libraries. They are used to type check the functions by declaring the type of the parameters and the return value for the functions. The string-based annotations help us to improve the help messages.\n",
        "\n",
        "Syntax : def func(a: 'int') -> 'int': pass\n",
        "\n",
        "Annotations for simple parameters: def func(x: 'float'=10.8, y: 'argument2'): In the above code the argument, ‘x’ of the function func, has been annotated to float data type and the argument ‘y’ has a string-based annotation. The argument can also be assigned to a default value using a ‘=’ symbol followed by the default value. These default values are optional to the code.\n",
        "\n",
        "Annotations for return values: def func(a: expression) -> 'int': The annotations for the return value is written after the ‘->’ symbol."
      ],
      "metadata": {
        "id": "MzO7Xo4E3-dt"
      }
    },
    {
      "cell_type": "markdown",
      "source": [
        "# 5. What are recursive functions, and how are they used?\n",
        "A recursive function is a function that calls itself during its execution. This means that the function will continue to call itself and repeat its behavior until some condition is met to return a result\n",
        "\n"
      ],
      "metadata": {
        "id": "juN2oAuX4Bq5"
      }
    },
    {
      "cell_type": "code",
      "source": [
        "def fact(x):\n",
        "    if x == 1 :\n",
        "        return 1\n",
        "    else :\n",
        "        return x * fact(x-1) # recursion\n",
        "\n",
        "fact(3)"
      ],
      "metadata": {
        "colab": {
          "base_uri": "https://localhost:8080/"
        },
        "id": "y6VX_XJ14D3E",
        "outputId": "64b32f63-844f-47c9-c561-73238412a366"
      },
      "execution_count": 1,
      "outputs": [
        {
          "output_type": "execute_result",
          "data": {
            "text/plain": [
              "6"
            ]
          },
          "metadata": {},
          "execution_count": 1
        }
      ]
    },
    {
      "cell_type": "markdown",
      "source": [
        "# 6. What are some general design guidelines for coding functions?\n",
        "Use 4-space indentation and no tabs.\n",
        "\n",
        "Use docstrings\n",
        "\n",
        "Wrap linethat they don’t exceed 79 characters\n",
        "\n",
        "Use of regular and updated comments are valuable to both the coders and users\n",
        "\n",
        "Use of trailing commas : in case of tuple -> ('good',)\n",
        "\n",
        "Use Python’s default UTF-8 or ASCII encodings and not any fancy encodings\n",
        "\n",
        "Naming Conventions 8.Characters that should not be used for identifiers: ‘l’ (lowercase letter el), ‘O’ (uppercase letter oh), ‘I’ (uppercase letter eye) as single character variable names as these are similar to the numerals one and zero.\n",
        "\n",
        "Don’t use non-ASCII characters in identifiers\n",
        "\n",
        "Name your classes and functions consistently\n",
        "\n",
        "While naming of function of methods always use self for the first argument"
      ],
      "metadata": {
        "id": "kaXfAmfu4Kyk"
      }
    },
    {
      "cell_type": "markdown",
      "source": [
        "# 7. Name three or more ways that functions can communicate results to a caller.\n",
        "Function can return single value\n",
        "\n",
        "Can return multiple values, tuple\n",
        "\n",
        "can return list,dictionary\n",
        "\n",
        "can return function object\n",
        "\n",
        "can return class object (ex: SQL Connection object)\n",
        "\n",
        "can update an output variable\n",
        "\n",
        "can update a global variable\n",
        "\n",
        "can update/create a file"
      ],
      "metadata": {
        "id": "Go0RhdwE4SsU"
      }
    },
    {
      "cell_type": "code",
      "execution_count": null,
      "metadata": {
        "id": "kM0nEWp-3mlP"
      },
      "outputs": [],
      "source": []
    }
  ]
}