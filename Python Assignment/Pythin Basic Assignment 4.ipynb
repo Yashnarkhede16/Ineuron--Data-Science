{
  "nbformat": 4,
  "nbformat_minor": 0,
  "metadata": {
    "colab": {
      "provenance": [],
      "collapsed_sections": []
    },
    "kernelspec": {
      "name": "python3",
      "display_name": "Python 3"
    },
    "language_info": {
      "name": "python"
    }
  },
  "cells": [
    {
      "cell_type": "markdown",
      "source": [
        "# Python Basic Assignment 3\n",
        "\n",
        "## Name := Yash Bhaskar Narkhede"
      ],
      "metadata": {
        "id": "uqDh6ecR6AZB"
      }
    },
    {
      "cell_type": "markdown",
      "source": [
        "## 1. What exactly is []?\n",
        " Ans :-\n",
        " \n",
        " [] is the empty list."
      ],
      "metadata": {
        "id": "Eyfj25V86HfX"
      }
    },
    {
      "cell_type": "markdown",
      "source": [
        "## 2. In a list of values stored in a variable called spam, how would you assign the value 'hello' as the third value? (Assume [2, 4, 6, 8, 10] are in spam.)\n",
        "In order to assignn 'hello' at 3rd value. We need to modify the value at index 2 of spam list"
      ],
      "metadata": {
        "id": "CdtrIuD66T5s"
      }
    },
    {
      "cell_type": "code",
      "execution_count": 1,
      "metadata": {
        "colab": {
          "base_uri": "https://localhost:8080/"
        },
        "id": "lv5bz3uv5kRn",
        "outputId": "74d2b4ef-4fe8-4732-c3ee-e3a0675c62ea"
      },
      "outputs": [
        {
          "output_type": "stream",
          "name": "stdout",
          "text": [
            "[2, 4, 6, 8, 10]\n",
            "[2, 4, 'hello', 8, 10]\n"
          ]
        }
      ],
      "source": [
        "spam = [2, 4, 6, 8, 10]\n",
        "print(spam)\n",
        "spam[2] = 'hello'\n",
        "print(spam)"
      ]
    },
    {
      "cell_type": "markdown",
      "source": [
        "## Let's pretend the spam includes the list ['a', 'b', 'c', 'd'] for the next three queries."
      ],
      "metadata": {
        "id": "l1WnRDNu5-79"
      }
    },
    {
      "cell_type": "code",
      "source": [
        "spam = ['a', 'b', 'c', 'd']"
      ],
      "metadata": {
        "id": "2ZSIX6ZB6rIM"
      },
      "execution_count": 2,
      "outputs": []
    },
    {
      "cell_type": "markdown",
      "source": [
        "## 3. What is the value of spam[int(int('3' * 2) / 11)]?\n",
        "*   '3'**2 will give '33'\n",
        "*   int('33') will be 33\n",
        "*   33/11 will be 3.0\n",
        "*   int(3.0) will give 3\n",
        "*   spam[3] will be value at index 3 that is 'd'\n"
      ],
      "metadata": {
        "id": "Qjj8gIDk59Gi"
      }
    },
    {
      "cell_type": "code",
      "source": [
        "spam[int(int('3'*2)/11)]"
      ],
      "metadata": {
        "colab": {
          "base_uri": "https://localhost:8080/",
          "height": 35
        },
        "id": "HdUsLEkO7LSw",
        "outputId": "b1247761-46d9-4dab-d1e3-475c895f2915"
      },
      "execution_count": 3,
      "outputs": [
        {
          "output_type": "execute_result",
          "data": {
            "text/plain": [
              "'d'"
            ],
            "application/vnd.google.colaboratory.intrinsic+json": {
              "type": "string"
            }
          },
          "metadata": {},
          "execution_count": 3
        }
      ]
    },
    {
      "cell_type": "markdown",
      "source": [
        "## 5. What is the value of spam[:2]?\n",
        "spam[:2] = 'a' and 'b'"
      ],
      "metadata": {
        "id": "Jf7FIESd7PaU"
      }
    },
    {
      "cell_type": "code",
      "source": [
        "spam[:2]"
      ],
      "metadata": {
        "colab": {
          "base_uri": "https://localhost:8080/"
        },
        "id": "38AZ3Hxo7Txa",
        "outputId": "c182239e-08f9-43bb-9d02-480b3334aef1"
      },
      "execution_count": 4,
      "outputs": [
        {
          "output_type": "execute_result",
          "data": {
            "text/plain": [
              "['a', 'b']"
            ]
          },
          "metadata": {},
          "execution_count": 4
        }
      ]
    },
    {
      "cell_type": "markdown",
      "source": [
        "## Let's pretend bacon has the list [3.14, 'cat,' 11, 'cat,' True] for the next three questions."
      ],
      "metadata": {
        "id": "KydPzbG07XiF"
      }
    },
    {
      "cell_type": "code",
      "source": [
        "bacon = [3.14, 'cat', 11, 'cat', True]"
      ],
      "metadata": {
        "id": "Xrm-59gd7az6"
      },
      "execution_count": 5,
      "outputs": []
    },
    {
      "cell_type": "markdown",
      "source": [
        "## 6. What is the value of bacon.index('cat')?\n",
        "It will output the index of first occurence of 'cat' value\n",
        "\n",
        "ans: 1"
      ],
      "metadata": {
        "id": "6ejw4w7E7d1l"
      }
    },
    {
      "cell_type": "code",
      "source": [
        "bacon.index('cat')"
      ],
      "metadata": {
        "colab": {
          "base_uri": "https://localhost:8080/"
        },
        "id": "gdtC3YGz7jo_",
        "outputId": "6e535664-6f08-4b87-d0b5-896fe10616d1"
      },
      "execution_count": 6,
      "outputs": [
        {
          "output_type": "execute_result",
          "data": {
            "text/plain": [
              "1"
            ]
          },
          "metadata": {},
          "execution_count": 6
        }
      ]
    },
    {
      "cell_type": "markdown",
      "source": [
        "## 7. How does bacon.append(99) change the look of the list value in bacon?\n",
        "It will append 99 at the end of list bacon\n",
        "\n",
        "[3.14, 'cat', 11, 'cat', True, 99]"
      ],
      "metadata": {
        "id": "MMwMENzL7mcu"
      }
    },
    {
      "cell_type": "code",
      "source": [
        "bacon.append(99)\n",
        "print(bacon)"
      ],
      "metadata": {
        "colab": {
          "base_uri": "https://localhost:8080/"
        },
        "id": "NL6dw3Lo7r_8",
        "outputId": "49309e1b-fa69-4c07-946a-a356a2cc4439"
      },
      "execution_count": 7,
      "outputs": [
        {
          "output_type": "stream",
          "name": "stdout",
          "text": [
            "[3.14, 'cat', 11, 'cat', True, 99]\n"
          ]
        }
      ]
    },
    {
      "cell_type": "markdown",
      "source": [
        "## 8. How does bacon.remove('cat') change the look of the list in bacon?\n",
        "It will remove the first occurence of the 'cat'\n",
        "\n",
        "[3.14, 11, 'cat', True, 99]"
      ],
      "metadata": {
        "id": "Jrl6wR0m7vQZ"
      }
    },
    {
      "cell_type": "code",
      "source": [
        "bacon.remove('cat')"
      ],
      "metadata": {
        "id": "Y7zTvmHw7zqU"
      },
      "execution_count": 8,
      "outputs": []
    },
    {
      "cell_type": "code",
      "source": [
        "print(bacon)"
      ],
      "metadata": {
        "colab": {
          "base_uri": "https://localhost:8080/"
        },
        "id": "ieqreDj873Qw",
        "outputId": "c3f87207-6501-4a46-aecd-67ac4a4aafc8"
      },
      "execution_count": 9,
      "outputs": [
        {
          "output_type": "stream",
          "name": "stdout",
          "text": [
            "[3.14, 11, 'cat', True, 99]\n"
          ]
        }
      ]
    },
    {
      "cell_type": "markdown",
      "source": [
        "## 9. What are the list concatenation and list replication operators?\n",
        "Ans := \n",
        "\n",
        "List concatenation operator is ‘+’ while list replication operator is ‘*’"
      ],
      "metadata": {
        "id": "1cpvj_p-76mR"
      }
    },
    {
      "cell_type": "markdown",
      "source": [
        "## 10. What is difference between the list methods append() and insert()?\n",
        "Append method appends the given object to the end of the list always.\n",
        "\n",
        "Insert method accepts two arguments, index at which the element needs to be inserted and the object to insert."
      ],
      "metadata": {
        "id": "si6t6xhX8CSI"
      }
    },
    {
      "cell_type": "markdown",
      "source": [
        "## 11. What are the two methods for removing items from a list?\n",
        "Two methods used for removing items from a list are:\n",
        "\n",
        "List.remove(object) -> Removes the first occurrence of the given object from the list\n",
        "\n",
        "List.pop(index = -1) -> Removes and returns item at the index (default is -1, the last element)"
      ],
      "metadata": {
        "id": "npUjWBBW8HTv"
      }
    },
    {
      "cell_type": "markdown",
      "source": [
        "## 12. Describe how list values and string values are identical.\n",
        "While list is a collection of values in Python, string is a collection of characters. Both list and strings are iterable in Python and a for loop can be used around a list or string object to iterate through each element in the list/string."
      ],
      "metadata": {
        "id": "Vk5I5rGZ-Ny0"
      }
    },
    {
      "cell_type": "markdown",
      "source": [
        "## 13. What's the difference between tuples and lists?\n",
        "Tuples are immutable where as lists in Python are mutable. So once created, the items inside a tuple cannot be changed."
      ],
      "metadata": {
        "id": "zBAfQEJ0-SoI"
      }
    },
    {
      "cell_type": "markdown",
      "source": [
        "## 14. How do you type a tuple value that only contains the integer 42?\n",
        "tup = tuple([32])"
      ],
      "metadata": {
        "id": "M-99VoZW-YBr"
      }
    },
    {
      "cell_type": "code",
      "source": [
        "tup = tuple([32])\n",
        "print(tup)"
      ],
      "metadata": {
        "colab": {
          "base_uri": "https://localhost:8080/"
        },
        "id": "O-zHFaT2-bVK",
        "outputId": "b71f2a05-7d89-4cff-e0b9-9a765ce2b2f1"
      },
      "execution_count": 10,
      "outputs": [
        {
          "output_type": "stream",
          "name": "stdout",
          "text": [
            "(32,)\n"
          ]
        }
      ]
    },
    {
      "cell_type": "markdown",
      "source": [
        "## 15. How do you get a list value's tuple form? How do you get a tuple value's list form?\n",
        "By using type casting\n",
        "\n",
        "1.b = tuple([42, 3, 5])\n",
        "\n",
        "2.type(b) # tuple\n",
        "\n",
        "3.c = list(b)\n",
        "\n",
        "4.type(c) # list"
      ],
      "metadata": {
        "id": "d9SeX_ql-gH9"
      }
    },
    {
      "cell_type": "code",
      "source": [
        "b = tuple([42, 3, 5])\n",
        "type(b)  # tuple\n",
        "c = list(b)\n",
        "type(c) # list"
      ],
      "metadata": {
        "colab": {
          "base_uri": "https://localhost:8080/"
        },
        "id": "BDiUSpDF-uI4",
        "outputId": "64d5d3f2-77fb-48f5-fb75-f2f4176c8015"
      },
      "execution_count": 11,
      "outputs": [
        {
          "output_type": "execute_result",
          "data": {
            "text/plain": [
              "list"
            ]
          },
          "metadata": {},
          "execution_count": 11
        }
      ]
    },
    {
      "cell_type": "markdown",
      "source": [
        "## 16. Variables that \"contain\" list values are not necessarily lists themselves. Instead, what do they contain?\n",
        "They contain references to the list values"
      ],
      "metadata": {
        "id": "OT1BO5or-xdI"
      }
    },
    {
      "cell_type": "code",
      "source": [
        "var = [1,2,3]\n",
        "print(var)\n",
        "print(id(var))"
      ],
      "metadata": {
        "colab": {
          "base_uri": "https://localhost:8080/"
        },
        "id": "oD2zWdGo-16i",
        "outputId": "147504d0-86d1-453d-89b8-1efb4a7adf2d"
      },
      "execution_count": 12,
      "outputs": [
        {
          "output_type": "stream",
          "name": "stdout",
          "text": [
            "[1, 2, 3]\n",
            "139830145849616\n"
          ]
        }
      ]
    },
    {
      "cell_type": "markdown",
      "source": [
        "## 17. How do you distinguish between copy.copy() and copy.deepcopy()?\n",
        "\n",
        "*   copy() returns a shallow copy of list and deepcopy() return a deep copy of list.\n",
        "\n",
        "*   deepcopy: In case of deep copy, a copy of object is copied in other object. It means that any changes made to a copy of object do not reflect in the original object.\n",
        "*   shallow copy: In case of shallow copy, a reference of object is copied in other object. It means that any changes made to a copy of object do reflect in the original object.\n"
      ],
      "metadata": {
        "id": "dK8GT97O-5kC"
      }
    },
    {
      "cell_type": "code",
      "source": [],
      "metadata": {
        "id": "sX_O8vXP_Is4"
      },
      "execution_count": null,
      "outputs": []
    }
  ]
}