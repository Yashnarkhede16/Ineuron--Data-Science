{
  "nbformat": 4,
  "nbformat_minor": 0,
  "metadata": {
    "colab": {
      "provenance": [],
      "collapsed_sections": []
    },
    "kernelspec": {
      "name": "python3",
      "display_name": "Python 3"
    },
    "language_info": {
      "name": "python"
    }
  },
  "cells": [
    {
      "cell_type": "markdown",
      "source": [
        "# Python Programming Assignment 4\n",
        "## Name := Yash Bhaskar Narkhede"
      ],
      "metadata": {
        "id": "l45Tn8Zqyo_o"
      }
    },
    {
      "cell_type": "markdown",
      "source": [
        "## 1.Write a Python Program to find the factorial of a number ?"
      ],
      "metadata": {
        "id": "Jyoq29bAyr2K"
      }
    },
    {
      "cell_type": "code",
      "execution_count": 1,
      "metadata": {
        "colab": {
          "base_uri": "https://localhost:8080/"
        },
        "id": "Va1XkLIYyb0p",
        "outputId": "2df9702b-1a25-4988-e8c7-a7470f8d0ed0"
      },
      "outputs": [
        {
          "output_type": "stream",
          "name": "stdout",
          "text": [
            "Enter a number: 7\n",
            "The Factorial of 7 is 5040\n"
          ]
        }
      ],
      "source": [
        "def factorial(num):\n",
        "    if (num < 1):\n",
        "        return 1\n",
        "    else:\n",
        "        return num*factorial(num-1)\n",
        "num = int(input('Enter a number: '))\n",
        "value = factorial(num)\n",
        "print(f'The Factorial of {num} is {value}')"
      ]
    },
    {
      "cell_type": "markdown",
      "source": [
        "## 2.Write a Python Program to display the multiplication table ?"
      ],
      "metadata": {
        "id": "szsXa9ZKy-a4"
      }
    },
    {
      "cell_type": "code",
      "source": [
        "def generateTable(base,entries):\n",
        "    for x in range(1,entries+1):\n",
        "        print(f'{base} X {x} = {base*x}')\n",
        "\n",
        "num = int(input('Enter a number: '))\n",
        "values = int(input('Enter no of entries: '))\n",
        "generateTable(num,values)"
      ],
      "metadata": {
        "colab": {
          "base_uri": "https://localhost:8080/"
        },
        "id": "pX30tCWiy_xv",
        "outputId": "de634f12-5804-493a-ac7a-261365dc42a5"
      },
      "execution_count": 2,
      "outputs": [
        {
          "output_type": "stream",
          "name": "stdout",
          "text": [
            "Enter a number: 9\n",
            "Enter no of entries: 10\n",
            "9 X 1 = 9\n",
            "9 X 2 = 18\n",
            "9 X 3 = 27\n",
            "9 X 4 = 36\n",
            "9 X 5 = 45\n",
            "9 X 6 = 54\n",
            "9 X 7 = 63\n",
            "9 X 8 = 72\n",
            "9 X 9 = 81\n",
            "9 X 10 = 90\n"
          ]
        }
      ]
    },
    {
      "cell_type": "markdown",
      "source": [
        "## 3.Write a Python Program to print the fibonacci sequence ?"
      ],
      "metadata": {
        "id": "3EtFWlKBzJXS"
      }
    },
    {
      "cell_type": "code",
      "source": [
        "s_count = int(input('Enter the no of fibonacci sequences you want? '))\n",
        "initial_list = [0,1]\n",
        "if s_count < 0:\n",
        "    print('Fibonacci Numbers are not available for Negative Numbers')\n",
        "elif s_count <= 2 and s_count >= 0:\n",
        "    print(initial_list)\n",
        "else:\n",
        "    for ins in range(s_count):\n",
        "        if ins >= 2:\n",
        "            initial_list.append(initial_list[ins-1]+initial_list[ins-2])\n",
        "    print(f'The First {s_count} fibonacci series are: ',initial_list)"
      ],
      "metadata": {
        "colab": {
          "base_uri": "https://localhost:8080/"
        },
        "id": "ztDe8wXyzKzb",
        "outputId": "ef86092e-6170-4569-d3d6-e6f9fb523c6a"
      },
      "execution_count": 3,
      "outputs": [
        {
          "output_type": "stream",
          "name": "stdout",
          "text": [
            "Enter the no of fibonacci sequences you want? 19\n",
            "The First 19 fibonacci series are:  [0, 1, 1, 2, 3, 5, 8, 13, 21, 34, 55, 89, 144, 233, 377, 610, 987, 1597, 2584]\n"
          ]
        }
      ]
    },
    {
      "cell_type": "markdown",
      "source": [
        "## 4.Write a Python Program to check Armstrong number ?"
      ],
      "metadata": {
        "id": "TRHun2KBzTaF"
      }
    },
    {
      "cell_type": "code",
      "source": [
        "def checkArmstrongNumber():\n",
        "    in_num = input('Enter a number: ')\n",
        "    sum = 0\n",
        "    for char in range(len(in_num)):\n",
        "        sum = sum + pow(int(in_num[char]),3)\n",
        "    if sum == int(in_num):\n",
        "        print(f'{in_num} is a Armstrong Number')\n",
        "    else:\n",
        "        print(f'{in_num} is a Not Armstrong Number')\n",
        "\n",
        "for x in range(2):\n",
        "    checkArmstrongNumber()"
      ],
      "metadata": {
        "colab": {
          "base_uri": "https://localhost:8080/"
        },
        "id": "zUvTayvXzUwj",
        "outputId": "6e844360-c9e4-408b-cb5e-31b50af3dc5a"
      },
      "execution_count": 4,
      "outputs": [
        {
          "output_type": "stream",
          "name": "stdout",
          "text": [
            "Enter a number: 131\n",
            "131 is a Not Armstrong Number\n",
            "Enter a number: 153\n",
            "153 is a Armstrong Number\n"
          ]
        }
      ]
    },
    {
      "cell_type": "markdown",
      "source": [
        "## 5.Write a Python Program to Find Armstrong number in an interval ?"
      ],
      "metadata": {
        "id": "B5FQeRyqzfT6"
      }
    },
    {
      "cell_type": "code",
      "source": [
        "def checkArmstrongNumber(in_num, storage):\n",
        "    sum = 0\n",
        "    for char in range(len(in_num)):\n",
        "        sum = sum + pow(int(in_num[char]),3)\n",
        "    if sum == int(in_num):\n",
        "        storage.append(int(in_num))\n",
        "\n",
        "start_interval = int(input('Enter the Start of the Interval: '))\n",
        "end_interval = int(input('Enter the End of the Interval: '))\n",
        "list_of_armstrong = []\n",
        "\n",
        "if start_interval > end_interval:\n",
        "    print(\"Start Interval Cannot be Greater than End Interval\")\n",
        "else:\n",
        "    for number in range(start_interval,end_interval+1):\n",
        "        checkArmstrongNumber(str(number),list_of_armstrong)\n",
        "    print(f'The Armstrong numbers between {start_interval} and {end_interval} are {list_of_armstrong}')"
      ],
      "metadata": {
        "colab": {
          "base_uri": "https://localhost:8080/"
        },
        "id": "q5KgErlAzgu_",
        "outputId": "c0c94483-1b5f-48cc-e715-c94f3c12bda7"
      },
      "execution_count": 5,
      "outputs": [
        {
          "output_type": "stream",
          "name": "stdout",
          "text": [
            "Enter the Start of the Interval: 1\n",
            "Enter the End of the Interval: 10000\n",
            "The Armstrong numbers between 1 and 10000 are [1, 153, 370, 371, 407]\n"
          ]
        }
      ]
    },
    {
      "cell_type": "markdown",
      "source": [
        "## 6.Write a Python Program to sum of natural numbers ?"
      ],
      "metadata": {
        "id": "qud_gRv_zqSb"
      }
    },
    {
      "cell_type": "code",
      "source": [
        "def sumOfNaturalNumbers(num):\n",
        "    sum = num*((num+1)/2)\n",
        "    print(f'Sum of {num} natural numbers is {sum}')\n",
        "    \n",
        "num = int(input('Enter a number: '))\n",
        "sumOfNaturalNumbers(num)"
      ],
      "metadata": {
        "colab": {
          "base_uri": "https://localhost:8080/"
        },
        "id": "NfG40IAZzvT5",
        "outputId": "58345727-745c-481c-edca-87a5b786c71e"
      },
      "execution_count": 6,
      "outputs": [
        {
          "output_type": "stream",
          "name": "stdout",
          "text": [
            "Enter a number: 100\n",
            "Sum of 100 natural numbers is 5050.0\n"
          ]
        }
      ]
    }
  ]
}