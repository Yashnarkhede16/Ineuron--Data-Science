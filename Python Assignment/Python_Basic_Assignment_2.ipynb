{
  "nbformat": 4,
  "nbformat_minor": 0,
  "metadata": {
    "colab": {
      "provenance": [],
      "collapsed_sections": []
    },
    "kernelspec": {
      "name": "python3",
      "display_name": "Python 3"
    },
    "language_info": {
      "name": "python"
    }
  },
  "cells": [
    {
      "cell_type": "code",
      "execution_count": null,
      "metadata": {
        "id": "uDAb0CATMUrI"
      },
      "outputs": [],
      "source": []
    },
    {
      "cell_type": "markdown",
      "source": [
        "# Python Basic Assignment 2"
      ],
      "metadata": {
        "id": "8LlrF-XSMZar"
      }
    },
    {
      "cell_type": "markdown",
      "source": [
        "## Name := Yash Bhaskar Narkhede"
      ],
      "metadata": {
        "id": "QW2j8xtxMWtO"
      }
    },
    {
      "cell_type": "markdown",
      "source": [
        "## 1.What are the two values of the Boolean data type? How do you write them?"
      ],
      "metadata": {
        "id": "S-g_sPUDMV5L"
      }
    },
    {
      "cell_type": "markdown",
      "source": [
        "### Ans :=\n",
        "\n",
        "\n",
        "There are 2 values of Boolean Data Type\n",
        "\n",
        "\n",
        "    1.True 2. False\n",
        "\n",
        "\n",
        "Syntax: True, False\n"
      ],
      "metadata": {
        "id": "17NPhCttM5O4"
      }
    },
    {
      "cell_type": "code",
      "source": [
        "a = True\n",
        "b = False\n",
        "print('a: ', a)\n",
        "print('b: ', b)"
      ],
      "metadata": {
        "colab": {
          "base_uri": "https://localhost:8080/"
        },
        "id": "Gdsfv-vxNPZu",
        "outputId": "1045112e-5854-4ea6-9e2b-a65c51371035"
      },
      "execution_count": 1,
      "outputs": [
        {
          "output_type": "stream",
          "name": "stdout",
          "text": [
            "a:  True\n",
            "b:  False\n"
          ]
        }
      ]
    },
    {
      "cell_type": "markdown",
      "source": [
        "## 2. What are the three different types of Boolean operators?"
      ],
      "metadata": {
        "id": "2cPchmlJNjSN"
      }
    },
    {
      "cell_type": "markdown",
      "source": [
        "### Ans :=\n",
        "There different types of Boolean operators are:\n",
        "\n",
        "1.AND  \n",
        "\n",
        "\n",
        "2.OR\n",
        "\n",
        "\n",
        "3.NOT"
      ],
      "metadata": {
        "id": "0PC1oJqgNnZn"
      }
    },
    {
      "cell_type": "markdown",
      "source": [
        "## 3. Make a list of each Boolean operator's truth tables\n",
        "(i.e. every possible combination of Boolean values for the operator and what it evaluate )."
      ],
      "metadata": {
        "id": "IxIYuxQjN8vm"
      }
    },
    {
      "cell_type": "markdown",
      "source": [
        "### Ans :="
      ],
      "metadata": {
        "id": "EVnj1dyPOBgw"
      }
    },
    {
      "cell_type": "code",
      "source": [
        "list_AND = [1 and 1, 1 and 0, 0 and 1, 0 and 0]\n",
        "list_AND"
      ],
      "metadata": {
        "colab": {
          "base_uri": "https://localhost:8080/"
        },
        "id": "jxvXHlxEOFWe",
        "outputId": "e8303591-ee13-42b6-c43b-618acec98f3b"
      },
      "execution_count": 2,
      "outputs": [
        {
          "output_type": "execute_result",
          "data": {
            "text/plain": [
              "[1, 0, 0, 0]"
            ]
          },
          "metadata": {},
          "execution_count": 2
        }
      ]
    },
    {
      "cell_type": "code",
      "source": [
        "list_OR = [1 or 1, 1 or 0, 0 or 1, 0 or 0]\n",
        "list_OR"
      ],
      "metadata": {
        "colab": {
          "base_uri": "https://localhost:8080/"
        },
        "id": "uBxh6z9nOLmL",
        "outputId": "f662fff2-b939-4d1c-c09d-0c0280f1a792"
      },
      "execution_count": 3,
      "outputs": [
        {
          "output_type": "execute_result",
          "data": {
            "text/plain": [
              "[1, 1, 1, 0]"
            ]
          },
          "metadata": {},
          "execution_count": 3
        }
      ]
    },
    {
      "cell_type": "code",
      "source": [
        "list_NOT = [not 1, not 0]\n",
        "list_NOT"
      ],
      "metadata": {
        "colab": {
          "base_uri": "https://localhost:8080/"
        },
        "id": "75B-IpE5OPlI",
        "outputId": "b946d230-bd09-4c34-8aa6-9b66602cb369"
      },
      "execution_count": 4,
      "outputs": [
        {
          "output_type": "execute_result",
          "data": {
            "text/plain": [
              "[False, True]"
            ]
          },
          "metadata": {},
          "execution_count": 4
        }
      ]
    },
    {
      "cell_type": "markdown",
      "source": [
        "## 4. What are the values of the following expressions?\n",
        "\n",
        "(5 > 4) and (3 == 5)\n",
        "\n",
        "\n",
        "not (5 > 4)\n",
        "\n",
        "\n",
        "(5 > 4) or (3 == 5)\n",
        "\n",
        "\n",
        "not ((5 > 4) or (3 == 5))\n",
        "\n",
        "\n",
        "(True and True) and (True == False)\n",
        "\n",
        "\n",
        "(not False) or (not True)\n",
        "\n",
        "### Ans :=\n"
      ],
      "metadata": {
        "id": "IDm9fL1sOTM9"
      }
    },
    {
      "cell_type": "code",
      "source": [
        "print((5 > 4) and (3 == 5),\n",
        "      not (5 > 4),\n",
        "      (5 > 4) or (3 == 5),\n",
        "      not ((5 > 4) or (3 == 5)),\n",
        "      (True and True) and (True == False),\n",
        "      (not False) or (not True)\n",
        "     )"
      ],
      "metadata": {
        "colab": {
          "base_uri": "https://localhost:8080/"
        },
        "id": "pkGxF6MfOkSN",
        "outputId": "45c906c7-cb9d-41ca-fd09-b71d9258cc6e"
      },
      "execution_count": 5,
      "outputs": [
        {
          "output_type": "stream",
          "name": "stdout",
          "text": [
            "False False True False False True\n"
          ]
        }
      ]
    },
    {
      "cell_type": "markdown",
      "source": [
        "## 5. What are the six comparison operators?"
      ],
      "metadata": {
        "id": "X9BezvZcOpQa"
      }
    },
    {
      "cell_type": "markdown",
      "source": [
        "Ans :=\n",
        "\n",
        "1. == : is equal to\n",
        "\n",
        "2. != : is not equal to\n",
        "\n",
        "3. > : is greater than\n",
        "\n",
        "4. >= : is greater than or equal to\n",
        "\n",
        "5. < : is less than\n",
        "\n",
        "6. <= : is less than or equal to\n"
      ],
      "metadata": {
        "id": "igUnv1ESO4ss"
      }
    },
    {
      "cell_type": "markdown",
      "source": [
        "## 6. How do you tell the difference between the equal to and assignment operators?Describe a condition and when you would use one."
      ],
      "metadata": {
        "id": "SBCPqV6HPaGi"
      }
    },
    {
      "cell_type": "markdown",
      "source": [
        "### Ans :=\n",
        "\n",
        "*   ' = ' : single equals to sign is used for the assignment operation.\n",
        "*   ' == ' : double equals to sign is used for the equal to condition check.\n",
        "* When we want to assign something (eg. a = 10) we use the assignment operator. whereas when we want to check some condition (eg. 10 == 100) we use the equal to condition check operator.\n",
        "\n",
        "\n",
        "\n",
        "\n"
      ],
      "metadata": {
        "id": "Vo1EH4ZnPdrk"
      }
    },
    {
      "cell_type": "markdown",
      "source": [
        "## 7. Identify the three blocks in this code:"
      ],
      "metadata": {
        "id": "_H33ATHbP3FJ"
      }
    },
    {
      "cell_type": "markdown",
      "source": [
        "spam = 0\n",
        "\n",
        "if spam == 10:\n",
        "\n",
        "print('eggs')\n",
        "\n",
        "if spam > 5:\n",
        "\n",
        "print('bacon')\n",
        "\n",
        "else:\n",
        "\n",
        "print('ham')\n",
        "\n",
        "print('spam')\n",
        "\n",
        "print('spam')"
      ],
      "metadata": {
        "id": "w3YMkIotP6cc"
      }
    },
    {
      "cell_type": "code",
      "source": [
        "spam = 0\n",
        "\n",
        "if spam == 10:  ## Block 1\n",
        "    print('eggs')\n",
        "    \n",
        "if spam > 5:    ## Block 2\n",
        "    print('bacon')\n",
        "else:           ## Block 3\n",
        "    print('ham')\n",
        "    \n",
        "print('spam')\n",
        "print('spam')"
      ],
      "metadata": {
        "colab": {
          "base_uri": "https://localhost:8080/"
        },
        "id": "p-FVMREoQFcs",
        "outputId": "96b46945-c699-4c92-ddef-2fec3442cdb7"
      },
      "execution_count": 6,
      "outputs": [
        {
          "output_type": "stream",
          "name": "stdout",
          "text": [
            "ham\n",
            "spam\n",
            "spam\n"
          ]
        }
      ]
    },
    {
      "cell_type": "markdown",
      "source": [
        "## 8. Write code that prints Hello if 1 is stored in spam, prints Howdy if 2 is stored in spam, and prints Greetings! if anything else is stored in spam.\n",
        "Code:\n"
      ],
      "metadata": {
        "id": "_6jd9C59QMWM"
      }
    },
    {
      "cell_type": "code",
      "source": [
        "spam = 1\n",
        "\n",
        "if spam == 1:\n",
        "    print('Hello')\n",
        "elif spam == 2:\n",
        "    print('Howdy')\n",
        "else:\n",
        "    print('Greetings!')"
      ],
      "metadata": {
        "colab": {
          "base_uri": "https://localhost:8080/"
        },
        "id": "EBvgXP0QQU82",
        "outputId": "b23f3954-4e31-4908-bac1-6c5c74e07b94"
      },
      "execution_count": 7,
      "outputs": [
        {
          "output_type": "stream",
          "name": "stdout",
          "text": [
            "Hello\n"
          ]
        }
      ]
    },
    {
      "cell_type": "markdown",
      "source": [
        "## 9.If your programme is stuck in an endless loop, what keys you’ll press?\n",
        "ans:\n",
        "\n",
        "\n",
        "\n",
        "1.  Press Ctrl + C on the command line.\n",
        "2.  Restart the kernal\n",
        "\n",
        "\n"
      ],
      "metadata": {
        "id": "0d3JK-eeQZiw"
      }
    },
    {
      "cell_type": "markdown",
      "source": [
        "## 10. How can you tell the difference between break and continue?\n",
        "ans:"
      ],
      "metadata": {
        "id": "h6j9zTmYQlo8"
      }
    },
    {
      "cell_type": "markdown",
      "source": [
        "\n",
        "\n",
        "*   Break: It is used to break the loop and exit from the loop\n",
        "\n",
        "*   continue: It is used to skip the current iteration of the loop and continue with the next iteration.\n",
        "\n"
      ],
      "metadata": {
        "id": "YIqr7sklQrVK"
      }
    },
    {
      "cell_type": "markdown",
      "source": [
        "## 11. In a for loop, what is the difference between range(10), range(0, 10), and range(0, 10, 1)?\n",
        "ans:\n",
        "\n",
        "There is no difference"
      ],
      "metadata": {
        "id": "bgXopvJzQzM_"
      }
    },
    {
      "cell_type": "code",
      "source": [
        "for i in range(10):\n",
        "    print(i, end = ' ')"
      ],
      "metadata": {
        "colab": {
          "base_uri": "https://localhost:8080/"
        },
        "id": "IfH64JTEQVJH",
        "outputId": "826752d4-0f04-4124-fcfa-11543bb609b2"
      },
      "execution_count": 8,
      "outputs": [
        {
          "output_type": "stream",
          "name": "stdout",
          "text": [
            "0 1 2 3 4 5 6 7 8 9 "
          ]
        }
      ]
    },
    {
      "cell_type": "code",
      "source": [
        "for i in range(0, 10):\n",
        "    print(i, end = ' ')"
      ],
      "metadata": {
        "colab": {
          "base_uri": "https://localhost:8080/"
        },
        "id": "vEvcWZrtQ7rL",
        "outputId": "3c9840ab-8cac-4ff7-c49a-1d00e2385fb7"
      },
      "execution_count": 9,
      "outputs": [
        {
          "output_type": "stream",
          "name": "stdout",
          "text": [
            "0 1 2 3 4 5 6 7 8 9 "
          ]
        }
      ]
    },
    {
      "cell_type": "code",
      "source": [
        "for i in range(0, 10, 1):\n",
        "    print(i, end = ' ')"
      ],
      "metadata": {
        "colab": {
          "base_uri": "https://localhost:8080/"
        },
        "id": "GkNxaIg-Q_ws",
        "outputId": "353608c9-12d0-4de0-ab56-71ac53e31e71"
      },
      "execution_count": 10,
      "outputs": [
        {
          "output_type": "stream",
          "name": "stdout",
          "text": [
            "0 1 2 3 4 5 6 7 8 9 "
          ]
        }
      ]
    },
    {
      "cell_type": "markdown",
      "source": [
        "## 12. Write a short program that prints the numbers 1 to 10 using a for loop. Then write an equivalent program that prints the numbers 1 to 10 using a while loop.\n",
        "Code:"
      ],
      "metadata": {
        "id": "Y_m68lYnRDLE"
      }
    },
    {
      "cell_type": "code",
      "source": [
        "for i in range(1, 11):\n",
        "    print(i, end = ' ')"
      ],
      "metadata": {
        "colab": {
          "base_uri": "https://localhost:8080/"
        },
        "id": "yqawwcOtRIBl",
        "outputId": "5bcd78e4-8fce-4ee3-da6c-049081a3c863"
      },
      "execution_count": 11,
      "outputs": [
        {
          "output_type": "stream",
          "name": "stdout",
          "text": [
            "1 2 3 4 5 6 7 8 9 10 "
          ]
        }
      ]
    },
    {
      "cell_type": "code",
      "source": [
        "i = 1\n",
        "while i < 11:\n",
        "    print(i, end = ' ')\n",
        "    i += 1\n",
        "    "
      ],
      "metadata": {
        "colab": {
          "base_uri": "https://localhost:8080/"
        },
        "id": "3xbG9NmHRMQ_",
        "outputId": "fdff5972-797b-48f5-d02a-c9686c959038"
      },
      "execution_count": 12,
      "outputs": [
        {
          "output_type": "stream",
          "name": "stdout",
          "text": [
            "1 2 3 4 5 6 7 8 9 10 "
          ]
        }
      ]
    },
    {
      "cell_type": "markdown",
      "source": [
        "## 13. If you had a function named bacon() inside a module named spam, how would you call it after importing spam?\n",
        "Ans :=\n",
        "\n",
        "import spam\n",
        "\n",
        "spam.bacon()"
      ],
      "metadata": {
        "id": "uxrZL3E9RQtN"
      }
    }
  ]
}