{
  "nbformat": 4,
  "nbformat_minor": 0,
  "metadata": {
    "colab": {
      "provenance": [],
      "collapsed_sections": []
    },
    "kernelspec": {
      "name": "python3",
      "display_name": "Python 3"
    },
    "language_info": {
      "name": "python"
    }
  },
  "cells": [
    {
      "cell_type": "markdown",
      "source": [
        "#Python Programming Assignment 23\n",
        "##Name := Yash Bhaskar Narkhede"
      ],
      "metadata": {
        "id": "-SIU_PqjVpVG"
      }
    },
    {
      "cell_type": "markdown",
      "source": [
        "## 1. Create a function that takes a number as an argument and returns True or False depending on whether the number is symmetrical or not. A number is symmetrical when it is the same as its reverse."
      ],
      "metadata": {
        "id": "8ZLEynrGVsue"
      }
    },
    {
      "cell_type": "code",
      "source": [
        "def is_symmetrical(num):\n",
        "    currentDigit = reversedDigit = 0\n",
        "    remainingNum = num\n",
        "    while(remainingNum != 0):\n",
        "        currentDigit = remainingNum % 10\n",
        "        reversedDigit = reversedDigit * 10 + currentDigit\n",
        "        remainingNum = remainingNum // 10\n",
        "\n",
        "    if reversedDigit == num:\n",
        "        return True\n",
        "    else:\n",
        "        return False\n",
        "print(is_symmetrical(7227))\n",
        "print(is_symmetrical(12567))\n",
        "print(is_symmetrical(44444444))\n",
        "print(is_symmetrical(9939))\n",
        "print(is_symmetrical(1112111))"
      ],
      "metadata": {
        "colab": {
          "base_uri": "https://localhost:8080/"
        },
        "id": "vb309vwqV1r1",
        "outputId": "300a5403-d7ce-44f9-a78b-77bcff0fffdf"
      },
      "execution_count": 1,
      "outputs": [
        {
          "output_type": "stream",
          "name": "stdout",
          "text": [
            "True\n",
            "False\n",
            "True\n",
            "False\n",
            "True\n"
          ]
        }
      ]
    },
    {
      "cell_type": "markdown",
      "source": [
        "## 2. Given a string of numbers separated by a comma and space, return the product of the numbers."
      ],
      "metadata": {
        "id": "cu1H0MjmV5Ko"
      }
    },
    {
      "cell_type": "code",
      "source": [
        "def multiply_nums(s):\n",
        "    product = 1\n",
        "    for i in s.split(','):\n",
        "        product = product * int(i)\n",
        "    return product\n",
        "print(multiply_nums('2, 3'))\n",
        "print(multiply_nums('1, 2, 3, 4'))\n",
        "print(multiply_nums('54, 75, 453, 0'))\n",
        "print(multiply_nums('10, -2'))"
      ],
      "metadata": {
        "colab": {
          "base_uri": "https://localhost:8080/"
        },
        "id": "5_muAUfTV7WQ",
        "outputId": "f198d8d1-1487-4590-da36-a43cff02e7fa"
      },
      "execution_count": 2,
      "outputs": [
        {
          "output_type": "stream",
          "name": "stdout",
          "text": [
            "6\n",
            "24\n",
            "0\n",
            "-20\n"
          ]
        }
      ]
    },
    {
      "cell_type": "markdown",
      "source": [
        "## 3. Create a function that squares every digit of a number."
      ],
      "metadata": {
        "id": "vNrkhpRvV-b0"
      }
    },
    {
      "cell_type": "code",
      "source": [
        "def square_digits(num):\n",
        "    res = \"\"\n",
        "    for c in str(num):\n",
        "        res += str(int(c)**2)\n",
        "    return int(res)\n",
        "print(square_digits(9119))\n",
        "print(square_digits(2483))\n",
        "print(square_digits(3212))"
      ],
      "metadata": {
        "colab": {
          "base_uri": "https://localhost:8080/"
        },
        "id": "BLFNi_VmWAur",
        "outputId": "ee36c586-56e8-41f9-ae16-f2557579e6e7"
      },
      "execution_count": 3,
      "outputs": [
        {
          "output_type": "stream",
          "name": "stdout",
          "text": [
            "811181\n",
            "416649\n",
            "9414\n"
          ]
        }
      ]
    },
    {
      "cell_type": "markdown",
      "source": [
        "## 4. Create a function that sorts a list and removes all duplicate items from it."
      ],
      "metadata": {
        "id": "ZWetq8QcWDrx"
      }
    },
    {
      "cell_type": "code",
      "source": [
        "def setify(lst):\n",
        "    return list(set(lst))\n",
        "print(setify([1, 3, 3, 5, 5]))\n",
        "print(setify([4, 4, 4, 4]))\n",
        "print(setify([5, 7, 8, 9, 10, 15]))\n",
        "print(setify([3, 3, 3, 2, 1]))"
      ],
      "metadata": {
        "colab": {
          "base_uri": "https://localhost:8080/"
        },
        "id": "oFous5wBWGUB",
        "outputId": "6351291e-5ac5-428f-fd2f-212ffa7dafc4"
      },
      "execution_count": 4,
      "outputs": [
        {
          "output_type": "stream",
          "name": "stdout",
          "text": [
            "[1, 3, 5]\n",
            "[4]\n",
            "[5, 7, 8, 9, 10, 15]\n",
            "[1, 2, 3]\n"
          ]
        }
      ]
    },
    {
      "cell_type": "markdown",
      "source": [
        "## 5. Create a function that returns the mean of all digits."
      ],
      "metadata": {
        "id": "5mgewXvbWJOt"
      }
    },
    {
      "cell_type": "code",
      "source": [
        "def mean(n): \n",
        "    N = len(str(n)) \n",
        "    sum = mean = 0\n",
        "    \n",
        "    for digit in str(n):\n",
        "        sum += int(digit)       \n",
        "    return int(sum/N)\n",
        "print(mean(42))\n",
        "print(mean(12345))\n",
        "print(mean(666))"
      ],
      "metadata": {
        "colab": {
          "base_uri": "https://localhost:8080/"
        },
        "id": "evuN3rb0WL7D",
        "outputId": "75703041-7912-488e-d511-fbad4150e052"
      },
      "execution_count": 5,
      "outputs": [
        {
          "output_type": "stream",
          "name": "stdout",
          "text": [
            "3\n",
            "3\n",
            "6\n"
          ]
        }
      ]
    },
    {
      "cell_type": "code",
      "execution_count": null,
      "metadata": {
        "id": "InWMVQpxVlqE"
      },
      "outputs": [],
      "source": []
    }
  ]
}