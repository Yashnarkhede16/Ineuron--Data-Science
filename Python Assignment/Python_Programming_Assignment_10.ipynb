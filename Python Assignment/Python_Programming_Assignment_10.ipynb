{
  "nbformat": 4,
  "nbformat_minor": 0,
  "metadata": {
    "colab": {
      "provenance": [],
      "collapsed_sections": []
    },
    "kernelspec": {
      "name": "python3",
      "display_name": "Python 3"
    },
    "language_info": {
      "name": "python"
    }
  },
  "cells": [
    {
      "cell_type": "markdown",
      "source": [
        "#Python Programming Assignment 10\n",
        "##Name := Yash Bhaskar Narkhede"
      ],
      "metadata": {
        "id": "2QgBqyXU1j2X"
      }
    },
    {
      "cell_type": "markdown",
      "source": [
        "# 1. Write a Python program to find sum of elements in list?"
      ],
      "metadata": {
        "id": "DrJ_Sy8j1qkB"
      }
    },
    {
      "cell_type": "code",
      "execution_count": 1,
      "metadata": {
        "colab": {
          "base_uri": "https://localhost:8080/"
        },
        "id": "kl0NTGHC1Z2d",
        "outputId": "1c2ee3a3-a7c4-46e7-cbd8-e366cd776f7d"
      },
      "outputs": [
        {
          "output_type": "stream",
          "name": "stdout",
          "text": [
            "25\n"
          ]
        }
      ],
      "source": [
        "l = [2, 4, 1, 5, 6, 7]\n",
        "\n",
        "total = 0\n",
        "for i in l:\n",
        "    total += i\n",
        "    \n",
        "print(total)"
      ]
    },
    {
      "cell_type": "markdown",
      "source": [
        "# 2. Write a Python program to Multiply all numbers in the list?"
      ],
      "metadata": {
        "id": "nsDsijis1iV4"
      }
    },
    {
      "cell_type": "code",
      "source": [
        "l = [2, 4, 1, 5, 6, 7]\n",
        "\n",
        "mul = 1\n",
        "for i in l:\n",
        "    mul *= i\n",
        "    \n",
        "print(mul)"
      ],
      "metadata": {
        "colab": {
          "base_uri": "https://localhost:8080/"
        },
        "id": "MdNAxPg614my",
        "outputId": "27373ff5-468f-4344-ddb1-7791a8f24db6"
      },
      "execution_count": 2,
      "outputs": [
        {
          "output_type": "stream",
          "name": "stdout",
          "text": [
            "1680\n"
          ]
        }
      ]
    },
    {
      "cell_type": "markdown",
      "source": [
        "# 3. Write a Python program to find smallest number in a list?"
      ],
      "metadata": {
        "id": "61gwYWbL19G8"
      }
    },
    {
      "cell_type": "code",
      "source": [
        "l = [2, 0, 1, 1235, 6, -7123]\n",
        "\n",
        "minimum = l[0]\n",
        "for i in l:\n",
        "    if i < minimum:\n",
        "        minimum = i\n",
        "        \n",
        "print(minimum)"
      ],
      "metadata": {
        "colab": {
          "base_uri": "https://localhost:8080/"
        },
        "id": "CGnDej0l1-CJ",
        "outputId": "8f1c0683-a51f-4e90-ac53-8c6882d7ef21"
      },
      "execution_count": 3,
      "outputs": [
        {
          "output_type": "stream",
          "name": "stdout",
          "text": [
            "-7123\n"
          ]
        }
      ]
    },
    {
      "cell_type": "markdown",
      "source": [
        "# 4. Write a Python program to find largest number in a list?"
      ],
      "metadata": {
        "id": "3lBGDf5g2DMt"
      }
    },
    {
      "cell_type": "code",
      "source": [
        "l = [2, 0, 1, 1235, 6, -7123]\n",
        "\n",
        "maximum = l[0]\n",
        "for i in l:\n",
        "    if i > maximum:\n",
        "        maximum = i\n",
        "        \n",
        "print(maximum)"
      ],
      "metadata": {
        "colab": {
          "base_uri": "https://localhost:8080/"
        },
        "id": "_Ae28-w92ETf",
        "outputId": "26f45494-44a6-4bfb-cedf-569d1688c547"
      },
      "execution_count": 4,
      "outputs": [
        {
          "output_type": "stream",
          "name": "stdout",
          "text": [
            "1235\n"
          ]
        }
      ]
    },
    {
      "cell_type": "markdown",
      "source": [
        "# 5. Write a Python program to find second largest number in a list?"
      ],
      "metadata": {
        "id": "NSuPck6U2JVe"
      }
    },
    {
      "cell_type": "code",
      "source": [
        "l = [2, 0, 1, 1235, 6, -7123]\n",
        "l.sort(reverse=True)\n",
        "print(\"Second largest number:\", l[1])"
      ],
      "metadata": {
        "colab": {
          "base_uri": "https://localhost:8080/"
        },
        "id": "7J0tiC202Lke",
        "outputId": "6ff45c33-5c3c-4d6b-ece4-797a23b83504"
      },
      "execution_count": 5,
      "outputs": [
        {
          "output_type": "stream",
          "name": "stdout",
          "text": [
            "Second largest number: 6\n"
          ]
        }
      ]
    },
    {
      "cell_type": "markdown",
      "source": [
        "# 6. Write a Python program to find N largest elements from a list?"
      ],
      "metadata": {
        "id": "cg3vlbj62RuR"
      }
    },
    {
      "cell_type": "code",
      "source": [
        "def findLarge(lst, n):\n",
        "    \n",
        "    lst.sort(reverse = True)\n",
        "    return lst[n-1]"
      ],
      "metadata": {
        "id": "QLJ5z6Aj2S81"
      },
      "execution_count": 6,
      "outputs": []
    },
    {
      "cell_type": "code",
      "source": [
        "# 2nd Largest Element\n",
        "\n",
        "l = [2, 0, 1, 1235, 6, -7123]\n",
        "findLarge(l, 2)"
      ],
      "metadata": {
        "colab": {
          "base_uri": "https://localhost:8080/"
        },
        "id": "DcYOGLY22dEb",
        "outputId": "5cb59955-f863-4590-bd84-ea1ebd439b38"
      },
      "execution_count": 7,
      "outputs": [
        {
          "output_type": "execute_result",
          "data": {
            "text/plain": [
              "6"
            ]
          },
          "metadata": {},
          "execution_count": 7
        }
      ]
    },
    {
      "cell_type": "code",
      "source": [
        "# 4th Largest Element\n",
        "\n",
        "l = [2, 0, 1, 1235, 6, -7123]\n",
        "findLarge(l, 4)"
      ],
      "metadata": {
        "colab": {
          "base_uri": "https://localhost:8080/"
        },
        "id": "Y_KUzHV92f_a",
        "outputId": "f84c4785-428a-495c-924c-1103f69d231a"
      },
      "execution_count": 8,
      "outputs": [
        {
          "output_type": "execute_result",
          "data": {
            "text/plain": [
              "1"
            ]
          },
          "metadata": {},
          "execution_count": 8
        }
      ]
    },
    {
      "cell_type": "markdown",
      "source": [
        "# 7. Write a Python program to print even numbers in a list?"
      ],
      "metadata": {
        "id": "24inyJhd2jhh"
      }
    },
    {
      "cell_type": "code",
      "source": [
        "l = [2, 0, 1, 1235, 6, -7123, 21, 54, 12, -23, -42]\n",
        "\n",
        "[ i for i in l if i%2 == 0]"
      ],
      "metadata": {
        "colab": {
          "base_uri": "https://localhost:8080/"
        },
        "id": "C3gd5ONp2kxc",
        "outputId": "c4a04a37-c417-4343-f788-1e848a7e2241"
      },
      "execution_count": 9,
      "outputs": [
        {
          "output_type": "execute_result",
          "data": {
            "text/plain": [
              "[2, 0, 6, 54, 12, -42]"
            ]
          },
          "metadata": {},
          "execution_count": 9
        }
      ]
    },
    {
      "cell_type": "markdown",
      "source": [
        "#8. Write a Python program to print odd numbers in a List?"
      ],
      "metadata": {
        "id": "bO34RFc32qSr"
      }
    },
    {
      "cell_type": "code",
      "source": [
        "l = [2, 0, 1, 1235, 6, -7123, 21, 54, 12, -23, -42]\n",
        "\n",
        "[ i for i in l if i%2 == 1]"
      ],
      "metadata": {
        "colab": {
          "base_uri": "https://localhost:8080/"
        },
        "id": "iIqIJIQO2r0Y",
        "outputId": "611f8556-89ed-47d9-ecc2-820cf4a8ece4"
      },
      "execution_count": 10,
      "outputs": [
        {
          "output_type": "execute_result",
          "data": {
            "text/plain": [
              "[1, 1235, -7123, 21, -23]"
            ]
          },
          "metadata": {},
          "execution_count": 10
        }
      ]
    },
    {
      "cell_type": "markdown",
      "source": [
        "# 9. Write a Python program to Remove empty List from List?"
      ],
      "metadata": {
        "id": "rx4Lbh4b2x13"
      }
    },
    {
      "cell_type": "code",
      "source": [
        "l = [[], 12, 31, [1,2, -23] , [1], [], [123.23], [], 2, 321]\n",
        "\n",
        "result = []\n",
        "for i in l:\n",
        "    if type(i) == list:\n",
        "        if len(i) != 0:\n",
        "            result.append(i)\n",
        "    else:\n",
        "        result.append(i)\n",
        "\n",
        "result"
      ],
      "metadata": {
        "colab": {
          "base_uri": "https://localhost:8080/"
        },
        "id": "uF-0XDb42zMu",
        "outputId": "455df694-99b9-48e4-dec4-66e18e67ebea"
      },
      "execution_count": 11,
      "outputs": [
        {
          "output_type": "execute_result",
          "data": {
            "text/plain": [
              "[12, 31, [1, 2, -23], [1], [123.23], 2, 321]"
            ]
          },
          "metadata": {},
          "execution_count": 11
        }
      ]
    },
    {
      "cell_type": "markdown",
      "source": [
        "#10. Write a Python program to Cloning or Copying a list?"
      ],
      "metadata": {
        "id": "r-C1AWz7231E"
      }
    },
    {
      "cell_type": "code",
      "source": [
        "list1 = [2,1, 31, 3, 412, 3, 4667, [2,3,1]]\n",
        "list2 = []\n",
        "\n",
        "for i in list1:\n",
        "    list2.append(i)\n",
        "    \n",
        "print(list2)"
      ],
      "metadata": {
        "colab": {
          "base_uri": "https://localhost:8080/"
        },
        "id": "acliIZo025Qq",
        "outputId": "c5017473-411d-4a7b-842c-01bac8e01460"
      },
      "execution_count": 12,
      "outputs": [
        {
          "output_type": "stream",
          "name": "stdout",
          "text": [
            "[2, 1, 31, 3, 412, 3, 4667, [2, 3, 1]]\n"
          ]
        }
      ]
    },
    {
      "cell_type": "markdown",
      "source": [
        "# 11. Write a Python program to Count occurrences of an element in a list?"
      ],
      "metadata": {
        "id": "_n1IDSkn3D9i"
      }
    },
    {
      "cell_type": "code",
      "source": [
        "l = [1,1,1, 3, 4, 1, 7, 8, 6,6,2,1]\n",
        "\n",
        "def occurrences(lst, element):\n",
        "    count = 0\n",
        "    for i in lst:\n",
        "        if i == element:\n",
        "            count += 1\n",
        "            \n",
        "    return count"
      ],
      "metadata": {
        "id": "2BS6Xoxe3FRl"
      },
      "execution_count": 13,
      "outputs": []
    },
    {
      "cell_type": "code",
      "source": [
        "occurrences(l, 1)"
      ],
      "metadata": {
        "colab": {
          "base_uri": "https://localhost:8080/"
        },
        "id": "3r-Ml5A52uIs",
        "outputId": "de3b1e8d-cfcb-4aa4-bd7d-66c8b26755fa"
      },
      "execution_count": 14,
      "outputs": [
        {
          "output_type": "execute_result",
          "data": {
            "text/plain": [
              "5"
            ]
          },
          "metadata": {},
          "execution_count": 14
        }
      ]
    },
    {
      "cell_type": "code",
      "source": [],
      "metadata": {
        "id": "EIGsqvJ_3LBm"
      },
      "execution_count": null,
      "outputs": []
    }
  ]
}