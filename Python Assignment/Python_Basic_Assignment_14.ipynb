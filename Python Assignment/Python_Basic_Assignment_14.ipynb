{
  "nbformat": 4,
  "nbformat_minor": 0,
  "metadata": {
    "colab": {
      "provenance": [],
      "collapsed_sections": []
    },
    "kernelspec": {
      "name": "python3",
      "display_name": "Python 3"
    },
    "language_info": {
      "name": "python"
    }
  },
  "cells": [
    {
      "cell_type": "markdown",
      "source": [
        "#Python Basic Assignment 14\n",
        "##Name := Yash Bhaskar Narkhede\n"
      ],
      "metadata": {
        "id": "r_GHE81Mv75J"
      }
    },
    {
      "cell_type": "markdown",
      "source": [
        "##1. What does RGBA stand for?\n",
        "Ans:\n",
        "\n",
        "RGBA: Red-Green-Blue-Alpha\n",
        "\n",
        "##2.From the Pillow module, how do you get the RGBA value of any images?\n",
        "Ans:\n",
        "\n",
        "from PIL import ImageColor\n",
        "\n",
        "ImageColor.getcolor(color_name, 'RGBA')\n",
        "\n",
        "##3.What is a box tuple, and how does it work?\n",
        "Ans:\n",
        "\n",
        "Many Pillow's function take box tuple argument. This means pillow is taking a tuple of four integer coordinates that expecting a rectangular region in image. The four integers are in order left, top, right, bottom."
      ],
      "metadata": {
        "id": "RumkKLxMwDxx"
      }
    },
    {
      "cell_type": "markdown",
      "source": [
        "## 4.Use your image and load in notebook then, How can you find out the width and height of an Image object?"
      ],
      "metadata": {
        "id": "OMXiYT13wJPH"
      }
    },
    {
      "cell_type": "code",
      "source": [
        "from PIL import Image\n",
        "im=Image.open(\"image.jpg\")\n",
        "width, height = im.size\n",
        "print(\"width=\", width)\n",
        "print(\"height=\", height)"
      ],
      "metadata": {
        "colab": {
          "base_uri": "https://localhost:8080/"
        },
        "id": "yFhPpX8ywN-1",
        "outputId": "2e0a5752-5525-4ca5-c764-2364e56a3925"
      },
      "execution_count": 2,
      "outputs": [
        {
          "output_type": "stream",
          "name": "stdout",
          "text": [
            "width= 1600\n",
            "height= 1200\n"
          ]
        }
      ]
    },
    {
      "cell_type": "markdown",
      "source": [
        "##5.What method would you call to get Image object for a 100×100 image, excluding the lower-left quarter of it?\n",
        "Ans:\n",
        "\n",
        "from PIL import Image\n",
        "\n",
        "Image.new('RGBA', (100,100))\n",
        "\n",
        "##6.After making changes to an Image object, how could you save it as an image file?\n",
        "Ans:\n",
        "\n",
        "save(filename)\n",
        "\n",
        "##7.What module contains Pillow’s shape-drawing code?\n",
        "Ans:\n",
        "\n",
        "ImageDraw\n",
        "\n",
        "##8.Image objects do not have drawing methods. What kind of object does? How do you get this kind of object?\n",
        "Ans:\n",
        "\n",
        "wand.drawing.Drawing object has drawing methods.\n",
        "\n",
        "It can be got this way:\n",
        "\n",
        "from wand.drawing import Drawing"
      ],
      "metadata": {
        "id": "va44VBorwnur"
      }
    },
    {
      "cell_type": "markdown",
      "source": [],
      "metadata": {
        "id": "u8ONGTJcwtvR"
      }
    },
    {
      "cell_type": "code",
      "execution_count": null,
      "metadata": {
        "id": "KomRY9h_v34i"
      },
      "outputs": [],
      "source": []
    }
  ]
}