{
  "nbformat": 4,
  "nbformat_minor": 0,
  "metadata": {
    "colab": {
      "provenance": [],
      "collapsed_sections": []
    },
    "kernelspec": {
      "name": "python3",
      "display_name": "Python 3"
    },
    "language_info": {
      "name": "python"
    }
  },
  "cells": [
    {
      "cell_type": "markdown",
      "source": [
        "#Python Programming Assignment 25\n",
        "##Name := Yash Bhaskar Narkhede"
      ],
      "metadata": {
        "id": "ermOE2GLXdOY"
      }
    },
    {
      "cell_type": "markdown",
      "source": [
        "## 1. Create a function that takes three integer arguments (a, b, c) and returns the amount of integers which are of equal value."
      ],
      "metadata": {
        "id": "eSCvFJY0Xi-p"
      }
    },
    {
      "cell_type": "code",
      "source": [
        "def equal(a, b, c):\n",
        "    lst = [a, b, c]\n",
        "    \n",
        "    for i in set(lst):\n",
        "        if lst.count(i) == 3:\n",
        "            return 3\n",
        "        elif lst.count(i) == 2:\n",
        "            return 2\n",
        "    return 0\n",
        "print(equal(3, 4, 3))\n",
        "print(equal(1, 1, 1))\n",
        "print(equal(3, 4, 1))"
      ],
      "metadata": {
        "colab": {
          "base_uri": "https://localhost:8080/"
        },
        "id": "pN9b_EMAXv5r",
        "outputId": "066eab94-6a9d-44e5-92df-f63cdd7aeddf"
      },
      "execution_count": 1,
      "outputs": [
        {
          "output_type": "stream",
          "name": "stdout",
          "text": [
            "2\n",
            "3\n",
            "0\n"
          ]
        }
      ]
    },
    {
      "cell_type": "markdown",
      "source": [
        "##2. Write a function that converts a dictionary into a list of keys-values tuples."
      ],
      "metadata": {
        "id": "O7_i9eClX5Ty"
      }
    },
    {
      "cell_type": "code",
      "source": [
        "def dict_to_list(d:dict):\n",
        "    return [(k, v) for k, v in sorted(d.items())]\n",
        "dict_to_list({\n",
        "  \"D\": 1,\n",
        "  \"B\": 2,\n",
        "  \"C\": 3\n",
        "})"
      ],
      "metadata": {
        "colab": {
          "base_uri": "https://localhost:8080/"
        },
        "id": "IU0VSruYX92q",
        "outputId": "10eab962-c163-44fa-d866-df7ab9548a35"
      },
      "execution_count": 2,
      "outputs": [
        {
          "output_type": "execute_result",
          "data": {
            "text/plain": [
              "[('B', 2), ('C', 3), ('D', 1)]"
            ]
          },
          "metadata": {},
          "execution_count": 2
        }
      ]
    },
    {
      "cell_type": "code",
      "execution_count": 3,
      "metadata": {
        "colab": {
          "base_uri": "https://localhost:8080/"
        },
        "id": "bpf8ESboXbb6",
        "outputId": "3b3e7fee-2a4c-4de7-8cdc-32e47f995e78"
      },
      "outputs": [
        {
          "output_type": "execute_result",
          "data": {
            "text/plain": [
              "[('dislikes', 3), ('followers', 10), ('likes', 2)]"
            ]
          },
          "metadata": {},
          "execution_count": 3
        }
      ],
      "source": [
        "dict_to_list({\n",
        "  \"likes\": 2,\n",
        "  \"dislikes\": 3,\n",
        "  \"followers\": 10\n",
        "})"
      ]
    },
    {
      "cell_type": "markdown",
      "source": [
        "## 3. Write a function that creates a dictionary with each (key, value) pair being the (lower case, upper case) versions of a letter, respectively"
      ],
      "metadata": {
        "id": "f9AMtWbAYHTb"
      }
    },
    {
      "cell_type": "code",
      "source": [
        "def mapping(lst: list):\n",
        "    return {i.lower(): i.upper() for i in lst}\n",
        "print(mapping([\"p\", \"s\"]))\n",
        "print(mapping([\"a\", \"b\", \"c\"]))\n",
        "print(mapping([\"a\", \"v\", \"y\", \"z\"]))"
      ],
      "metadata": {
        "colab": {
          "base_uri": "https://localhost:8080/"
        },
        "id": "NWDncuxnYIO8",
        "outputId": "9cce6f8a-02e8-49ca-fc32-f2d1ce8d66b9"
      },
      "execution_count": 4,
      "outputs": [
        {
          "output_type": "stream",
          "name": "stdout",
          "text": [
            "{'p': 'P', 's': 'S'}\n",
            "{'a': 'A', 'b': 'B', 'c': 'C'}\n",
            "{'a': 'A', 'v': 'V', 'y': 'Y', 'z': 'Z'}\n"
          ]
        }
      ]
    },
    {
      "cell_type": "markdown",
      "source": [
        "## 4. Write a function, that replaces all vowels in a string with a specified vowel."
      ],
      "metadata": {
        "id": "40YGAJ-PYLNJ"
      }
    },
    {
      "cell_type": "code",
      "source": [
        "def vow_replace(string: str, char: str):\n",
        "    vowels = 'aeiou'\n",
        "    for i in string:\n",
        "        if i in vowels:\n",
        "            string = string.replace(i, char)\n",
        "            \n",
        "    return string\n",
        "print(vow_replace(\"apples and bananas\", \"u\"))\n",
        "print(vow_replace(\"cheese casserole\", \"o\"))\n",
        "print(vow_replace(\"stuffed jalapeno poppers\", \"e\"))"
      ],
      "metadata": {
        "colab": {
          "base_uri": "https://localhost:8080/"
        },
        "id": "92knSM7KYRz5",
        "outputId": "9eeeadea-be1a-407c-ed07-3cf118d162c7"
      },
      "execution_count": 5,
      "outputs": [
        {
          "output_type": "stream",
          "name": "stdout",
          "text": [
            "upplus und bununus\n",
            "chooso cossorolo\n",
            "steffed jelepene peppers\n"
          ]
        }
      ]
    },
    {
      "cell_type": "markdown",
      "source": [
        "## 5. Create a function that takes a string as input and capitalizes a letter if its ASCII code is even and returns its lower case version if its ASCII code is odd."
      ],
      "metadata": {
        "id": "_Tah2FA4YVHS"
      }
    },
    {
      "cell_type": "code",
      "source": [
        "def ascii_capitalize(string: str):\n",
        "    for i in string:\n",
        "        if ord(i) % 2 == 0:\n",
        "            string = string.replace(i, i.upper())\n",
        "        else:\n",
        "            string = string.replace(i, i.lower())\n",
        "    return string"
      ],
      "metadata": {
        "id": "Ch6Cx2t9Yav6"
      },
      "execution_count": 6,
      "outputs": []
    },
    {
      "cell_type": "code",
      "source": [
        "ascii_capitalize(\"to be or not to be!\") "
      ],
      "metadata": {
        "colab": {
          "base_uri": "https://localhost:8080/",
          "height": 35
        },
        "id": "6HaCsBCpYcJT",
        "outputId": "687ea1b4-24d7-4d36-c79d-e07fc61e7f81"
      },
      "execution_count": 7,
      "outputs": [
        {
          "output_type": "execute_result",
          "data": {
            "text/plain": [
              "'To Be oR NoT To Be!'"
            ],
            "application/vnd.google.colaboratory.intrinsic+json": {
              "type": "string"
            }
          },
          "metadata": {},
          "execution_count": 7
        }
      ]
    },
    {
      "cell_type": "code",
      "source": [
        "ascii_capitalize(\"THE LITTLE MERMAID\")"
      ],
      "metadata": {
        "colab": {
          "base_uri": "https://localhost:8080/",
          "height": 35
        },
        "id": "0HCTcgqNYgVT",
        "outputId": "3b363c26-adc9-4ad6-e9de-d2eaa6585020"
      },
      "execution_count": 8,
      "outputs": [
        {
          "output_type": "execute_result",
          "data": {
            "text/plain": [
              "'THe LiTTLe meRmaiD'"
            ],
            "application/vnd.google.colaboratory.intrinsic+json": {
              "type": "string"
            }
          },
          "metadata": {},
          "execution_count": 8
        }
      ]
    },
    {
      "cell_type": "code",
      "source": [
        "ascii_capitalize(\"Oh what a beautiful morning.\")"
      ],
      "metadata": {
        "colab": {
          "base_uri": "https://localhost:8080/",
          "height": 35
        },
        "id": "cB73AhFvYjUm",
        "outputId": "553a60e1-573b-41d8-e166-70ae6ab13d17"
      },
      "execution_count": 9,
      "outputs": [
        {
          "output_type": "execute_result",
          "data": {
            "text/plain": [
              "'oH wHaT a BeauTiFuL moRNiNg.'"
            ],
            "application/vnd.google.colaboratory.intrinsic+json": {
              "type": "string"
            }
          },
          "metadata": {},
          "execution_count": 9
        }
      ]
    },
    {
      "cell_type": "code",
      "source": [],
      "metadata": {
        "id": "t20wxUEYYlQX"
      },
      "execution_count": null,
      "outputs": []
    }
  ]
}