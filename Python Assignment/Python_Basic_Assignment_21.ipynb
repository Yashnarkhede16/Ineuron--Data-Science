{
  "nbformat": 4,
  "nbformat_minor": 0,
  "metadata": {
    "colab": {
      "provenance": [],
      "collapsed_sections": []
    },
    "kernelspec": {
      "name": "python3",
      "display_name": "Python 3"
    },
    "language_info": {
      "name": "python"
    }
  },
  "cells": [
    {
      "cell_type": "markdown",
      "source": [
        "#Python Basic Assignment 21\n",
        "##Name := Yash Bhaskar Narkhede"
      ],
      "metadata": {
        "id": "SpCKEdALxPUv"
      }
    },
    {
      "cell_type": "markdown",
      "source": [
        "## 1. Add the current date to the text file today.txt as a string.\n"
      ],
      "metadata": {
        "id": "s485FbCdxab3"
      }
    },
    {
      "cell_type": "code",
      "source": [
        "from datetime import date\n",
        "\n",
        "with open('today.txt', 'w') as txt:\n",
        "    txt.write(date.today().isoformat())\n",
        "print(date.today().isoformat())"
      ],
      "metadata": {
        "colab": {
          "base_uri": "https://localhost:8080/"
        },
        "id": "SiZmRDObxciv",
        "outputId": "d576a052-4a34-43de-b11d-6ac3cd4db209"
      },
      "execution_count": 1,
      "outputs": [
        {
          "output_type": "stream",
          "name": "stdout",
          "text": [
            "2022-11-01\n"
          ]
        }
      ]
    },
    {
      "cell_type": "markdown",
      "source": [
        "## 2. Read the text file today.txt into the string today_string\n"
      ],
      "metadata": {
        "id": "7HGqEwRXxiFJ"
      }
    },
    {
      "cell_type": "code",
      "source": [
        "today_string = \"\"\n",
        "with open('today.txt', 'r') as txt:\n",
        "    today_string = txt.readline()\n",
        "print(f\"Reading text: {today_string}\")"
      ],
      "metadata": {
        "colab": {
          "base_uri": "https://localhost:8080/"
        },
        "id": "t09ftFFDxj2g",
        "outputId": "75b7b8b9-52dd-4aab-a537-2ecc7afa4b19"
      },
      "execution_count": 2,
      "outputs": [
        {
          "output_type": "stream",
          "name": "stdout",
          "text": [
            "Reading text: 2022-11-01\n"
          ]
        }
      ]
    },
    {
      "cell_type": "markdown",
      "source": [
        "## 3. Parse the date from today_string.\n"
      ],
      "metadata": {
        "id": "v7uhPgtcxnsP"
      }
    },
    {
      "cell_type": "code",
      "source": [
        "from datetime import datetime\n",
        "print(datetime.strptime(today_string, '%Y-%m-%d'))"
      ],
      "metadata": {
        "colab": {
          "base_uri": "https://localhost:8080/"
        },
        "id": "q1s-cvOWxphG",
        "outputId": "767cbae4-128c-4e24-ff5f-640158962b64"
      },
      "execution_count": 3,
      "outputs": [
        {
          "output_type": "stream",
          "name": "stdout",
          "text": [
            "2022-11-01 00:00:00\n"
          ]
        }
      ]
    },
    {
      "cell_type": "markdown",
      "source": [
        "## 4. List the files in your current directory\n"
      ],
      "metadata": {
        "id": "MHn6RHmlxtz3"
      }
    },
    {
      "cell_type": "code",
      "source": [
        "import os\n",
        "os.listdir('.')"
      ],
      "metadata": {
        "colab": {
          "base_uri": "https://localhost:8080/"
        },
        "id": "35w4vGUVxwJK",
        "outputId": "12918394-0d20-4bd5-8531-a5e6fa85b59c"
      },
      "execution_count": 4,
      "outputs": [
        {
          "output_type": "execute_result",
          "data": {
            "text/plain": [
              "['.config', 'today.txt', 'sample_data']"
            ]
          },
          "metadata": {},
          "execution_count": 4
        }
      ]
    },
    {
      "cell_type": "markdown",
      "source": [
        "## 5. Create a list of all of the files in your parent directory (minimum five files should be available).\n"
      ],
      "metadata": {
        "id": "aU_BUnN6x2xJ"
      }
    },
    {
      "cell_type": "code",
      "source": [
        "lst_files = os.listdir('..')\n",
        "print(type(lst_files))\n",
        "print(lst_files)\n",
        "print(f\"Number of files: {len(lst_files)}\")"
      ],
      "metadata": {
        "colab": {
          "base_uri": "https://localhost:8080/"
        },
        "id": "kNX_WqaMx5Fh",
        "outputId": "3ae06b25-a100-4265-a1ee-be423f2c099f"
      },
      "execution_count": 5,
      "outputs": [
        {
          "output_type": "stream",
          "name": "stdout",
          "text": [
            "<class 'list'>\n",
            "['bin', 'home', 'proc', 'lib', 'dev', 'tmp', 'lib64', 'var', 'usr', 'media', 'boot', 'root', 'sbin', 'mnt', 'sys', 'etc', 'opt', 'run', 'srv', 'content', '.dockerenv', 'tools', 'datalab', 'python-apt', 'lib32', 'NGC-DL-CONTAINER-LICENSE']\n",
            "Number of files: 26\n"
          ]
        }
      ]
    },
    {
      "cell_type": "markdown",
      "source": [
        "## 6. Use multiprocessing to create three separate processes. Make each one wait a random number of seconds between one and five, print the current time, and then exit.\n"
      ],
      "metadata": {
        "id": "cu4T5mmdx8wp"
      }
    },
    {
      "cell_type": "code",
      "source": [
        "import multiprocessing\n",
        "from datetime import datetime \n",
        "from time import sleep \n",
        "import random\n",
        "\n",
        "def now_sleep(seconds): \n",
        "    print('wait', seconds, 'seconds, time is', datetime.utcnow())\n",
        "    sleep(seconds) \n",
        "    print(\"Finished Process!\")\n",
        "\n",
        "if __name__ == '__main__':\n",
        "    for n in range(3): \n",
        "        print(\"starting processes\")\n",
        "        seconds = random.randint(1, 10) \n",
        "        print(f\"Process {n} will sleep for {seconds}\")\n",
        "        proc = multiprocessing.Process(target=now_sleep, args=(seconds,)) \n",
        "        proc.start()"
      ],
      "metadata": {
        "colab": {
          "base_uri": "https://localhost:8080/"
        },
        "id": "DBtQ_yytx-2k",
        "outputId": "72dd8534-eb55-4d67-f8c9-ac5e1ba1069b"
      },
      "execution_count": 6,
      "outputs": [
        {
          "output_type": "stream",
          "name": "stdout",
          "text": [
            "starting processes\n",
            "Process 0 will sleep for 7\n",
            "starting processes\n",
            "Process 1 will sleep for 9\n",
            "wait 7 seconds, time isstarting processes\n",
            "Process 2 will sleep for 9\n",
            " 2022-11-01 10:41:44.359197\n",
            "wait 9 waitseconds, time is  2022-11-01 10:41:44.389253\n",
            "9 seconds, time is 2022-11-01 10:41:44.403808\n"
          ]
        }
      ]
    },
    {
      "cell_type": "markdown",
      "source": [
        "## 7. Create a date object of your day of birth.\n"
      ],
      "metadata": {
        "id": "N4dt_Z8hyDMT"
      }
    },
    {
      "cell_type": "code",
      "source": [
        "my_birthday = date(2000, 6, 16)\n",
        "print(my_birthday)"
      ],
      "metadata": {
        "colab": {
          "base_uri": "https://localhost:8080/"
        },
        "id": "8V9yAOZYyFM2",
        "outputId": "32fa2446-948d-4ca1-f07b-0bd760a923c3"
      },
      "execution_count": 7,
      "outputs": [
        {
          "output_type": "stream",
          "name": "stdout",
          "text": [
            "2000-06-16\n"
          ]
        }
      ]
    },
    {
      "cell_type": "markdown",
      "source": [
        "## 8. What day of the week was your day of birth?\n"
      ],
      "metadata": {
        "id": "TtlAmyIvyKui"
      }
    },
    {
      "cell_type": "code",
      "source": [
        "print(f\"My birthday was on {my_birthday.isoweekday()}th day of the week\")"
      ],
      "metadata": {
        "colab": {
          "base_uri": "https://localhost:8080/"
        },
        "id": "J0_-cE6EyMuI",
        "outputId": "00ab7e8a-a78c-401a-bf0b-9015e3c00bcd"
      },
      "execution_count": 8,
      "outputs": [
        {
          "output_type": "stream",
          "name": "stdout",
          "text": [
            "My birthday was on 5th day of the week\n"
          ]
        }
      ]
    },
    {
      "cell_type": "markdown",
      "source": [
        "## 9. When will you be (or when were you) 10,000 days old?\n",
        "\n"
      ],
      "metadata": {
        "id": "d3D_5Cd3yStO"
      }
    },
    {
      "cell_type": "code",
      "source": [
        "from datetime import timedelta\n",
        "\n",
        "thousand_days = my_birthday + timedelta(days=10000)\n",
        "print(thousand_days)"
      ],
      "metadata": {
        "colab": {
          "base_uri": "https://localhost:8080/"
        },
        "id": "R9ZKhXbhyUaG",
        "outputId": "c85f77ca-0594-4a0f-bb0d-c9c028be86dd"
      },
      "execution_count": 9,
      "outputs": [
        {
          "output_type": "stream",
          "name": "stdout",
          "text": [
            "2027-11-02\n"
          ]
        }
      ]
    },
    {
      "cell_type": "code",
      "execution_count": null,
      "metadata": {
        "id": "IHaQlsz6xKhf"
      },
      "outputs": [],
      "source": []
    }
  ]
}