{
  "nbformat": 4,
  "nbformat_minor": 0,
  "metadata": {
    "colab": {
      "provenance": [],
      "collapsed_sections": []
    },
    "kernelspec": {
      "name": "python3",
      "display_name": "Python 3"
    },
    "language_info": {
      "name": "python"
    }
  },
  "cells": [
    {
      "cell_type": "markdown",
      "source": [
        "#Python Programming Assignment 22\n",
        "##Name := Yash Bhaskar Narkhede"
      ],
      "metadata": {
        "id": "GUB7g4mfUdOR"
      }
    },
    {
      "cell_type": "markdown",
      "source": [
        "##1. Create a function that takes three parameters where:\n",
        "x is the start of the range (inclusive).\n",
        "\n",
        "y is the end of the range (inclusive).\n",
        "\n",
        "n is the divisor to be checked against."
      ],
      "metadata": {
        "id": "2MOmUo59UgXI"
      }
    },
    {
      "cell_type": "code",
      "source": [
        "def list_operation(x, y, z):\n",
        "    return [i for i in range(x, y+1) if i%z == 0]\n",
        "print(list_operation(1, 10, 3))\n",
        "print(list_operation(7, 9, 2))\n",
        "print(list_operation(15, 20, 7))"
      ],
      "metadata": {
        "colab": {
          "base_uri": "https://localhost:8080/"
        },
        "id": "DZPn41L5Uw7Y",
        "outputId": "f16fc6ec-5bfd-4542-e171-bf119db9f156"
      },
      "execution_count": 1,
      "outputs": [
        {
          "output_type": "stream",
          "name": "stdout",
          "text": [
            "[3, 6, 9]\n",
            "[8]\n",
            "[]\n"
          ]
        }
      ]
    },
    {
      "cell_type": "markdown",
      "source": [
        "## 2. Create a function that takes in two lists and returns True if the second list follows the first list by one element, and False otherwise. In other words, determine if the second list is the first list shifted to the right by 1."
      ],
      "metadata": {
        "id": "Bmb9vanLU0hW"
      }
    },
    {
      "cell_type": "code",
      "source": [
        "def simon_says(lst1: list, lst2: list) -> bool:\n",
        "    lst1 = lst1[:-1]\n",
        "    lst2 = lst2[1:]\n",
        "    if lst1 == lst2:\n",
        "        return True\n",
        "    return False\n",
        "print(simon_says([1, 2], [5, 1]))\n",
        "print(simon_says([1, 2], [5, 5]))\n",
        "print(simon_says([1, 2, 3, 4, 5], [0, 1, 2, 3, 4]))\n",
        "print(simon_says([1, 2, 3, 4, 5], [5, 5, 1, 2, 3]))"
      ],
      "metadata": {
        "colab": {
          "base_uri": "https://localhost:8080/"
        },
        "id": "TEozfj4cU3b3",
        "outputId": "a560c03d-13ab-4c78-a91d-eacbc00eb120"
      },
      "execution_count": 2,
      "outputs": [
        {
          "output_type": "stream",
          "name": "stdout",
          "text": [
            "True\n",
            "False\n",
            "True\n",
            "False\n"
          ]
        }
      ]
    },
    {
      "cell_type": "markdown",
      "source": [
        "## 3. A group of friends have decided to start a secret society. The name will be the first letter of each of their names, sorted in alphabetical order."
      ],
      "metadata": {
        "id": "uMUt45-vU6Dv"
      }
    },
    {
      "cell_type": "code",
      "source": [
        "def society_name(lst: list):\n",
        "    name = ''\n",
        "    for i in lst:\n",
        "        name += i[0]\n",
        "    return ''.join(sorted(name))\n",
        "print(society_name([\"Adam\", \"Sarah\", \"Malcolm\"]))\n",
        "print(society_name([\"Harry\", \"Newt\", \"Luna\", \"Cho\"]))\n",
        "print(society_name([\"Phoebe\", \"Chandler\", \"Rachel\", \"Ross\", \"Monica\", \"Joey\"]))"
      ],
      "metadata": {
        "colab": {
          "base_uri": "https://localhost:8080/"
        },
        "id": "nQyan55OU7F3",
        "outputId": "19941715-7e07-404b-96d2-3e1d2c951383"
      },
      "execution_count": 3,
      "outputs": [
        {
          "output_type": "stream",
          "name": "stdout",
          "text": [
            "AMS\n",
            "CHLN\n",
            "CJMPRR\n"
          ]
        }
      ]
    },
    {
      "cell_type": "markdown",
      "source": [
        "## 4. An isogram is a word that has no duplicate letters. Create a function that takes a string and returns either True or False depending on whether or not it's an \"isogram\"."
      ],
      "metadata": {
        "id": "YK75XoFHVAOT"
      }
    },
    {
      "cell_type": "code",
      "source": [
        "def is_isogram(string: str) -> bool:\n",
        "    return True if len(list(string)) == len(set(string)) else False\n",
        "print(is_isogram(\"Algorism\"))\n",
        "print(is_isogram(\"PasSword\"))\n",
        "print(is_isogram(\"Password\"))"
      ],
      "metadata": {
        "colab": {
          "base_uri": "https://localhost:8080/"
        },
        "id": "59kw5IVRVCor",
        "outputId": "44681ad9-9995-4b45-a7c5-00399ae2cd97"
      },
      "execution_count": 4,
      "outputs": [
        {
          "output_type": "stream",
          "name": "stdout",
          "text": [
            "True\n",
            "True\n",
            "False\n"
          ]
        }
      ]
    },
    {
      "cell_type": "markdown",
      "source": [
        "## 5. Create a function that takes a string and returns True or False, depending on whether the characters are in order or not."
      ],
      "metadata": {
        "id": "uaRNP-GLVFdw"
      }
    },
    {
      "cell_type": "code",
      "source": [
        "def is_in_order(string: str) -> bool:\n",
        "    return True if list(string) == sorted(list(string)) else False\n",
        "print(is_in_order(\"abc\"))\n",
        "print(is_in_order(\"edabit\"))\n",
        "print(is_in_order(\"123\"))\n",
        "print(is_in_order(\"xyzz\"))"
      ],
      "metadata": {
        "colab": {
          "base_uri": "https://localhost:8080/"
        },
        "id": "H-63hh85VH9x",
        "outputId": "4279bfac-f903-4584-ef66-82450947848d"
      },
      "execution_count": 5,
      "outputs": [
        {
          "output_type": "stream",
          "name": "stdout",
          "text": [
            "True\n",
            "False\n",
            "True\n",
            "True\n"
          ]
        }
      ]
    },
    {
      "cell_type": "code",
      "execution_count": null,
      "metadata": {
        "id": "P82aEccqUYrK"
      },
      "outputs": [],
      "source": []
    }
  ]
}