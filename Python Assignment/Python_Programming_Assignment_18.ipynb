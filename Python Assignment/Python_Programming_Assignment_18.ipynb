{
  "nbformat": 4,
  "nbformat_minor": 0,
  "metadata": {
    "colab": {
      "provenance": [],
      "collapsed_sections": []
    },
    "kernelspec": {
      "name": "python3",
      "display_name": "Python 3"
    },
    "language_info": {
      "name": "python"
    }
  },
  "cells": [
    {
      "cell_type": "markdown",
      "source": [
        "#Python Programming Assignment 18\n",
        "## Name := Yash Bhaskar Narkhede"
      ],
      "metadata": {
        "id": "LEW_Vt9ADc0G"
      }
    },
    {
      "cell_type": "markdown",
      "source": [
        "## 1. Create a function that takes a list of non-negative integers and strings and return a new list without the strings."
      ],
      "metadata": {
        "id": "c29kNRtEDuLq"
      }
    },
    {
      "cell_type": "code",
      "source": [
        "def filter_list(lst):\n",
        "    return [i for i in lst if type(i) is not str]\n",
        "\n",
        "print(filter_list([1, 2, 'a', 'b']))\n",
        "print(filter_list([1, 'a', 'b', 0, 15]))\n",
        "print(filter_list([1, 2, 'aasf', '1', '123', 123]))"
      ],
      "metadata": {
        "colab": {
          "base_uri": "https://localhost:8080/"
        },
        "id": "8qYDIX-8D5Wu",
        "outputId": "abb71a69-3f0f-4916-dba1-7e5990f0a21d"
      },
      "execution_count": 1,
      "outputs": [
        {
          "output_type": "stream",
          "name": "stdout",
          "text": [
            "[1, 2]\n",
            "[1, 0, 15]\n",
            "[1, 2, 123]\n"
          ]
        }
      ]
    },
    {
      "cell_type": "markdown",
      "source": [
        "## 2. The \"Reverser\" takes a string as input and returns that string in reverse order, with the opposite case."
      ],
      "metadata": {
        "id": "4BCWQefCD8K9"
      }
    },
    {
      "cell_type": "code",
      "source": [
        "def Reverser(string):\n",
        "    return string[::-1].swapcase()\n",
        "\n",
        "print(Reverser('Hello World'))\n",
        "print(Reverser('ReVeRsE'))\n",
        "print(Reverser('Radar'))"
      ],
      "metadata": {
        "colab": {
          "base_uri": "https://localhost:8080/"
        },
        "id": "b_t6KrPAD9Bo",
        "outputId": "7fc4db70-981d-4383-8b9c-63c43a18ee17"
      },
      "execution_count": 2,
      "outputs": [
        {
          "output_type": "stream",
          "name": "stdout",
          "text": [
            "DLROw OLLEh\n",
            "eSrEvEr\n",
            "RADAr\n"
          ]
        }
      ]
    },
    {
      "cell_type": "markdown",
      "source": [
        "## 3. You can assign variables from lists like this:\n"
      ],
      "metadata": {
        "id": "MSwru48wQUqU"
      }
    },
    {
      "cell_type": "code",
      "execution_count": 3,
      "metadata": {
        "colab": {
          "base_uri": "https://localhost:8080/"
        },
        "id": "DAFwcT5XDbDx",
        "outputId": "4d5fe9ac-4251-4138-ca4b-93d46e3b30f9"
      },
      "outputs": [
        {
          "output_type": "stream",
          "name": "stdout",
          "text": [
            "1\n",
            "[2, 3, 4, 5]\n",
            "6\n"
          ]
        }
      ],
      "source": [
        "lst = [1, 2, 3, 4, 5, 6]\n",
        "first = lst[0]\n",
        "middle = lst[1:-1]\n",
        "last = lst[-1]\n",
        "\n",
        "print(first)\n",
        "print(middle)\n",
        "print(last)"
      ]
    },
    {
      "cell_type": "markdown",
      "source": [
        "## 4. Write a function that calculates the factorial of a number recursively."
      ],
      "metadata": {
        "id": "9stEj4egQbhk"
      }
    },
    {
      "cell_type": "code",
      "source": [
        "def factorial(num):\n",
        "    if num <= 1:\n",
        "        return 1\n",
        "    else:\n",
        "        return num * factorial(num-1)\n",
        "print(factorial(5))\n",
        "print(factorial(3))\n",
        "print(factorial(1))\n",
        "print(factorial(0))"
      ],
      "metadata": {
        "colab": {
          "base_uri": "https://localhost:8080/"
        },
        "id": "uh55FG60Qjuk",
        "outputId": "b80d02db-761e-45a6-bfa4-c9160a440fc2"
      },
      "execution_count": 4,
      "outputs": [
        {
          "output_type": "stream",
          "name": "stdout",
          "text": [
            "120\n",
            "6\n",
            "1\n",
            "1\n"
          ]
        }
      ]
    },
    {
      "cell_type": "markdown",
      "source": [
        "## 5. Write a function that moves all elements of one type to the end of the list."
      ],
      "metadata": {
        "id": "r_88Un2rRBDP"
      }
    },
    {
      "cell_type": "code",
      "source": [
        "def move_to_end(lst: list, element):\n",
        "    \n",
        "    final_lst = []\n",
        "    \n",
        "    for i in lst:\n",
        "        if i == element:\n",
        "            final_lst.insert(0, i)\n",
        "        else:\n",
        "            final_lst.append(i)\n",
        "    \n",
        "    for i in range(len(final_lst)):\n",
        "        temp = final_lst[i]\n",
        "        if temp == element:\n",
        "            final_lst.remove(temp)\n",
        "            final_lst.append(temp)\n",
        "            \n",
        "    return final_lst\n",
        "move_to_end([1, 3, 2, 4, 4, 1], 1)"
      ],
      "metadata": {
        "colab": {
          "base_uri": "https://localhost:8080/"
        },
        "id": "W0erO4tuREFO",
        "outputId": "8a7a4cce-571a-4062-b200-1f378448797a"
      },
      "execution_count": 5,
      "outputs": [
        {
          "output_type": "execute_result",
          "data": {
            "text/plain": [
              "[3, 2, 4, 4, 1, 1]"
            ]
          },
          "metadata": {},
          "execution_count": 5
        }
      ]
    },
    {
      "cell_type": "code",
      "source": [
        "move_to_end([7, 8, 9, 1, 2, 3, 4], 9)"
      ],
      "metadata": {
        "colab": {
          "base_uri": "https://localhost:8080/"
        },
        "id": "4TxTTPhKRHCs",
        "outputId": "91103029-6150-4cad-dee8-5b5951f9d9fe"
      },
      "execution_count": 6,
      "outputs": [
        {
          "output_type": "execute_result",
          "data": {
            "text/plain": [
              "[7, 8, 1, 2, 3, 4, 9]"
            ]
          },
          "metadata": {},
          "execution_count": 6
        }
      ]
    },
    {
      "cell_type": "code",
      "source": [
        "move_to_end([\"a\", \"a\", \"a\", \"b\"], \"a\")"
      ],
      "metadata": {
        "colab": {
          "base_uri": "https://localhost:8080/"
        },
        "id": "_C81HObRRKfA",
        "outputId": "275b14a2-6809-4e5a-a316-493cb9a34e01"
      },
      "execution_count": 7,
      "outputs": [
        {
          "output_type": "execute_result",
          "data": {
            "text/plain": [
              "['b', 'a', 'a', 'a']"
            ]
          },
          "metadata": {},
          "execution_count": 7
        }
      ]
    }
  ]
}