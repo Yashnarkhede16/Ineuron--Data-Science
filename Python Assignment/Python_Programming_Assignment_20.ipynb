{
  "nbformat": 4,
  "nbformat_minor": 0,
  "metadata": {
    "colab": {
      "provenance": [],
      "collapsed_sections": []
    },
    "kernelspec": {
      "name": "python3",
      "display_name": "Python 3"
    },
    "language_info": {
      "name": "python"
    }
  },
  "cells": [
    {
      "cell_type": "markdown",
      "source": [
        "#Python Programming Assignment 20\n",
        "##Name := Yash Bhaskar Narkhede\n"
      ],
      "metadata": {
        "id": "X-vGUi83SiTD"
      }
    },
    {
      "cell_type": "markdown",
      "source": [
        "## 1. Create a function that takes a list of strings and integers, and filters out the list so that it returns a list of integers only. Examples filter_list([1, 2, 3, 'a', 'b', 4]) ➞ [1, 2, 3, 4] filter_list(['A', 0, 'Edabit', 1729, 'Python', '1729']) ➞ [0, 1729] filter_list(['Nothing', 'here']) ➞ []"
      ],
      "metadata": {
        "id": "vc6yNtvWSzm7"
      }
    },
    {
      "cell_type": "code",
      "source": [
        "def filter_list(lst: list) -> list:\n",
        "    return [i for i in lst if type(i) == int]\n",
        "\n",
        "print(filter_list([1, 2, 3, 'a', 'b', 4]))\n",
        "print(filter_list(['A', 0, 'Edabit', 1729, 'Python', '1729']))\n",
        "print(filter_list(['Nothing', 'here']))"
      ],
      "metadata": {
        "colab": {
          "base_uri": "https://localhost:8080/"
        },
        "id": "BTMUhu78S2Nf",
        "outputId": "ab5d6ac9-501e-4259-a337-cbf1fcda863b"
      },
      "execution_count": 1,
      "outputs": [
        {
          "output_type": "stream",
          "name": "stdout",
          "text": [
            "[1, 2, 3, 4]\n",
            "[0, 1729]\n",
            "[]\n"
          ]
        }
      ]
    },
    {
      "cell_type": "markdown",
      "source": [
        "## 2. Given a list of numbers, create a function which returns the list but with each element's index in the list added to itself. This means you add 0 to the number at index 0, add 1 to the number at index 1, etc... Examples add_indexes([0, 0, 0, 0, 0]) ➞ [0, 1, 2, 3, 4] add_indexes([1, 2, 3, 4, 5]) ➞ [1, 3, 5, 7, 9] add_indexes([5, 4, 3, 2, 1]) ➞ [5, 5, 5, 5, 5]"
      ],
      "metadata": {
        "id": "UNntDQBrS5VH"
      }
    },
    {
      "cell_type": "code",
      "source": [
        "def add_indexes(lst):\n",
        "    for i in range(len(lst)):\n",
        "        lst[i] = lst[i] + i\n",
        "        \n",
        "    return lst\n",
        "print(add_indexes([0, 0, 0, 0, 0]))\n",
        "print(add_indexes([1, 2, 3, 4, 5]))\n",
        "print(add_indexes([5, 4, 3, 2, 1]))"
      ],
      "metadata": {
        "colab": {
          "base_uri": "https://localhost:8080/"
        },
        "id": "9Ydaec6SS8kH",
        "outputId": "39994295-d7c0-466a-9c5f-99bbc1d6fae2"
      },
      "execution_count": 2,
      "outputs": [
        {
          "output_type": "stream",
          "name": "stdout",
          "text": [
            "[0, 1, 2, 3, 4]\n",
            "[1, 3, 5, 7, 9]\n",
            "[5, 5, 5, 5, 5]\n"
          ]
        }
      ]
    },
    {
      "cell_type": "markdown",
      "source": [
        "## 3. Create a function that takes the height and radius of a cone as arguments and returns the volume of the cone rounded to the nearest hundredth. See the resources tab for the formula."
      ],
      "metadata": {
        "id": "_0KWiBjoS_o_"
      }
    },
    {
      "cell_type": "code",
      "source": [
        "import math\n",
        "\n",
        "def cone_volume(height, radius):\n",
        "    return round((1/3) * math.pi * (radius ** 2) * height, 2)\n",
        "\n",
        "print(cone_volume(3, 2))\n",
        "print(cone_volume(15, 6))\n",
        "print(cone_volume(18, 0))"
      ],
      "metadata": {
        "colab": {
          "base_uri": "https://localhost:8080/"
        },
        "id": "ZabG0URzTB78",
        "outputId": "00ac5697-cad8-4ef2-e9a4-fbc56c4b3784"
      },
      "execution_count": 3,
      "outputs": [
        {
          "output_type": "stream",
          "name": "stdout",
          "text": [
            "12.57\n",
            "565.49\n",
            "0.0\n"
          ]
        }
      ]
    },
    {
      "cell_type": "markdown",
      "source": [
        "## 4. This Triangular Number Sequence is generated from a pattern of dots that form a triangle. The first 5 numbers of the sequence, or dots, are: 1, 3, 6, 10, 15"
      ],
      "metadata": {
        "id": "8r0AnLOvTFT_"
      }
    },
    {
      "cell_type": "code",
      "source": [
        "def triangle(n):\n",
        "    return int(n*(n+1)*0.5)\n",
        "print(triangle(1))\n",
        "print(triangle(6))\n",
        "print(triangle(215))"
      ],
      "metadata": {
        "colab": {
          "base_uri": "https://localhost:8080/"
        },
        "id": "zwLY_9I_THu7",
        "outputId": "bec3e2ae-2f71-46ad-ce58-c89f6971f7f7"
      },
      "execution_count": 4,
      "outputs": [
        {
          "output_type": "stream",
          "name": "stdout",
          "text": [
            "1\n",
            "21\n",
            "23220\n"
          ]
        }
      ]
    },
    {
      "cell_type": "markdown",
      "source": [
        "## 5. Create a function that takes a list of numbers between 1 and 10 (excluding one number) and returns the missing number. Examples missing_num([1, 2, 3, 4, 6, 7, 8, 9, 10]) ➞ 5 missing_num([7, 2, 3, 6, 5, 9, 1, 4, 8]) ➞ 10 missing_num([10, 5, 1, 2, 4, 6, 8, 3, 9]) ➞ 7"
      ],
      "metadata": {
        "id": "iYMSUSxRTKxf"
      }
    },
    {
      "cell_type": "code",
      "source": [
        "def missing_num(lst):\n",
        "    total = 10*(11)/2\n",
        "    return int(total - sum(lst))\n",
        "print(missing_num([1, 2, 3, 4, 6, 7, 8, 9, 10]))\n",
        "print(missing_num([7, 2, 3, 6, 5, 9, 1, 4, 8]))\n",
        "print(missing_num([10, 5, 1, 2, 4, 6, 8, 3, 9]))"
      ],
      "metadata": {
        "colab": {
          "base_uri": "https://localhost:8080/"
        },
        "id": "nWwpIcfBTNwR",
        "outputId": "04ade088-295b-4e73-82fa-5ebd76b00330"
      },
      "execution_count": 5,
      "outputs": [
        {
          "output_type": "stream",
          "name": "stdout",
          "text": [
            "5\n",
            "10\n",
            "7\n"
          ]
        }
      ]
    },
    {
      "cell_type": "code",
      "execution_count": null,
      "metadata": {
        "id": "TqluoGyCSf27"
      },
      "outputs": [],
      "source": []
    }
  ]
}