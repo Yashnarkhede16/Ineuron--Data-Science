{
  "nbformat": 4,
  "nbformat_minor": 0,
  "metadata": {
    "colab": {
      "provenance": [],
      "collapsed_sections": []
    },
    "kernelspec": {
      "name": "python3",
      "display_name": "Python 3"
    },
    "language_info": {
      "name": "python"
    }
  },
  "cells": [
    {
      "cell_type": "markdown",
      "source": [
        "#Python Programming Assignment 12\n",
        "##Name := Yash Bhaskar Narkhede"
      ],
      "metadata": {
        "id": "xXCLk7Nw5BBM"
      }
    },
    {
      "cell_type": "markdown",
      "source": [
        "# 1. Write a Python program to Extract Unique values dictionary values?"
      ],
      "metadata": {
        "id": "BOKaOvwo7afh"
      }
    },
    {
      "cell_type": "code",
      "source": [
        "dict1 = {'k1': 1, 'k2': 1, 'k3': 'hello', 'k4': 'hello', 'k5':1234}\n",
        "unique_values = {i for i in dict1.values()}\n",
        "unique_values"
      ],
      "metadata": {
        "colab": {
          "base_uri": "https://localhost:8080/"
        },
        "id": "aI7dLJVV7TRX",
        "outputId": "af414344-f9b8-462e-e60b-b4e7fd67a869"
      },
      "execution_count": 1,
      "outputs": [
        {
          "output_type": "execute_result",
          "data": {
            "text/plain": [
              "{1, 1234, 'hello'}"
            ]
          },
          "metadata": {},
          "execution_count": 1
        }
      ]
    },
    {
      "cell_type": "markdown",
      "source": [
        "# 2. Write a Python program to find the sum of all items in a dictionary?"
      ],
      "metadata": {
        "id": "tnC673ba7idQ"
      }
    },
    {
      "cell_type": "code",
      "source": [
        "test_dict = {'k1' : 89,\n",
        "             'k2' : 111,\n",
        "             'k3' : 123,\n",
        "             'k4' : 5}\n",
        "\n",
        "sum = 0\n",
        "for i in test_dict.values():\n",
        "    sum +=sum + i\n",
        "print(\"Sum of all values is : {}\".format(sum))"
      ],
      "metadata": {
        "colab": {
          "base_uri": "https://localhost:8080/"
        },
        "id": "0C7nl7O77jtG",
        "outputId": "e24c0188-63c1-42c1-e986-d39b56302a2f"
      },
      "execution_count": 2,
      "outputs": [
        {
          "output_type": "stream",
          "name": "stdout",
          "text": [
            "Sum of all values is : 1407\n"
          ]
        }
      ]
    },
    {
      "cell_type": "markdown",
      "source": [
        "# 3. Write a Python program to Merging two Dictionaries?"
      ],
      "metadata": {
        "id": "QdPaFd6x7n8z"
      }
    },
    {
      "cell_type": "code",
      "execution_count": 3,
      "metadata": {
        "colab": {
          "base_uri": "https://localhost:8080/"
        },
        "id": "SI4pWIZ-48dX",
        "outputId": "6b5e2aa9-7435-4f33-f7f8-c211e7e26397"
      },
      "outputs": [
        {
          "output_type": "stream",
          "name": "stdout",
          "text": [
            "{'x': 1, 'l': 2, 'k': 3, 'z': 4}\n"
          ]
        }
      ],
      "source": [
        "dict1 = { 'x': 1, 'l': 2}\n",
        "dict2 = { 'k': 3, 'z': 4, 'x': 11}\n",
        "# merging dict2 into dict1\n",
        "for item in dict2.items():\n",
        "    dict1.setdefault(item[0], item[1])\n",
        "print(dict1)"
      ]
    },
    {
      "cell_type": "markdown",
      "source": [
        "# 4. Write a Python program to convert key-values list to flat dictionary?"
      ],
      "metadata": {
        "id": "G42HPQTA7tMQ"
      }
    },
    {
      "cell_type": "code",
      "source": [
        "test_dict = {'month' : [1, 2, 3], 'name' : ['Jan', 'Feb', 'March']}\n",
        "res = dict(zip(test_dict['month'], test_dict['name']))\n",
        "\n",
        "print(\"Flattened dictionary : \" + str(res)) "
      ],
      "metadata": {
        "colab": {
          "base_uri": "https://localhost:8080/"
        },
        "id": "jS65ehP37uKt",
        "outputId": "3e2d28a3-2a0b-43c7-95a3-f3cef8097809"
      },
      "execution_count": 4,
      "outputs": [
        {
          "output_type": "stream",
          "name": "stdout",
          "text": [
            "Flattened dictionary : {1: 'Jan', 2: 'Feb', 3: 'March'}\n"
          ]
        }
      ]
    },
    {
      "cell_type": "markdown",
      "source": [
        "# 5. Write a Python program to insertion at the beginning in OrderedDict?\n"
      ],
      "metadata": {
        "id": "AFWOFqzM71ZR"
      }
    },
    {
      "cell_type": "code",
      "source": [
        "from collections import OrderedDict\n",
        "iniordered_dict = OrderedDict([('Feb', '2'), ('Mar', '3')])\n",
        "iniordered_dict.update({'Jan':'1'})\n",
        "iniordered_dict.move_to_end('Jan', last = False)\n",
        "print (\"Ordered Dictionary after insertion : \"+str(iniordered_dict))"
      ],
      "metadata": {
        "colab": {
          "base_uri": "https://localhost:8080/"
        },
        "id": "syHgHhpJ75s5",
        "outputId": "90066b79-2593-4979-fdf2-5853166b0641"
      },
      "execution_count": 5,
      "outputs": [
        {
          "output_type": "stream",
          "name": "stdout",
          "text": [
            "Ordered Dictionary after insertion : OrderedDict([('Jan', '1'), ('Feb', '2'), ('Mar', '3')])\n"
          ]
        }
      ]
    },
    {
      "cell_type": "markdown",
      "source": [
        "# 6. Write a Python program to check order of character in string using OrderedDict()?"
      ],
      "metadata": {
        "id": "7ot4wjlG8BRM"
      }
    },
    {
      "cell_type": "code",
      "source": [
        "from collections import OrderedDict \n",
        "  \n",
        "def checkOrderofString(str, pattern): \n",
        "      \n",
        "    dict = OrderedDict.fromkeys(str) \n",
        "    print(dict)   \n",
        "    ptrlen = 0\n",
        "    for key,value in dict.items(): \n",
        "        \n",
        "        if (key == pattern[ptrlen]): \n",
        "            ptrlen = ptrlen + 1\n",
        "        \n",
        "        if (ptrlen == (len(pattern))):            \n",
        "            return 'true'\n",
        "  \n",
        "    return 'false'\n",
        "  \n",
        "string = input(\"enter string : \")\n",
        "pattern = input(\"Enter Pattern : \")\n",
        "if checkOrderofString(string,pattern):\n",
        "    print(\"Pattern matched\")\n",
        "else:\n",
        "    print(\"Pattern not matched\")"
      ],
      "metadata": {
        "colab": {
          "base_uri": "https://localhost:8080/"
        },
        "id": "xrrpf-QW8CQK",
        "outputId": "3c9762f5-e35b-43b8-ad24-6a5067514a98"
      },
      "execution_count": 6,
      "outputs": [
        {
          "output_type": "stream",
          "name": "stdout",
          "text": [
            "enter string : Programming\n",
            "Enter Pattern : gram\n",
            "OrderedDict([('P', None), ('r', None), ('o', None), ('g', None), ('a', None), ('m', None), ('i', None), ('n', None)])\n",
            "Pattern matched\n"
          ]
        }
      ]
    },
    {
      "cell_type": "markdown",
      "source": [
        "# 7. Write a Python program to sort Python Dictionaries by Key or Value?"
      ],
      "metadata": {
        "id": "6s_ixufV8Uxn"
      }
    },
    {
      "cell_type": "code",
      "source": [
        "a = {'k1':2, 'k2':1, 'k3':3, '4':4 ,'6':6, 'key7':7}\n",
        "print(sorted(a.keys()))\n",
        "print(sorted(a.items()))\n",
        "print(sorted(a.values()))"
      ],
      "metadata": {
        "colab": {
          "base_uri": "https://localhost:8080/"
        },
        "id": "mK1dmEYd8YrD",
        "outputId": "9906cba3-0c90-4658-de95-66f80996dbc6"
      },
      "execution_count": 7,
      "outputs": [
        {
          "output_type": "stream",
          "name": "stdout",
          "text": [
            "['4', '6', 'k1', 'k2', 'k3', 'key7']\n",
            "[('4', 4), ('6', 6), ('k1', 2), ('k2', 1), ('k3', 3), ('key7', 7)]\n",
            "[1, 2, 3, 4, 6, 7]\n"
          ]
        }
      ]
    },
    {
      "cell_type": "code",
      "source": [],
      "metadata": {
        "id": "4zkHpiXP75zb"
      },
      "execution_count": null,
      "outputs": []
    }
  ]
}