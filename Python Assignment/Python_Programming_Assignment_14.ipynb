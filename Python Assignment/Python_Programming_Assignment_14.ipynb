{
  "nbformat": 4,
  "nbformat_minor": 0,
  "metadata": {
    "colab": {
      "provenance": [],
      "collapsed_sections": []
    },
    "kernelspec": {
      "name": "python3",
      "display_name": "Python 3"
    },
    "language_info": {
      "name": "python"
    }
  },
  "cells": [
    {
      "cell_type": "markdown",
      "source": [
        "#Python Programming Assignment 14\n",
        "## Name := Yash Bhaskar Narkhede"
      ],
      "metadata": {
        "id": "BVuSqRSN-S5X"
      }
    },
    {
      "cell_type": "markdown",
      "source": [
        "## 1. Define a class with a generator which can iterate the numbers, which are divisible by 7, between a given range 0 and n."
      ],
      "metadata": {
        "id": "ZtKQCt12-bjm"
      }
    },
    {
      "cell_type": "code",
      "source": [
        "class Task1:\n",
        "    def gen(self, n):\n",
        "        for i in range(n+1):\n",
        "            if i%7 == 0:\n",
        "                yield i\n",
        "nums = Task1()\n",
        "[i for i in nums.gen(100)]"
      ],
      "metadata": {
        "colab": {
          "base_uri": "https://localhost:8080/"
        },
        "id": "LhT_U1l8-eIE",
        "outputId": "88aa73c6-b339-4c40-b251-154d7bfa0cec"
      },
      "execution_count": 1,
      "outputs": [
        {
          "output_type": "execute_result",
          "data": {
            "text/plain": [
              "[0, 7, 14, 21, 28, 35, 42, 49, 56, 63, 70, 77, 84, 91, 98]"
            ]
          },
          "metadata": {},
          "execution_count": 1
        }
      ]
    },
    {
      "cell_type": "markdown",
      "source": [
        "## 2. Write a program to compute the frequency of the words from the input. The output should output after sorting the key alphanumerically."
      ],
      "metadata": {
        "id": "0GqZKjS4-nEl"
      }
    },
    {
      "cell_type": "code",
      "source": [
        "def task2(string: str):\n",
        "    \n",
        "    string_list = string.split(' ')\n",
        "    out_dict = {}\n",
        "    \n",
        "    for s in string_list:\n",
        "        if s in out_dict.keys():\n",
        "            out_dict[s] += 1\n",
        "        else:\n",
        "            out_dict[s] = 1\n",
        "            \n",
        "    for k, v in sorted(out_dict.items()):\n",
        "        print(k, ':', v)\n",
        "task2('New to Python or choosing between Python 2 and Python 3? Read Python 2 or Python 3')"
      ],
      "metadata": {
        "colab": {
          "base_uri": "https://localhost:8080/"
        },
        "id": "Rv8PQil3-oj9",
        "outputId": "4d95c586-9614-4539-d7cc-1dd3ad9e6afa"
      },
      "execution_count": 2,
      "outputs": [
        {
          "output_type": "stream",
          "name": "stdout",
          "text": [
            "2 : 2\n",
            "3 : 1\n",
            "3? : 1\n",
            "New : 1\n",
            "Python : 5\n",
            "Read : 1\n",
            "and : 1\n",
            "between : 1\n",
            "choosing : 1\n",
            "or : 2\n",
            "to : 1\n"
          ]
        }
      ]
    },
    {
      "cell_type": "markdown",
      "source": [
        "## 3. Define a class Person and its two child classes: Male and Female. All classes have a method \"getGender\" which can print \"Male\" for Male class and \"Female\" for Female class."
      ],
      "metadata": {
        "id": "KJhol_lp-uqM"
      }
    },
    {
      "cell_type": "code",
      "source": [
        "class Person:\n",
        "    def getGender(self):\n",
        "        pass\n",
        "    \n",
        "class Male(Person):\n",
        "    def getGender(self):\n",
        "        print('Male')\n",
        "        \n",
        "class Female(Person):\n",
        "    def getGender(self):\n",
        "        print('Female')\n",
        "male = Male()\n",
        "female= Female()\n",
        "male.getGender()\n",
        "female.getGender()"
      ],
      "metadata": {
        "colab": {
          "base_uri": "https://localhost:8080/"
        },
        "id": "7E6RpqZV-wmp",
        "outputId": "d58cfe1b-57d6-4b7c-b7bb-20087111ad3a"
      },
      "execution_count": 3,
      "outputs": [
        {
          "output_type": "stream",
          "name": "stdout",
          "text": [
            "Male\n",
            "Female\n"
          ]
        }
      ]
    },
    {
      "cell_type": "markdown",
      "source": [
        "## 4. Please write a program to generate all sentences where subject is in [\"I\", \"You\"] and verb is in ['Play', \"Love\"] and the object is in [\"Hockey\",\"Football\"]."
      ],
      "metadata": {
        "id": "nK-hlJpq-2as"
      }
    },
    {
      "cell_type": "code",
      "source": [
        "subject=[\"I\", \"You\"]\n",
        "verb=[\"Play\", \"Love\"]\n",
        "obj=[\"Hockey\",\"Football\"]\n",
        "\n",
        "sentence_list = []\n",
        "\n",
        "for i in subject:\n",
        "    for j in verb:\n",
        "        for k in obj:\n",
        "            sentence_list.append(i + \" \" + j + \" \" + k)\n",
        "            \n",
        "for sentence in sentence_list:\n",
        "    print(sentence)"
      ],
      "metadata": {
        "colab": {
          "base_uri": "https://localhost:8080/"
        },
        "id": "9T9oN16T-6Ss",
        "outputId": "47b629ee-740b-4ab8-bf03-bc471ef3f688"
      },
      "execution_count": 4,
      "outputs": [
        {
          "output_type": "stream",
          "name": "stdout",
          "text": [
            "I Play Hockey\n",
            "I Play Football\n",
            "I Love Hockey\n",
            "I Love Football\n",
            "You Play Hockey\n",
            "You Play Football\n",
            "You Love Hockey\n",
            "You Love Football\n"
          ]
        }
      ]
    },
    {
      "cell_type": "markdown",
      "source": [
        "## 5. Please write a program to compress and decompress the string \"hello world!hello world!hello world!hello world!\""
      ],
      "metadata": {
        "id": "WcWe64h1-_S5"
      }
    },
    {
      "cell_type": "code",
      "source": [
        "import zlib\n",
        "\n",
        "string = 'hello world!hello world!hello world!hello world!'\n",
        "\n",
        "compress_string = zlib.compress(bytes(string, 'utf-8'))\n",
        "\n",
        "print(f\"Compressed string is: {compress_string}\")\n",
        "print(f\"Decompressed string is: {zlib.decompress(compress_string)}\")"
      ],
      "metadata": {
        "colab": {
          "base_uri": "https://localhost:8080/"
        },
        "id": "7HgRy81u_LSG",
        "outputId": "5a629256-7a4c-4cbe-9d1e-7e1618908771"
      },
      "execution_count": 7,
      "outputs": [
        {
          "output_type": "stream",
          "name": "stdout",
          "text": [
            "Compressed string is: b'x\\x9c\\xcbH\\xcd\\xc9\\xc9W(\\xcf/\\xcaIQ\\xcc \\x82\\r\\x00\\xbd[\\x11\\xf5'\n",
            "Decompressed string is: b'hello world!hello world!hello world!hello world!'\n"
          ]
        }
      ]
    },
    {
      "cell_type": "markdown",
      "source": [
        "## 6. Please write a binary search function which searches an item in a sorted list. The function should return the index of element to be searched in the list."
      ],
      "metadata": {
        "id": "DsIVkxGX_beB"
      }
    },
    {
      "cell_type": "code",
      "source": [
        "def binarySearch(list1, n):  \n",
        "    \n",
        "    \n",
        "    low = 0  \n",
        "    high = len(list1) - 1  \n",
        "    mid = 0  \n",
        "  \n",
        "    while low <= high:  \n",
        "        mid = (high + low) // 2  \n",
        "        if list1[mid] < n:  \n",
        "            low = mid + 1  \n",
        "        elif list1[mid] > n:  \n",
        "            high = mid - 1  \n",
        "        else:  \n",
        "            return mid  \n",
        "    return -1\n",
        "sorted_list = [1, 4, 5, 12, 54, 678, 1235]\n",
        "binarySearch(sorted_list, 54)"
      ],
      "metadata": {
        "colab": {
          "base_uri": "https://localhost:8080/"
        },
        "id": "lzqM97U8-wyF",
        "outputId": "3c4b80ff-b32f-4979-ac05-28d5d39e1b68"
      },
      "execution_count": 8,
      "outputs": [
        {
          "output_type": "execute_result",
          "data": {
            "text/plain": [
              "4"
            ]
          },
          "metadata": {},
          "execution_count": 8
        }
      ]
    },
    {
      "cell_type": "code",
      "execution_count": null,
      "metadata": {
        "id": "pop00jzc-O3I"
      },
      "outputs": [],
      "source": []
    }
  ]
}