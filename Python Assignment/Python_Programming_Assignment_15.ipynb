{
  "nbformat": 4,
  "nbformat_minor": 0,
  "metadata": {
    "colab": {
      "provenance": [],
      "collapsed_sections": []
    },
    "kernelspec": {
      "name": "python3",
      "display_name": "Python 3"
    },
    "language_info": {
      "name": "python"
    }
  },
  "cells": [
    {
      "cell_type": "markdown",
      "source": [
        "#Python Programming Assignment 15\n",
        "##Name := Yash Bhaskar Narkhede\n"
      ],
      "metadata": {
        "id": "G1DS-eQ6_s38"
      }
    },
    {
      "cell_type": "markdown",
      "source": [
        "## 1. Please write a program using generator to print the numbers which can be divisible by 5 and 7 between 0 and n in comma separated form while n is input by console."
      ],
      "metadata": {
        "id": "xT-dRYgT_3Cz"
      }
    },
    {
      "cell_type": "code",
      "source": [
        "def task1(n):\n",
        "    \n",
        "    for i in range(n+1):\n",
        "        if i % 5 == 0 and i % 7 == 0:\n",
        "            yield str(i)+' '\n",
        "task1(100)\n",
        "print(', '.join([i for i in task1(100)]))"
      ],
      "metadata": {
        "colab": {
          "base_uri": "https://localhost:8080/"
        },
        "id": "_WoxpDEl_5s4",
        "outputId": "eb025983-acf9-40e9-936a-34ab5db0f208"
      },
      "execution_count": 1,
      "outputs": [
        {
          "output_type": "stream",
          "name": "stdout",
          "text": [
            "0 , 35 , 70 \n"
          ]
        }
      ]
    },
    {
      "cell_type": "markdown",
      "source": [
        "## 2. Please write a program using generator to print the even numbers between 0 and n in comma separated form while n is input by console."
      ],
      "metadata": {
        "id": "llqjx4oe_9IX"
      }
    },
    {
      "cell_type": "code",
      "source": [
        "def task2(n):\n",
        "\n",
        "    for i in range(n+1):\n",
        "        if i % 2 == 0:\n",
        "            yield str(i)\n",
        "print(', '.join([i for i in task2(10)]))"
      ],
      "metadata": {
        "colab": {
          "base_uri": "https://localhost:8080/"
        },
        "id": "y_KqzpJT_-Eq",
        "outputId": "2785823c-192d-4376-8a87-b71c8249b898"
      },
      "execution_count": 2,
      "outputs": [
        {
          "output_type": "stream",
          "name": "stdout",
          "text": [
            "0, 2, 4, 6, 8, 10\n"
          ]
        }
      ]
    },
    {
      "cell_type": "markdown",
      "source": [
        "## 3. Please write a program using list comprehension to print the Fibonacci Sequence in comma separated form with a given n input by console."
      ],
      "metadata": {
        "id": "zIshN4dtANkI"
      }
    },
    {
      "cell_type": "code",
      "execution_count": 3,
      "metadata": {
        "colab": {
          "base_uri": "https://localhost:8080/"
        },
        "id": "5tHc5EBe_o_X",
        "outputId": "0e3ebae9-d9f5-4701-8633-514ccf0938b4"
      },
      "outputs": [
        {
          "output_type": "stream",
          "name": "stdout",
          "text": [
            "0,1,1,2,3,5,8,13\n"
          ]
        }
      ],
      "source": [
        "def fibo(n):\n",
        "    i = 0\n",
        "    j = 1\n",
        "    for k in range(n+1):\n",
        "        yield i\n",
        "        i,j = j, i+j\n",
        "print(','.join([str(num) for num in fibo(7)]))"
      ]
    },
    {
      "cell_type": "markdown",
      "source": [
        "## 4. Assuming that we have some email addresses in the \"username@companyname.com\" format, please write program to print the user name of a given email address. Both user names and company names are composed of letters only."
      ],
      "metadata": {
        "id": "i2k3dgUDBOdl"
      }
    },
    {
      "cell_type": "code",
      "source": [
        "def username(email: str):\n",
        "    return email.split('@')[0]\n",
        "username('john@google.com')"
      ],
      "metadata": {
        "colab": {
          "base_uri": "https://localhost:8080/",
          "height": 35
        },
        "id": "VN_tY8EpBScm",
        "outputId": "da0d8c16-7220-4535-e125-dd4aef7a7bbc"
      },
      "execution_count": 4,
      "outputs": [
        {
          "output_type": "execute_result",
          "data": {
            "text/plain": [
              "'john'"
            ],
            "application/vnd.google.colaboratory.intrinsic+json": {
              "type": "string"
            }
          },
          "metadata": {},
          "execution_count": 4
        }
      ]
    },
    {
      "cell_type": "markdown",
      "source": [
        "##5. Define a class named Shape and its subclass Square. The Square class has an init function which takes a length as argument. Both classes have a area function which can print the area of the shape where Shape's area is 0 by default."
      ],
      "metadata": {
        "id": "fGgosYHtBcCO"
      }
    },
    {
      "cell_type": "code",
      "source": [
        "class Shape:\n",
        "    def __init__(self, length):\n",
        "        self.length = length\n",
        "        \n",
        "    def area(self):\n",
        "        return 0\n",
        "    \n",
        "class Square(Shape):\n",
        "    def area(self):\n",
        "        return self.length*self.length\n",
        "shape_obj = Shape(10)\n",
        "\n",
        "shape_obj.area()"
      ],
      "metadata": {
        "colab": {
          "base_uri": "https://localhost:8080/"
        },
        "id": "SXEl5W7LBdUp",
        "outputId": "8b1693f7-f032-4414-c849-1ef1124a6d27"
      },
      "execution_count": 5,
      "outputs": [
        {
          "output_type": "execute_result",
          "data": {
            "text/plain": [
              "0"
            ]
          },
          "metadata": {},
          "execution_count": 5
        }
      ]
    },
    {
      "cell_type": "code",
      "source": [
        "square_obj = Square(13)\n",
        "\n",
        "square_obj.area()"
      ],
      "metadata": {
        "colab": {
          "base_uri": "https://localhost:8080/"
        },
        "id": "B0FIr-QUBkgl",
        "outputId": "c82c12bd-836d-4e13-869f-eeffa371d1ea"
      },
      "execution_count": 6,
      "outputs": [
        {
          "output_type": "execute_result",
          "data": {
            "text/plain": [
              "169"
            ]
          },
          "metadata": {},
          "execution_count": 6
        }
      ]
    },
    {
      "cell_type": "markdown",
      "source": [],
      "metadata": {
        "id": "HPH-LLIZBjzP"
      }
    }
  ]
}