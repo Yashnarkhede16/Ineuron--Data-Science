{
  "nbformat": 4,
  "nbformat_minor": 0,
  "metadata": {
    "colab": {
      "provenance": [],
      "collapsed_sections": []
    },
    "kernelspec": {
      "name": "python3",
      "display_name": "Python 3"
    },
    "language_info": {
      "name": "python"
    }
  },
  "cells": [
    {
      "cell_type": "markdown",
      "source": [
        "#Python Programming Assignment 24\n",
        "##Name := Yash Bhaskar Narkhede\n"
      ],
      "metadata": {
        "id": "YkvmY6_zWUEg"
      }
    },
    {
      "cell_type": "markdown",
      "source": [
        "## 1. Create a function that takes an integer and returns a list from 1 to the given number, where:"
      ],
      "metadata": {
        "id": "Cvjs7B3dWfkm"
      }
    },
    {
      "cell_type": "code",
      "source": [
        "def amplify(n):\n",
        "    return [i*10 if i % 4 == 0 else i for i in range(1,n+1)]\n",
        "print(amplify(4))\n",
        "print(amplify(3))\n",
        "print(amplify(25))"
      ],
      "metadata": {
        "colab": {
          "base_uri": "https://localhost:8080/"
        },
        "id": "ybQRsO7lWiO3",
        "outputId": "a33636fc-5494-4878-ba72-c0572028d025"
      },
      "execution_count": 1,
      "outputs": [
        {
          "output_type": "stream",
          "name": "stdout",
          "text": [
            "[1, 2, 3, 40]\n",
            "[1, 2, 3]\n",
            "[1, 2, 3, 40, 5, 6, 7, 80, 9, 10, 11, 120, 13, 14, 15, 160, 17, 18, 19, 200, 21, 22, 23, 240, 25]\n"
          ]
        }
      ]
    },
    {
      "cell_type": "markdown",
      "source": [
        "## 2. Create a function that takes a list of numbers and return the number that's unique."
      ],
      "metadata": {
        "id": "-CiJDUX-WlRG"
      }
    },
    {
      "cell_type": "code",
      "source": [
        "def unique(lst: list):\n",
        "    res = []\n",
        "    for i in set(lst):\n",
        "        if lst.count(i) == 1:\n",
        "            res.append(i)\n",
        "    return res\n",
        "print(unique([3, 3, 3, 7, 3, 3]))\n",
        "print(unique([0, 0, 0.77, 0, 0]))\n",
        "print(unique([0, 1, 1, 1, 1, 1, 1, 1]))"
      ],
      "metadata": {
        "colab": {
          "base_uri": "https://localhost:8080/"
        },
        "id": "YM4IFAqSWnfi",
        "outputId": "9c59390e-8b51-41aa-f3cb-5ab370559ebc"
      },
      "execution_count": 2,
      "outputs": [
        {
          "output_type": "stream",
          "name": "stdout",
          "text": [
            "[7]\n",
            "[0.77]\n",
            "[0]\n"
          ]
        }
      ]
    },
    {
      "cell_type": "markdown",
      "source": [
        "## 3. Your task is to create a Circle constructor that creates a circle with a radius provided by an argument. The circles constructed must have two getters getArea() (PIr^2) and getPerimeter() (2PI*r) which give both respective areas and perimeter (circumference)."
      ],
      "metadata": {
        "id": "ZXFeqZ87WqS5"
      }
    },
    {
      "cell_type": "code",
      "source": [
        "import math\n",
        "\n",
        "class Circle:\n",
        "    def __init__(self, r):\n",
        "        self.r = r\n",
        "    \n",
        "    def getArea(self):\n",
        "        return round(math.pi * (self.r ** 2))\n",
        "    \n",
        "    def getPerimeter(self):\n",
        "        return round(2 * math.pi * self.r)"
      ],
      "metadata": {
        "id": "ewnoatncWsy1"
      },
      "execution_count": 3,
      "outputs": []
    },
    {
      "cell_type": "code",
      "source": [
        "shape = Circle(11)\n",
        "print(shape.getArea())\n",
        "\n",
        "shape = Circle(4.44)\n",
        "print(shape.getPerimeter())"
      ],
      "metadata": {
        "colab": {
          "base_uri": "https://localhost:8080/"
        },
        "id": "OzwyJvBoWvZ4",
        "outputId": "501ffdfe-6856-4267-8813-fd4ff4ea67e3"
      },
      "execution_count": 4,
      "outputs": [
        {
          "output_type": "stream",
          "name": "stdout",
          "text": [
            "380\n",
            "28\n"
          ]
        }
      ]
    },
    {
      "cell_type": "markdown",
      "source": [],
      "metadata": {
        "id": "uB2nlHmgWyUi"
      }
    },
    {
      "cell_type": "markdown",
      "source": [
        "## 4. Create a function that takes a list of strings and return a list, sorted from shortest to longest."
      ],
      "metadata": {
        "id": "PzOhSZhaWyfI"
      }
    },
    {
      "cell_type": "code",
      "source": [
        "from collections import OrderedDict\n",
        "def sort_by_length(lst):\n",
        "    \n",
        "    my_dict = {len(v):v for v in lst}\n",
        "    \n",
        "    return list(OrderedDict(sorted(my_dict.items())).values())\n",
        "print(sort_by_length(['Google', 'Apple', 'Microsoft']))\n",
        "print(sort_by_length(['Leonardo', 'Michelangelo', 'Raphael', 'Donatello']))\n",
        "print(sort_by_length(['Turing', 'Einstein', 'Jung']))"
      ],
      "metadata": {
        "colab": {
          "base_uri": "https://localhost:8080/"
        },
        "id": "vhb7of3pXPyg",
        "outputId": "a0a18915-b266-4250-eee0-ea17522e0a93"
      },
      "execution_count": 5,
      "outputs": [
        {
          "output_type": "stream",
          "name": "stdout",
          "text": [
            "['Apple', 'Google', 'Microsoft']\n",
            "['Raphael', 'Leonardo', 'Donatello', 'Michelangelo']\n",
            "['Jung', 'Turing', 'Einstein']\n"
          ]
        }
      ]
    },
    {
      "cell_type": "markdown",
      "source": [
        "## 5. Create a function that validates whether three given integers form a Pythagorean triplet. The sum of the squares of the two smallest integers must equal the square of the largest number to be validated."
      ],
      "metadata": {
        "id": "pr_u0plFXSpO"
      }
    },
    {
      "cell_type": "code",
      "source": [
        "def is_triplet(a,b,c):\n",
        "    lst = [a, b, c]\n",
        "    lst.sort()\n",
        "    if lst[0] ** 2 + lst[1] ** 2 == lst[2] ** 2:\n",
        "        return True\n",
        "    else:\n",
        "        return False\n",
        "print(is_triplet(3, 4, 5))\n",
        "print(is_triplet(13, 5, 12))\n",
        "print(is_triplet(1, 2, 3))"
      ],
      "metadata": {
        "colab": {
          "base_uri": "https://localhost:8080/"
        },
        "id": "q7kt9zc8XVxV",
        "outputId": "2d1b24fc-e3a7-4bfe-e7b3-9375c00b0ef1"
      },
      "execution_count": 6,
      "outputs": [
        {
          "output_type": "stream",
          "name": "stdout",
          "text": [
            "True\n",
            "True\n",
            "False\n"
          ]
        }
      ]
    },
    {
      "cell_type": "code",
      "execution_count": null,
      "metadata": {
        "id": "K8fy1GpxWSJl"
      },
      "outputs": [],
      "source": []
    }
  ]
}