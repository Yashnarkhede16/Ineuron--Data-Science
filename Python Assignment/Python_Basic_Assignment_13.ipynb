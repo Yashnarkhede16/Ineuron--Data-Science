{
  "nbformat": 4,
  "nbformat_minor": 0,
  "metadata": {
    "colab": {
      "provenance": [],
      "collapsed_sections": []
    },
    "kernelspec": {
      "name": "python3",
      "display_name": "Python 3"
    },
    "language_info": {
      "name": "python"
    }
  },
  "cells": [
    {
      "cell_type": "markdown",
      "source": [
        "#Python Basic Assignment 13\n",
        "##Name := Yash Bhaskar Narkhede"
      ],
      "metadata": {
        "id": "kvK2ur1UvPFB"
      }
    },
    {
      "cell_type": "markdown",
      "source": [
        "##1.What advantages do Excel spreadsheets have over CSV spreadsheets?\n",
        "Ans := \n",
        "\n",
        "Reading large dataset is much easier in excel compared to csv, Excel provides the option for linking the data from external sources but no such feature available in csv.\n",
        "\n",
        "##2.What do you pass to csv.reader() and csv.writer() to create reader and writer objects?\n",
        "Ans := \n",
        "\n",
        "file object\n",
        "\n",
        "##3.What modes do File objects for reader and writer objects need to be opened in?\n",
        "Ans := \n",
        "\n",
        "'r'(read mode) for reader objects and 'w'(write mode) for writer objects\n",
        "\n",
        "##4.What method takes a list argument and writes it to a CSV file?\n",
        "Ans := \n",
        "\n",
        "writerow() method of csv.writer()\n",
        "\n",
        "##5.What do the keyword arguments delimiter and line terminator do?\n",
        "Ans := \n",
        "\n",
        "delimiter sets the character between cells on a row. line terminator sets the character that comes at the end of a row.\n",
        "\n",
        "##6.What function takes a string of JSON data and returns a Python data structure?\n",
        "Ans := \n",
        "\n",
        "json.loads()\n",
        "\n",
        "##7.What function takes a Python data structure and returns a string of JSON data?\n",
        "Ans := \n",
        "\n",
        "json.dumps()"
      ],
      "metadata": {
        "id": "ihWTG7D-vZf0"
      }
    },
    {
      "cell_type": "markdown",
      "source": [],
      "metadata": {
        "id": "L7NOjvLEvtVR"
      }
    },
    {
      "cell_type": "code",
      "execution_count": null,
      "metadata": {
        "id": "vEiVC-LQvKRQ"
      },
      "outputs": [],
      "source": []
    }
  ]
}