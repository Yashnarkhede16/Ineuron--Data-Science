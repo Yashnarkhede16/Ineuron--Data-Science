{
  "nbformat": 4,
  "nbformat_minor": 0,
  "metadata": {
    "colab": {
      "provenance": [],
      "collapsed_sections": []
    },
    "kernelspec": {
      "name": "python3",
      "display_name": "Python 3"
    },
    "language_info": {
      "name": "python"
    }
  },
  "cells": [
    {
      "cell_type": "markdown",
      "source": [
        "#Python Basic Assignment 9\n",
        "##Name := Yash Bhaskar Narkhede"
      ],
      "metadata": {
        "id": "RHUj_cS3ptXF"
      }
    },
    {
      "cell_type": "markdown",
      "source": [
        "#1. To what does a relative path refer?\n",
        "Relative paths are relative to the current working directory. When using relative path, we need to provide the absolute/complete path of file from the root directory, instead we can give the partial/relative path to indicate the file location.\n",
        "\n"
      ],
      "metadata": {
        "id": "KU2FsBpSpw3U"
      }
    },
    {
      "cell_type": "markdown",
      "source": [
        "#2. What does an absolute path start with your operating system?\n",
        "I am using Windows Operating System with Single Hard drive, so my absolute path starts with C:\\"
      ],
      "metadata": {
        "id": "hbY95za8p0P3"
      }
    },
    {
      "cell_type": "markdown",
      "source": [
        "#3. What do the functions os.getcwd() and os.chdir() do?\n",
        "os.getcwd() returns you the current working directory path\n",
        "\n",
        "os.chdir() is used to change the current working directory while running the program"
      ],
      "metadata": {
        "id": "Hd3iQenUp4Tb"
      }
    },
    {
      "cell_type": "markdown",
      "source": [
        "#4. What are the . and .. folders?\n",
        ". single dot means the current folder\n",
        "\n",
        ".. double dot means the parent folder\n"
      ],
      "metadata": {
        "id": "8XmmLlShp-oN"
      }
    },
    {
      "cell_type": "markdown",
      "source": [
        "# 5. In C:\\bacon\\eggs\\spam.txt, which part is the dir name, and which part is the base name?\n",
        "C:\\bacon\\eggs is the dir name\n",
        "\n",
        "spam.txt is the base name"
      ],
      "metadata": {
        "id": "OPZoZtWoqCw6"
      }
    },
    {
      "cell_type": "markdown",
      "source": [
        "# 6. What are the three “mode” arguments that can be passed to the open() function?\n",
        "The three mode arguments that can be passed to the open() function are:\n",
        "\n",
        "'r' for read mode\n",
        "\n",
        "'w' for write mode\n",
        "\n",
        "'a' for append mode."
      ],
      "metadata": {
        "id": "bAAVwH7UqM5M"
      }
    },
    {
      "cell_type": "markdown",
      "source": [
        "#7. What happens if an existing file is opened in write mode?\n",
        "If an existing file is opened in write mode, then all the existing content from the file is erased and the new content will be added.\n",
        "\n",
        "This might result in loss of data if you wanted to have both existing and new data to existing in the file"
      ],
      "metadata": {
        "id": "TqFn9QwvqPwY"
      }
    },
    {
      "cell_type": "markdown",
      "source": [
        "# 8. How do you tell the difference between read() and readlines()?\n",
        "The read() method returns the file’s entire contents as a single string value.\n",
        "\n",
        "The readlines() method returns a list of strings, where each string is a line from the file’s contents.\n"
      ],
      "metadata": {
        "id": "WvuNTzmjqVbN"
      }
    },
    {
      "cell_type": "markdown",
      "source": [
        "# 9. What data structure does a shelf value resemble?\n",
        "A shelf value resembles a dictionary value; it has keys and values, along with keys() and values() methods that work similarly to the dictionary methods of the same names."
      ],
      "metadata": {
        "id": "onwGV5lvqXg8"
      }
    },
    {
      "cell_type": "markdown",
      "source": [],
      "metadata": {
        "id": "kyKW3a65qRuy"
      }
    },
    {
      "cell_type": "code",
      "execution_count": null,
      "metadata": {
        "id": "InU3b8XFpqRQ"
      },
      "outputs": [],
      "source": []
    }
  ]
}