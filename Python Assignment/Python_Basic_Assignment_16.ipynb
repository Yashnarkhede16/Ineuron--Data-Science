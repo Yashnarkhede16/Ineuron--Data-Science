{
  "nbformat": 4,
  "nbformat_minor": 0,
  "metadata": {
    "colab": {
      "provenance": [],
      "collapsed_sections": []
    },
    "kernelspec": {
      "name": "python3",
      "display_name": "Python 3"
    },
    "language_info": {
      "name": "python"
    }
  },
  "cells": [
    {
      "cell_type": "markdown",
      "source": [
        "#Python Basic Assignment 16\n",
        "##Name := Yash Bhaskar Narkhede"
      ],
      "metadata": {
        "id": "eFlar02Cx8Gq"
      }
    },
    {
      "cell_type": "markdown",
      "source": [
        "## 1. Create a list called years_list, starting with the year of your birth, and each year thereafter until the year of your fifth birthday. For example, if you were born in 1980. the list would be years_list = [1980, 1981, 1982, 1983, 1984, 1985].\n"
      ],
      "metadata": {
        "id": "NVanhEIex_AW"
      }
    },
    {
      "cell_type": "code",
      "source": [
        "year_list = [1998, 1999, 2000, 2001, 2002, 2003]\n",
        "year_list"
      ],
      "metadata": {
        "colab": {
          "base_uri": "https://localhost:8080/"
        },
        "id": "Bu6VM-N8yCNp",
        "outputId": "0403cf7c-03cd-41d2-d534-ad08bc90e31a"
      },
      "execution_count": 1,
      "outputs": [
        {
          "output_type": "execute_result",
          "data": {
            "text/plain": [
              "[1998, 1999, 2000, 2001, 2002, 2003]"
            ]
          },
          "metadata": {},
          "execution_count": 1
        }
      ]
    },
    {
      "cell_type": "markdown",
      "source": [
        "## 2. In which year in years_list was your third birthday? Remember, you were 0 years of age for your first year.\n"
      ],
      "metadata": {
        "id": "MXhcXI1ByE7y"
      }
    },
    {
      "cell_type": "code",
      "source": [
        "year_list[3]"
      ],
      "metadata": {
        "colab": {
          "base_uri": "https://localhost:8080/"
        },
        "id": "eJpX5qcwyG4X",
        "outputId": "efd1e13a-7d40-4030-b6a1-9db68fdf1bb6"
      },
      "execution_count": 2,
      "outputs": [
        {
          "output_type": "execute_result",
          "data": {
            "text/plain": [
              "2001"
            ]
          },
          "metadata": {},
          "execution_count": 2
        }
      ]
    },
    {
      "cell_type": "markdown",
      "source": [
        "## 3.In the years list, which year were you the oldest?\n"
      ],
      "metadata": {
        "id": "AqjN4lqvyJM0"
      }
    },
    {
      "cell_type": "code",
      "source": [
        "year_list[-1]"
      ],
      "metadata": {
        "colab": {
          "base_uri": "https://localhost:8080/"
        },
        "id": "MfNrreCKyKzP",
        "outputId": "a055dbc3-92e0-47aa-9251-5155179a6b9a"
      },
      "execution_count": 3,
      "outputs": [
        {
          "output_type": "execute_result",
          "data": {
            "text/plain": [
              "2003"
            ]
          },
          "metadata": {},
          "execution_count": 3
        }
      ]
    },
    {
      "cell_type": "markdown",
      "source": [
        "## 4. Make a list called things with these three strings as elements: \"mozzarella\", \"cinderella\", \"salmonella\".\n"
      ],
      "metadata": {
        "id": "Ngmxe_fRyN2C"
      }
    },
    {
      "cell_type": "code",
      "source": [
        "things = [\"mozzarella\", \"cinderella\", \"salmonella\"]\n",
        "things"
      ],
      "metadata": {
        "colab": {
          "base_uri": "https://localhost:8080/"
        },
        "id": "KaWjlJ9RyPoB",
        "outputId": "910ad601-02bf-4e5d-92e2-450ef7fab69e"
      },
      "execution_count": 4,
      "outputs": [
        {
          "output_type": "execute_result",
          "data": {
            "text/plain": [
              "['mozzarella', 'cinderella', 'salmonella']"
            ]
          },
          "metadata": {},
          "execution_count": 4
        }
      ]
    },
    {
      "cell_type": "markdown",
      "source": [
        "##5. Capitalize the element in things that refers to a person and then print the list. Did it change the element in the list?\n",
        "\n"
      ],
      "metadata": {
        "id": "YjMppbvlySuI"
      }
    },
    {
      "cell_type": "code",
      "source": [
        "print(things)\n",
        "things[1].capitalize()\n",
        "print(things[1].capitalize())\n",
        "print(things)"
      ],
      "metadata": {
        "colab": {
          "base_uri": "https://localhost:8080/"
        },
        "id": "lNQ8TNzEyVLi",
        "outputId": "41134d95-8e4f-41ee-af31-681f1e03ff13"
      },
      "execution_count": 5,
      "outputs": [
        {
          "output_type": "stream",
          "name": "stdout",
          "text": [
            "['mozzarella', 'cinderella', 'salmonella']\n",
            "Cinderella\n",
            "['mozzarella', 'cinderella', 'salmonella']\n"
          ]
        }
      ]
    },
    {
      "cell_type": "markdown",
      "source": [
        "## 6. Make a surprise list with the elements \"Groucho,\" \"Chico,\" and \"Harpo.\"\n"
      ],
      "metadata": {
        "id": "dBKMDpm3yX9f"
      }
    },
    {
      "cell_type": "code",
      "source": [
        "surprise = [\"Groucho\", \"Chico\", \"Harpo\"]\n",
        "surprise"
      ],
      "metadata": {
        "colab": {
          "base_uri": "https://localhost:8080/"
        },
        "id": "EaV1FOKOyZuX",
        "outputId": "68f349f3-579d-4334-c793-cde848eb81ac"
      },
      "execution_count": 6,
      "outputs": [
        {
          "output_type": "execute_result",
          "data": {
            "text/plain": [
              "['Groucho', 'Chico', 'Harpo']"
            ]
          },
          "metadata": {},
          "execution_count": 6
        }
      ]
    },
    {
      "cell_type": "markdown",
      "source": [
        "## 7. Lowercase the last element of the surprise list, reverse it, and then capitalize it.\n"
      ],
      "metadata": {
        "id": "1x5zAYB_ycpz"
      }
    },
    {
      "cell_type": "code",
      "source": [
        "surprise[-1] = surprise[-1][::-1]\n",
        "surprise[-1] = surprise[-1].capitalize()\n",
        "surprise"
      ],
      "metadata": {
        "colab": {
          "base_uri": "https://localhost:8080/"
        },
        "id": "dAa8-XYQyfoG",
        "outputId": "b288ebf0-009d-4a33-dc13-6990cd9fe8ab"
      },
      "execution_count": 7,
      "outputs": [
        {
          "output_type": "execute_result",
          "data": {
            "text/plain": [
              "['Groucho', 'Chico', 'Oprah']"
            ]
          },
          "metadata": {},
          "execution_count": 7
        }
      ]
    },
    {
      "cell_type": "markdown",
      "source": [
        "## 8. Make an English-to-French dictionary called e2f and print it. Here are your starter words: dog is chien, cat is chat, and walrus is morse.\n"
      ],
      "metadata": {
        "id": "Uv_-05wgyifa"
      }
    },
    {
      "cell_type": "code",
      "source": [
        "e2f = {\n",
        "    \"dog\" : \"chien\",\n",
        "    \"cat\" : \"chat\",\n",
        "    \"walrus\": \"morse\"\n",
        "}\n",
        "print(e2f)"
      ],
      "metadata": {
        "colab": {
          "base_uri": "https://localhost:8080/"
        },
        "id": "Nr4oc_ACykXc",
        "outputId": "1be94d14-9e64-49a9-8e92-ff2d0239fdc3"
      },
      "execution_count": 8,
      "outputs": [
        {
          "output_type": "stream",
          "name": "stdout",
          "text": [
            "{'dog': 'chien', 'cat': 'chat', 'walrus': 'morse'}\n"
          ]
        }
      ]
    },
    {
      "cell_type": "markdown",
      "source": [
        "## 9. Write the French word for walrus in your three-word dictionary e2f.\n",
        "\n"
      ],
      "metadata": {
        "id": "W28Gm6t4ym9d"
      }
    },
    {
      "cell_type": "code",
      "source": [
        "e2f['walrus']"
      ],
      "metadata": {
        "colab": {
          "base_uri": "https://localhost:8080/",
          "height": 35
        },
        "id": "-W0GTjeTyo98",
        "outputId": "754912cd-6525-4e99-a56b-17bb53c4a543"
      },
      "execution_count": 9,
      "outputs": [
        {
          "output_type": "execute_result",
          "data": {
            "text/plain": [
              "'morse'"
            ],
            "application/vnd.google.colaboratory.intrinsic+json": {
              "type": "string"
            }
          },
          "metadata": {},
          "execution_count": 9
        }
      ]
    },
    {
      "cell_type": "markdown",
      "source": [
        "## 10. Make a French-to-English dictionary called f2e from e2f. Use the items method.\n"
      ],
      "metadata": {
        "id": "TW9OOUyvysuX"
      }
    },
    {
      "cell_type": "code",
      "source": [
        "f2e = {v:k for (k,v) in e2f.items()}\n",
        "print(f2e)"
      ],
      "metadata": {
        "colab": {
          "base_uri": "https://localhost:8080/"
        },
        "id": "B52jedAyyw2S",
        "outputId": "546a9afe-d40a-4f36-f8bc-93ed036c7265"
      },
      "execution_count": 10,
      "outputs": [
        {
          "output_type": "stream",
          "name": "stdout",
          "text": [
            "{'chien': 'dog', 'chat': 'cat', 'morse': 'walrus'}\n"
          ]
        }
      ]
    },
    {
      "cell_type": "markdown",
      "source": [
        "## 11. Print the English version of the French word chien using f2e.\n"
      ],
      "metadata": {
        "id": "fpJcU1FCyzRP"
      }
    },
    {
      "cell_type": "code",
      "source": [
        "f2e['chien']"
      ],
      "metadata": {
        "colab": {
          "base_uri": "https://localhost:8080/",
          "height": 35
        },
        "id": "sCVxNW75y1EC",
        "outputId": "242b6ca9-19b5-4b87-8eac-d4dc7552d248"
      },
      "execution_count": 11,
      "outputs": [
        {
          "output_type": "execute_result",
          "data": {
            "text/plain": [
              "'dog'"
            ],
            "application/vnd.google.colaboratory.intrinsic+json": {
              "type": "string"
            }
          },
          "metadata": {},
          "execution_count": 11
        }
      ]
    },
    {
      "cell_type": "markdown",
      "source": [
        "## 12. Make and print a set of English words from the keys in e2f.\n"
      ],
      "metadata": {
        "id": "Yh9omNJ5y4CN"
      }
    },
    {
      "cell_type": "code",
      "source": [
        "print(set(e2f.keys()))"
      ],
      "metadata": {
        "colab": {
          "base_uri": "https://localhost:8080/"
        },
        "id": "o7NU1JP-y5-J",
        "outputId": "08970bff-4fb6-4d22-a159-49ab45acbaea"
      },
      "execution_count": 12,
      "outputs": [
        {
          "output_type": "stream",
          "name": "stdout",
          "text": [
            "{'walrus', 'dog', 'cat'}\n"
          ]
        }
      ]
    },
    {
      "cell_type": "code",
      "execution_count": 13,
      "metadata": {
        "colab": {
          "base_uri": "https://localhost:8080/"
        },
        "id": "6F7AWxtYx1aI",
        "outputId": "f38dc718-429b-47d2-9bdf-689d2c997074"
      },
      "outputs": [
        {
          "output_type": "execute_result",
          "data": {
            "text/plain": [
              "{'cat', 'dog', 'walrus'}"
            ]
          },
          "metadata": {},
          "execution_count": 13
        }
      ],
      "source": [
        "set(e2f.keys())"
      ]
    },
    {
      "cell_type": "markdown",
      "source": [
        "##13. Make a multilevel dictionary called life. Use these strings for the topmost keys: 'animals', 'plants', and 'other'. Make the 'animals' key refer to another dictionary with the keys 'cats', 'octopi', and 'emus'. Make the 'cats' key refer to a list of strings with the values 'Henri', 'Grumpy', and 'Lucy'. Make all the other keys refer to empty dictionaries.\n"
      ],
      "metadata": {
        "id": "Y9_0WGrVzBR3"
      }
    },
    {
      "cell_type": "code",
      "source": [
        "lst_strs = ['Henri', 'Grumpy', 'Lucy']\n",
        "animals = {\n",
        "          \"cats\": lst_strs,\n",
        "          \"octopi\": {},\n",
        "          \"emus\" : {}\n",
        "          }\n",
        "life = {\n",
        "       \"animals\": animals,\n",
        "       \"plants\": {},\n",
        "       \"other\": {}\n",
        "       }\n",
        "\n",
        "print(life)"
      ],
      "metadata": {
        "colab": {
          "base_uri": "https://localhost:8080/"
        },
        "id": "fWiK0S1_zEtr",
        "outputId": "cd6b7e47-e3ef-4211-bdec-4e2c04043976"
      },
      "execution_count": 14,
      "outputs": [
        {
          "output_type": "stream",
          "name": "stdout",
          "text": [
            "{'animals': {'cats': ['Henri', 'Grumpy', 'Lucy'], 'octopi': {}, 'emus': {}}, 'plants': {}, 'other': {}}\n"
          ]
        }
      ]
    },
    {
      "cell_type": "markdown",
      "source": [
        "##14. Print the top-level keys of life.\n"
      ],
      "metadata": {
        "id": "M62gT6KyzJJ9"
      }
    },
    {
      "cell_type": "code",
      "source": [
        "print(life.keys())"
      ],
      "metadata": {
        "colab": {
          "base_uri": "https://localhost:8080/"
        },
        "id": "ommGmKYezLQ0",
        "outputId": "132001dc-bbf4-471e-a7ed-e7fae2abf634"
      },
      "execution_count": 15,
      "outputs": [
        {
          "output_type": "stream",
          "name": "stdout",
          "text": [
            "dict_keys(['animals', 'plants', 'other'])\n"
          ]
        }
      ]
    },
    {
      "cell_type": "markdown",
      "source": [
        "## 15. Print the keys for life['animals'].\n"
      ],
      "metadata": {
        "id": "bvqr4uvczMZN"
      }
    },
    {
      "cell_type": "code",
      "source": [
        "print(life['animals'].keys())"
      ],
      "metadata": {
        "colab": {
          "base_uri": "https://localhost:8080/"
        },
        "id": "y-_FefpozP3J",
        "outputId": "f144b594-9f03-4fa5-c13e-e3408f77395a"
      },
      "execution_count": 16,
      "outputs": [
        {
          "output_type": "stream",
          "name": "stdout",
          "text": [
            "dict_keys(['cats', 'octopi', 'emus'])\n"
          ]
        }
      ]
    },
    {
      "cell_type": "markdown",
      "source": [
        "## 16. Print the values for life['animals']['cats']\n"
      ],
      "metadata": {
        "id": "WrwbxyHUzTDu"
      }
    },
    {
      "cell_type": "code",
      "source": [
        "life['animals']['cats']"
      ],
      "metadata": {
        "colab": {
          "base_uri": "https://localhost:8080/"
        },
        "id": "ZEWa-22ZzVUL",
        "outputId": "ace032a4-66bd-46b0-d9e5-fe519fd30126"
      },
      "execution_count": 17,
      "outputs": [
        {
          "output_type": "execute_result",
          "data": {
            "text/plain": [
              "['Henri', 'Grumpy', 'Lucy']"
            ]
          },
          "metadata": {},
          "execution_count": 17
        }
      ]
    }
  ]
}