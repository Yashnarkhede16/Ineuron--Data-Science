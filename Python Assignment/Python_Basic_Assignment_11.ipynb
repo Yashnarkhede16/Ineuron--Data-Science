{
  "nbformat": 4,
  "nbformat_minor": 0,
  "metadata": {
    "colab": {
      "provenance": [],
      "collapsed_sections": []
    },
    "kernelspec": {
      "name": "python3",
      "display_name": "Python 3"
    },
    "language_info": {
      "name": "python"
    }
  },
  "cells": [
    {
      "cell_type": "markdown",
      "source": [
        "#Python Basic Assignment 11\n",
        "##Name := Yash Bhaskar Narkhede"
      ],
      "metadata": {
        "id": "TAN1iCcYtWnX"
      }
    },
    {
      "cell_type": "markdown",
      "source": [
        "## 1.Create an assert statement that throws an AssertionError if the variable spam is a negative integer.\n",
        "Ans:\n",
        "\n",
        "assert spam > 0, \"Negative not allowed!\""
      ],
      "metadata": {
        "id": "aw6MPAuJtZeS"
      }
    },
    {
      "cell_type": "markdown",
      "source": [
        "## 2.Write an assert statement that triggers an AssertionError if the variables eggs and bacon contain strings that are the same as each other, even if their cases are different (that is, 'hello' and 'hello' are considered the same, and 'goodbye' and 'GOODbye' are also considered the same).\n",
        "Ans:\n",
        "\n",
        "assert eggs.lower()!=bacon.lower(), \"eggs and bacon shouldn't be same!\""
      ],
      "metadata": {
        "id": "u9AD-FhqtcYG"
      }
    },
    {
      "cell_type": "markdown",
      "source": [
        "## 3.Create an assert statement that throws an AssertionError every time.\n",
        "Ans:\n",
        "\n",
        "assert False"
      ],
      "metadata": {
        "id": "WgmABf3Lti2D"
      }
    },
    {
      "cell_type": "markdown",
      "source": [
        "## 4.What are the two lines that must be present in your software in order to call logging.debug()?\n",
        "Ans:\n",
        "\n",
        "import logging\n",
        "\n",
        "logging.basicConfig(fiename, level=logging.DEBUG)\n",
        "\n"
      ],
      "metadata": {
        "id": "FFj8Ke0xtf2l"
      }
    },
    {
      "cell_type": "markdown",
      "source": [
        "## 5.What are the two lines that your program must have in order to have logging.debug() send a logging message to a file named programLog.txt?\n",
        "Ans:\n",
        "\n",
        "import logging\n",
        "\n",
        "logging.basicConfig(fiename, level=logging.DEBUG)"
      ],
      "metadata": {
        "id": "I0-otZLutu-h"
      }
    },
    {
      "cell_type": "markdown",
      "source": [
        "## 6.What are the five levels of logging?\n",
        "Ans:\n",
        "logging.error()\n",
        "\n",
        "logging.warning()\n",
        "\n",
        "logging.info()\n",
        "\n",
        "logging.critical()\n",
        "\n",
        "logging.debug()"
      ],
      "metadata": {
        "id": "dvVP3XkxtrfH"
      }
    },
    {
      "cell_type": "markdown",
      "source": [
        "## 7.What line of code would you add to your software to disable all logging messages?\n",
        "Ans:\n",
        "\n",
        "logging.disable(level)\n",
        "\n"
      ],
      "metadata": {
        "id": "CRAfxUpjt3Z1"
      }
    },
    {
      "cell_type": "markdown",
      "source": [
        "## 8.Why is using logging messages better than using print() to display the same message?\n",
        "Ans:\n",
        "\n",
        "It helps to see where and when a logging call is being made from\n",
        "\n",
        "we can differentiate logging based on severity\n",
        "\n",
        "print does not have any of them"
      ],
      "metadata": {
        "id": "QDSzALP2uCiB"
      }
    },
    {
      "cell_type": "markdown",
      "source": [
        "## 9.What are the differences between the Step Over, Step In, and Step Out buttons in the debugger?\n",
        "Ans:\n",
        "\n",
        "Step In will dig into method calls.\n",
        "\n",
        "Step Over will just execute the line and go to the next line.\n",
        "\n",
        "Step Out Steps out of the current method and takes you to the caller method."
      ],
      "metadata": {
        "id": "fDYUBjWGuELw"
      }
    },
    {
      "cell_type": "markdown",
      "source": [
        "## 10.After you click Continue, when will the debugger stop ?\n",
        "Ans:\n",
        "\n",
        "when it has reached the end of a program or a breakpoint"
      ],
      "metadata": {
        "id": "Y0pIlEdpuIyP"
      }
    },
    {
      "cell_type": "markdown",
      "source": [
        "## 11.What is the concept of a breakpoint?\n",
        "Ans:\n",
        "\n",
        "An intentional stopping point or pause put into program for debugging purpose."
      ],
      "metadata": {
        "id": "JXfvJh1euMGI"
      }
    },
    {
      "cell_type": "markdown",
      "source": [],
      "metadata": {
        "id": "iMNU2EwOt4XF"
      }
    },
    {
      "cell_type": "code",
      "execution_count": null,
      "metadata": {
        "id": "SLKAdFQktN4s"
      },
      "outputs": [],
      "source": []
    }
  ]
}