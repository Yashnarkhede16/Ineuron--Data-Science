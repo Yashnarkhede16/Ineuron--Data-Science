{
  "nbformat": 4,
  "nbformat_minor": 0,
  "metadata": {
    "colab": {
      "provenance": [],
      "collapsed_sections": []
    },
    "kernelspec": {
      "name": "python3",
      "display_name": "Python 3"
    },
    "language_info": {
      "name": "python"
    }
  },
  "cells": [
    {
      "cell_type": "markdown",
      "source": [
        "#Python Basic Assignment 8\n",
        "## Name := Yash Bhaskar Narkhede"
      ],
      "metadata": {
        "id": "0ujli-juogsC"
      }
    },
    {
      "cell_type": "markdown",
      "source": [
        "## 1. Is the Python Standard Library included with PyInputPlus?"
      ],
      "metadata": {
        "id": "GKKLbpngoh2-"
      }
    },
    {
      "cell_type": "markdown",
      "source": [
        "PyInputPlus is not a part of the Python Standard Library, so we need to install it separately using Pip\n",
        "\n",
        "*   pip install PyInputPlus\n",
        "\n",
        "\n"
      ],
      "metadata": {
        "id": "zELTT6TloqGE"
      }
    },
    {
      "cell_type": "markdown",
      "source": [
        "## 2. Why is PyInputPlus commonly imported with import pyinputplus as pypi?"
      ],
      "metadata": {
        "id": "PxrlUGIUozde"
      }
    },
    {
      "cell_type": "markdown",
      "source": [
        "pypi is alias of PyInputPlus. The as pyip code in the import statement saves us from typing pyinputplus each time we want to call a PyInputPlus function. Instead we can use the shorter pyip name\n",
        "\n",
        "*   \n",
        "import PyInputPlus as pypi\n",
        "\n",
        "\n"
      ],
      "metadata": {
        "id": "pHyOssNWo2K9"
      }
    },
    {
      "cell_type": "markdown",
      "source": [
        "## 3. How do you distinguish between inputInt() and inputFloat()?"
      ],
      "metadata": {
        "id": "kqp9uKz9o-Dj"
      }
    },
    {
      "cell_type": "markdown",
      "source": [
        "inputInt() : Accepts an integer value, and returns int value\n",
        "\n",
        "inputFloat() : Accepts integer/floating point value and returns float value\n",
        "\n",
        "Both takes additional parameters ‘min’, ‘max’, ‘greaterThan’ and ‘lessThan’ for bounds"
      ],
      "metadata": {
        "id": "mnEw7Q7opAxs"
      }
    },
    {
      "cell_type": "markdown",
      "source": [
        "## 4. Using PyInputPlus, how do you ensure that the user enters a whole number between 0 and 99?"
      ],
      "metadata": {
        "id": "yN7J1tuypD7B"
      }
    },
    {
      "cell_type": "markdown",
      "source": [
        "In the inputint function we can set the min = 0 and max =99 to ensure user enters number between 0 and 99\n",
        "\n",
        "pyip.inputInt(min = 0, max =99)"
      ],
      "metadata": {
        "id": "Fj-a44h6pGVB"
      }
    },
    {
      "cell_type": "markdown",
      "source": [
        "## 5. What is transferred to the keyword arguments allowRegexes and blockRegexes?"
      ],
      "metadata": {
        "id": "KHoHqSHFpJEm"
      }
    },
    {
      "cell_type": "markdown",
      "source": [
        "We can use regular expressions to specify whether an input is allowed or not.\n",
        "\n",
        "The allowRegexes and blockRegexes keyword arguments take a list of regular expression strings to determine what the PyInputPlus function will accept or reject as valid input.\n",
        "\n",
        "Example:\n",
        "\n",
        "*   pyip.inputNum(allowRegexes=[r'(I|V|X|L|C|D|M)+', r'zero']) # it allowes roman letters as numbers too\n",
        "*   \n",
        "pyip.inputNum(blockRegexes=[r\"[02468]$\"])# blocks the even numbers\n"
      ],
      "metadata": {
        "id": "yOY9kZ-4pLcd"
      }
    },
    {
      "cell_type": "markdown",
      "source": [
        "##6. If a blank input is entered three times, what does inputStr(limit=3) do?"
      ],
      "metadata": {
        "id": "XV2toEAdpVF8"
      }
    },
    {
      "cell_type": "markdown",
      "source": [
        "inputStr(limit=3) will throw RetryLimitException exception."
      ],
      "metadata": {
        "id": "W1nrkMcRpXSk"
      }
    },
    {
      "cell_type": "markdown",
      "source": [
        "## 7. If blank input is entered three times, what does inputStr(limit=3, default='hello') do?\n",
        "When you use limit keyword arguments and also pass a default keyword argument, the function returns the default value instead of raising an exception"
      ],
      "metadata": {
        "id": "_SMTrF2HpZzf"
      }
    },
    {
      "cell_type": "markdown",
      "source": [],
      "metadata": {
        "id": "sJpgpxlfpd-4"
      }
    },
    {
      "cell_type": "markdown",
      "source": [],
      "metadata": {
        "id": "sl9pV1pFpb2R"
      }
    },
    {
      "cell_type": "code",
      "execution_count": null,
      "metadata": {
        "id": "eB2TrKc1oLkX"
      },
      "outputs": [],
      "source": []
    }
  ]
}